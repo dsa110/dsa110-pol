{
 "cells": [
  {
   "cell_type": "code",
   "execution_count": null,
   "id": "b0e47ef0",
   "metadata": {
    "scrolled": true,
    "slideshow": {
     "slide_type": "skip"
    }
   },
   "outputs": [],
   "source": [
    "%load_ext autoreload\n",
    "%autoreload 2\n",
    "import signal\n",
    "import time\n",
    "from dsapol import parsec\n",
    "from dsapol import polbeamform\n",
    "from dsapol import polcal\n",
    "from dsapol import dedisp\n",
    "from dsapol import filt\n",
    "from dsapol import RMcal\n",
    "from dsapol import rmtablefuncs\n",
    "from dsapol import customfilplotfuncs\n",
    "#from dsapol import widget\n",
    "import numpy as np\n",
    "import matplotlib\n",
    "%matplotlib inline\n",
    "from matplotlib import pyplot as plt\n",
    "from dsapol import dsapol\n",
    "from scipy.signal import correlate\n",
    "from scipy.signal import savgol_filter as sf\n",
    "from scipy.signal import convolve\n",
    "from scipy.signal import fftconvolve\n",
    "from scipy.ndimage import convolve1d\n",
    "from scipy.signal import peak_widths\n",
    "from scipy.stats import chi\n",
    "from scipy.stats import norm\n",
    "import copy\n",
    "import glob\n",
    "import csv\n",
    "\n",
    "\n",
    "import matplotlib.image as mpimg\n",
    "from numpy.ma import masked_array as ma\n",
    "from scipy.stats import kstest\n",
    "from scipy.optimize import curve_fit\n",
    "\n",
    "\n",
    "from scipy.signal import find_peaks\n",
    "from scipy.signal import peak_widths\n",
    "import copy\n",
    "import numpy as np\n",
    "\n",
    "from sigpyproc import FilReader\n",
    "from sigpyproc.Filterbank import FilterbankBlock\n",
    "from sigpyproc.Header import Header\n",
    "from matplotlib import pyplot as plt\n",
    "import pylab\n",
    "import pickle\n",
    "import json\n",
    "from scipy.interpolate import interp1d\n",
    "from scipy.stats import chi2\n",
    "from scipy.stats import chi\n",
    "from scipy.signal import savgol_filter as sf\n",
    "from scipy.signal import convolve\n",
    "from scipy.ndimage import convolve1d\n",
    "from RMtools_1D.do_RMsynth_1D import run_rmsynth\n",
    "from RMtools_1D.do_RMclean_1D import run_rmclean\n",
    "from RMtools_1D.do_QUfit_1D_mnest import run_qufit\n",
    "from astropy.time import Time\n",
    "from astropy.coordinates import EarthLocation\n",
    "import astropy.units as u\n",
    "\n",
    "import pandas as pd\n",
    "import mercury as mr\n",
    "import warnings\n",
    "\n",
    "from tqdm.notebook import tqdm\n",
    "from scattering import scat\n",
    "from scintillation import scint\n",
    "from PIL import Image\n"
   ]
  },
  {
   "cell_type": "code",
   "execution_count": null,
   "id": "654baf65",
   "metadata": {
    "slideshow": {
     "slide_type": "skip"
    }
   },
   "outputs": [],
   "source": [
    "tstartup = Time.now()\n",
    "app = mr.App(title=\"(V2) Burst Analysis Dashboard\", description=\"With this dashboard, you can conduct DM tuning, scattering analysis, scintillation analysis, RM synthesis, and polarization analysis.\")"
   ]
  },
  {
   "cell_type": "code",
   "execution_count": null,
   "id": "4364e687",
   "metadata": {
    "slideshow": {
     "slide_type": "skip"
    }
   },
   "outputs": [],
   "source": [
    "# Toggle Sliders Button: switches between panels of widgets for different slides\n",
    "toggle_menu = mr.Select(label='Toggle Widget Panels',\n",
    "                       value='(0) Load Data',\n",
    "                       choices=['(0) Load Data',\n",
    "                               '(1) Dedispersion Tuning',\n",
    "                               '(2) Calibration -- Beamform Cal Voltages',\n",
    "                               '(2) Calibration -- Make Cal Filterbanks',\n",
    "                               '(2) Calibration -- Choose Cal Observations',\n",
    "                               r'(2) Calibration -- Make Cal Solutions ($|g_{yy}|$)',\n",
    "                               r'(2) Calibration -- Make Cal Solutions ($|g_{xx}|/|g_{yy}|$)',\n",
    "                               r'(2) Calibration -- Make Cal Solutions ($\\angle g_{xx} - \\angle g_{yy}$)',\n",
    "                               r'(2) Calibration -- Calibrate',\n",
    "                               '(3) Filter Weights',\n",
    "                               '(4) Scattering Analysis',\n",
    "                               '(5) Scintillation Analysis',\n",
    "                               '(6) RM Synthesis',\n",
    "                               '(7) Polarization Analysis',\n",
    "                               '(8) Archive Data'])"
   ]
  },
  {
   "cell_type": "code",
   "execution_count": null,
   "id": "658fb25f",
   "metadata": {
    "slideshow": {
     "slide_type": "skip"
    }
   },
   "outputs": [],
   "source": [
    "savesessionbutton = mr.Button(label='Save Session',style='primary')\n",
    "restoresessionbutton = mr.Button(label='Restore Session',style='primary')\n",
    "\n",
    "mdown = parsec.restore_screen(savesessionbutton,restoresessionbutton)\n",
    "mr.Note(mdown)"
   ]
  },
  {
   "cell_type": "markdown",
   "id": "232966fb",
   "metadata": {
    "slideshow": {
     "slide_type": "skip"
    }
   },
   "source": [
    "# (0) Load Data"
   ]
  },
  {
   "cell_type": "code",
   "execution_count": null,
   "id": "20b2bb94",
   "metadata": {
    "slideshow": {
     "slide_type": "skip"
    }
   },
   "outputs": [],
   "source": [
    "\n",
    "# widgets\n",
    "hidden = toggle_menu.value != '(0) Load Data'\n",
    "\n",
    "if not hidden:\n",
    "    #frbfiles = parsec.get_frbfiles()\n",
    "    frbfiles_menu = mr.Select(label=\"FRB (candname_nickname):\", \n",
    "                                value=parsec.wdict['frbfiles_menu'],\n",
    "                                choices=parsec.frbfiles,\n",
    "                                hidden=hidden)#frbfiles[0], choices=frbfiles,hidden=hidden)\n",
    "    #load polcal data\n",
    "    polcalloadbutton = mr.Checkbox(value=parsec.wdict['polcalloadbutton'], \n",
    "                                   label=\"Load Pre-Calibrated Data\",hidden=hidden)\n",
    "\n",
    "    base_n_t_slider = mr.Slider( #time downsampling factor\n",
    "        value=parsec.wdict['base_n_t_slider'],\n",
    "        min=1, \n",
    "        max=128, \n",
    "        step=1, \n",
    "        label=r'base $n_t$'\n",
    "    ,hidden=hidden)\n",
    "    base_logn_f_slider = mr.Slider( #freq downsampling factor\n",
    "        value=parsec.wdict['base_logn_f_slider'],\n",
    "        min=0, \n",
    "        max=10, \n",
    "        step=1, \n",
    "        label=r'base ${\\rm log_{2}}({\\rm n_f})$'\n",
    "    ,hidden=hidden)\n",
    "    logibox_slider_init = mr.Slider(\n",
    "        value=parsec.wdict['logibox_slider_init'],\n",
    "        min=0, \n",
    "        max=6, \n",
    "        step=1, \n",
    "        label=r'${\\rm log_{2}}({\\rm ibox})$'\n",
    "    ,hidden=hidden)\n",
    "\n",
    "    buff_L_slider_init = mr.Slider(\n",
    "        value=parsec.wdict['buff_L_slider_init'],\n",
    "        min=1, \n",
    "        max=128, \n",
    "        step=1, \n",
    "        label=r'${\\rm buff}_{L}$'\n",
    "    ,hidden=hidden)\n",
    "    buff_R_slider_init = mr.Slider(\n",
    "        value=parsec.wdict['buff_R_slider_init'],\n",
    "        min=1, \n",
    "        max=128, \n",
    "        step=1, \n",
    "        label=r'${\\rm buff}_{R}$'\n",
    "    ,hidden=hidden)\n",
    "\n",
    "\n",
    "\n",
    "    updatebutton = mr.Button(label='Update FRB Params',style='primary',hidden=hidden)\n",
    "    filbutton = mr.Button(label='Make Filterbanks',style='primary',hidden=hidden)\n",
    "    loadbutton = mr.Button(label='Load FRB Data',style='primary',hidden=hidden)\n",
    "    refreshlogbutton = mr.Button(label='Refresh Log',style='primary',hidden=hidden)\n",
    "\n",
    "\n",
    "    #showlog = mr.Checkbox(value=parsec.wdict['showlog'], label=\"Show Beamformer Log\",hidden=hidden)\n",
    "\n",
    "\n",
    "\n",
    "    #get parameters for default frb\n",
    "    \"\"\"ids = frbfiles_menu.value[:frbfiles_menu.value.index('_')]\n",
    "    RA = parsec.FRB_RA[parsec.FRB_IDS.index(ids)]\n",
    "    DEC = parsec.FRB_DEC[parsec.FRB_IDS.index(ids)]\n",
    "    ibeam = int(parsec.FRB_BEAM[parsec.FRB_IDS.index(ids)])\n",
    "    mjd = parsec.FRB_mjd[parsec.FRB_IDS.index(ids)]\n",
    "    mjd_display = mr.NumberBox(data=mjd,title=r'MJD')\n",
    "    DMinit = parsec.FRB_DM[parsec.FRB_IDS.index(ids)]\n",
    "    \"\"\"\n",
    "\n",
    "    RA_display = mr.NumberBox(data=parsec.wdict['RA_display'], title=r'RA ($^{\\circ}$)')\n",
    "    DEC_display = mr.NumberBox(data=parsec.wdict['DEC_display'], title=r'DEC ($^{\\circ}$)')\n",
    "    ibeam_display = mr.NumberBox(data=parsec.wdict['ibeam_display'], title=r'ibeam')\n",
    "    mjd_display = mr.NumberBox(data=parsec.wdict['mjd_display'],title=r'MJD')\n",
    "    DM_init_display = mr.NumberBox(data=parsec.wdict['DM_init_display'], \n",
    "                                title=r'DM (pc/cm$^{{3}}$)'\n",
    "                               )\n",
    "    z_display = mr.NumberBox(data=parsec.wdict['z_display'], \n",
    "                                title=r'Redshift z'\n",
    "                               )\n",
    "\n",
    "\n",
    "\n",
    "\n"
   ]
  },
  {
   "cell_type": "code",
   "execution_count": null,
   "id": "85cd20ed",
   "metadata": {
    "slideshow": {
     "slide_type": "slide"
    }
   },
   "outputs": [],
   "source": [
    "\n",
    "import warnings\n",
    "if not hidden:\n",
    "    def mywarning(message, category, filename, lineno, file=None, line=None):\n",
    "        warning_file = open(polbeamform.logfile, \"a\")\n",
    "        warning_file.write(warnings.formatwarning(message, category, filename, lineno, line))\n",
    "        warning_file.close()\n",
    "\n",
    "    warnings.showwarning = mywarning\n",
    "\n",
    "    #Slide Title\n",
    "    mr.Markdown(\"### (0) Load Data\")"
   ]
  },
  {
   "cell_type": "code",
   "execution_count": null,
   "id": "98e8b6ef",
   "metadata": {
    "slideshow": {
     "slide_type": "-"
    }
   },
   "outputs": [],
   "source": [
    "#main screen function\n",
    "#if parsec.state_dict[\"current_state\"] >= parsec.state_map['load']:\n",
    "if not hidden:\n",
    "    im = None\n",
    "    try:\n",
    "\n",
    "        im = parsec.load_screen(frbfiles_menu,base_n_t_slider,base_logn_f_slider,logibox_slider_init,\n",
    "               buff_L_slider_init,buff_R_slider_init,RA_display,DEC_display,DM_init_display,ibeam_display,\n",
    "               mjd_display,z_display,updatebutton,filbutton,\n",
    "               loadbutton,polcalloadbutton)\n",
    "    except KeyError as ex:\n",
    "        print(\"Preceding Stages Required\")\n",
    "    im"
   ]
  },
  {
   "cell_type": "code",
   "execution_count": null,
   "id": "8d070422",
   "metadata": {
    "slideshow": {
     "slide_type": "skip"
    }
   },
   "outputs": [],
   "source": [
    "# output displays"
   ]
  },
  {
   "cell_type": "code",
   "execution_count": null,
   "id": "9d2d3396",
   "metadata": {
    "slideshow": {
     "slide_type": "subslide"
    }
   },
   "outputs": [],
   "source": [
    "if not hidden:\n",
    "    #display filterbank files if they exist\n",
    "    if 'fils' in parsec.state_dict.keys():\n",
    "        if len(parsec.state_dict['fils']) == 0:\n",
    "            mr.Markdown(text=r'##### **Filterbanks:** None Found')\n",
    "        else:\n",
    "            mr.Markdown(text=r'##### **Filterbanks:** ')\n",
    "            for f in parsec.state_dict['fils']:\n",
    "                mr.Markdown(r'###### -' + str(f))\n",
    "\n",
    "    #display beamformer weights date if exists\n",
    "    if 'bfweights' in parsec.state_dict.keys():\n",
    "        if parsec.state_dict['bfweights'] is None:\n",
    "            bfweights_text = r'##### **Beamformer Weights:** None Found'\n",
    "        else:\n",
    "            bfweights_text = r'##### **Beamformer Weights:** ' + parsec.state_dict['bfweights']\n",
    "        bfweights_display = mr.Markdown(text=bfweights_text)\n"
   ]
  },
  {
   "cell_type": "code",
   "execution_count": null,
   "id": "c88b5660",
   "metadata": {
    "slideshow": {
     "slide_type": "subslide"
    }
   },
   "outputs": [],
   "source": [
    "if not hidden:\n",
    "    #if not (parsec.state_dict[\"current_state\"] >= parsec.state_map['load']): raise parsec.StopExecution\n",
    "    mr.Markdown(\"##### FRB Parameters\")\n",
    "    nbox=mr.NumberBox([RA_display,DEC_display,z_display,ibeam_display])\n",
    "else: nbox = None\n",
    "nbox"
   ]
  },
  {
   "cell_type": "code",
   "execution_count": null,
   "id": "1f67371c",
   "metadata": {
    "slideshow": {
     "slide_type": "-"
    }
   },
   "outputs": [],
   "source": [
    "if not hidden:\n",
    "    #if not (parsec.state_dict[\"current_state\"] >= parsec.state_map['load']): raise parsec.StopExecution\n",
    "    nbox=mr.NumberBox([mjd_display,DM_init_display])\n",
    "else: nbox = None\n",
    "nbox"
   ]
  },
  {
   "cell_type": "code",
   "execution_count": null,
   "id": "40ce26d9",
   "metadata": {
    "slideshow": {
     "slide_type": "subslide"
    }
   },
   "outputs": [],
   "source": [
    "if not hidden:\n",
    "    # display the output of the logfile\n",
    "    #if parsec.state_dict[\"current_state\"] == parsec.state_map['load']:\n",
    "    mr.Markdown(\"##### Log:\")\n",
    "    #if showlog.value:# or refreshlogbutton.clicked:\n",
    "    flog = open(polbeamform.logfile,\"r\")\n",
    "    logtext = flog.read()\n",
    "    flog.close()\n",
    "    mr.Markdown(text=(logtext.replace('\\n','\\n\\n')))\n"
   ]
  },
  {
   "cell_type": "markdown",
   "id": "0b01da2a",
   "metadata": {
    "slideshow": {
     "slide_type": "skip"
    }
   },
   "source": [
    "# (1) Dedispersion Tuning"
   ]
  },
  {
   "cell_type": "code",
   "execution_count": null,
   "id": "a3dde1af",
   "metadata": {
    "slideshow": {
     "slide_type": "skip"
    }
   },
   "outputs": [],
   "source": [
    "#if parsec.state_dict[\"current_state\"] == parsec.state_map['dedisp']:\n",
    "\n",
    "hidden=toggle_menu.value != '(1) Dedispersion Tuning'\n",
    "if not hidden:\n",
    "    #widgets for DM tuning dashboard\n",
    "    n_t_slider = mr.Slider( #time downsampling factor\n",
    "        value=parsec.wdict['n_t_slider'],\n",
    "        min=1, \n",
    "        max=128, \n",
    "        step=1, \n",
    "        label='$n_t$'\n",
    "    ,hidden=hidden)\n",
    "    logn_f_slider = mr.Slider( #freq downsampling factor\n",
    "        value=parsec.wdict['logn_f_slider'],\n",
    "        min=0, \n",
    "        max=10, \n",
    "        step=1, \n",
    "        label='${\\\\rm log_{2}}(n_f)$'\n",
    "    ,hidden=hidden)\n",
    "    logwindow_slider_init = mr.Slider(\n",
    "        value=parsec.wdict['logwindow_slider_init'],\n",
    "        min=5, \n",
    "        max=9, \n",
    "        step=1, \n",
    "        label=r'base ${\\rm log_{2}}({\\rm window})$'\n",
    "    ,hidden=hidden)\n",
    "    dmstep = dedisp.get_min_DM_step(n_t_slider.value)#np.around((32.7e-3)*n_t_slider.value/(4.15)/((1/1.307**2) - (1/1.493**2)),2) #pc/cc\n",
    "    ddm_num = mr.Numeric(value=parsec.wdict['ddm_num'], #DM offset\n",
    "                         step=dmstep,\n",
    "                         min=-100,max=100,\n",
    "                         label='$\\Delta {\\\\rm DM}$'\n",
    "                        ,hidden=hidden)\n",
    "\n",
    "    DMdonebutton = mr.Button(label='Confirm DM',\n",
    "                             style='primary',\n",
    "                            hidden=hidden)\n",
    "    saveplotbutton = mr.Button(label='Save Plot',\n",
    "                             style='primary',\n",
    "                            hidden=hidden)\n",
    "\n"
   ]
  },
  {
   "cell_type": "code",
   "execution_count": null,
   "id": "aaa33ab7",
   "metadata": {
    "slideshow": {
     "slide_type": "slide"
    }
   },
   "outputs": [],
   "source": [
    "if not hidden:\n",
    "    def mywarning(message, category, filename, lineno, file=None, line=None):\n",
    "        warning_file = open(dedisp.logfile, \"a\")\n",
    "        warning_file.write(warnings.formatwarning(message, category, filename, lineno, line))\n",
    "        warning_file.close()\n",
    "\n",
    "    warnings.showwarning = mywarning\n",
    "    # slide title\n",
    "    mr.Markdown(\"### (1) Dedispersion Tuning\")"
   ]
  },
  {
   "cell_type": "code",
   "execution_count": null,
   "id": "e642b9f6",
   "metadata": {
    "slideshow": {
     "slide_type": "-"
    }
   },
   "outputs": [],
   "source": [
    "if not hidden:\n",
    "    mr.Markdown(\"##### DM Parameters\")\n",
    "\n",
    "\n",
    "    #if not (parsec.state_dict[\"current_state\"] >= parsec.state_map['dedisp']): raise parsec.StopExecution\n",
    "    DM_input_display = mr.NumberBox(data=parsec.wdict['DM_input_display'],#parsec.FRB_DM[parsec.FRB_IDS.index(ids)], \n",
    "                                    title=r'Input DM (pc/cm$^{{3}}$)'\n",
    "                                   )\n",
    "    DM_new_display = mr.NumberBox(data=DM_input_display.data + ddm_num.value, \n",
    "                                  title=r'New DM (pc/cm$^{{3}}$)'\n",
    "                                 )\n",
    "\n",
    "    nbox=mr.NumberBox([DM_input_display,DM_new_display])\n",
    "else: nbox = None\n",
    "nbox"
   ]
  },
  {
   "cell_type": "code",
   "execution_count": null,
   "id": "1fe8a508",
   "metadata": {
    "slideshow": {
     "slide_type": "subslide"
    }
   },
   "outputs": [],
   "source": [
    "if not hidden:\n",
    "    #if parsec.state_dict[\"current_state\"] >= parsec.state_map['dedisp']:\n",
    "    #create DM screen\n",
    "    #if parsec.state_dict[\"current_state\"] >= parsec.state_map['dedisp']:\n",
    "    try:\n",
    "        parsec.dedisp_screen(n_t_slider,logn_f_slider,logwindow_slider_init,ddm_num,\n",
    "                             DM_input_display,DM_new_display,DMdonebutton,saveplotbutton)\n",
    "    except KeyError as ex:\n",
    "        print(\"Preceding Stages Required\")\n"
   ]
  },
  {
   "cell_type": "code",
   "execution_count": null,
   "id": "9b06d989",
   "metadata": {
    "slideshow": {
     "slide_type": "subslide"
    }
   },
   "outputs": [],
   "source": [
    "if not hidden:\n",
    "    # display the output of the logfile\n",
    "    mr.Markdown(\" Log:\")\n",
    "    #if showlogcal.value:# or refreshlogbutton.clicked:\n",
    "    flog = open(dedisp.logfile,\"r\")\n",
    "    logtext = flog.read()\n",
    "    flog.close()\n",
    "    mr.Markdown(text=(logtext.replace('\\n','\\n\\n')))\n"
   ]
  },
  {
   "cell_type": "markdown",
   "id": "4807b632",
   "metadata": {
    "slideshow": {
     "slide_type": "skip"
    }
   },
   "source": [
    "# (2) Calibration"
   ]
  },
  {
   "cell_type": "code",
   "execution_count": null,
   "id": "8fa4a522",
   "metadata": {
    "slideshow": {
     "slide_type": "skip"
    }
   },
   "outputs": [],
   "source": [
    "#if parsec.state_dict[\"current_state\"] == parsec.state_map['polcal']:\n",
    "#widgets for pol cal dashboard\n",
    "#if we want to create new cal solutions from voltage files on T3, choose from here\n",
    "\n",
    "hidden = toggle_menu.value != '(2) Calibration -- Beamform Cal Voltages'\n",
    "if not hidden:\n",
    "    \"\"\"polcaldates = []\n",
    "    for k in parsec.polcal_dict.keys():\n",
    "        if 'polcal' not in str(k):\n",
    "            polcaldates.append(str(k))\"\"\"\n",
    "    polcaldate_create_menu = mr.Select(label=\"Observation Date for New Polarization Calibration Solution ('YYYY-MM-DD'):\", \n",
    "                                value=parsec.wdict['polcaldate_create_menu'], \n",
    "                                choices=[\"\"] + list(parsec.polcaldates)\n",
    "                               ,hidden=hidden)\n",
    "    polcopybutton = mr.Button(label='Copy T3 Voltages and Beamformer Weights',\n",
    "                             style='primary',hidden=hidden)\n",
    "\n",
    "\n",
    "    #if we want to create new cal solutions from voltage files that are ALREADY COPIED TO H23 choose from here\n",
    "    #polcalfiles_bf = polcal.get_avail_caldates()\n",
    "    polcaldate_bf_menu = mr.Select(label=\"Available Polarization Calibration Dates ('YYYY-MM-DD'):\", \n",
    "                                value=parsec.wdict['polcaldate_bf_menu'], \n",
    "                                choices=[\"\"] + list(parsec.polcalfiles_bf)\n",
    "                               ,hidden=hidden)\n",
    "\n",
    "\n",
    "    bfcal_button = mr.Button(label='Run Cal Beamformer',style='primary',hidden=hidden)\n",
    "\n"
   ]
  },
  {
   "cell_type": "code",
   "execution_count": null,
   "id": "faeb26f4",
   "metadata": {
    "slideshow": {
     "slide_type": "skip"
    }
   },
   "outputs": [],
   "source": [
    "\n",
    "hidden = (toggle_menu.value != '(2) Calibration -- Make Cal Filterbanks') and (toggle_menu.value != '(2) Calibration -- Choose Cal Observations')\n",
    "if not hidden:\n",
    "    polcaldate_findbeams_menu = mr.Select(label=\"Available Dates With Voltages or Filterbanks on h23 ('YYYY-MM-DD'):\", \n",
    "                                value=parsec.wdict['polcaldate_findbeams_menu'],#polcalfiles_findbeams[0], \n",
    "                                choices=list(parsec.polcalfiles_findbeams)\n",
    "                               ,hidden=hidden)"
   ]
  },
  {
   "cell_type": "code",
   "execution_count": null,
   "id": "d9f95bd2",
   "metadata": {
    "slideshow": {
     "slide_type": "skip"
    }
   },
   "outputs": [],
   "source": [
    "hidden = toggle_menu.value != '(2) Calibration -- Make Cal Filterbanks'\n",
    "if not hidden:\n",
    "    #if we want to start from formed beams in scratch directory\n",
    "    #polcalfiles_findbeams = polcal.get_beamfinding_files()\n",
    "\n",
    "\n",
    "    findbeams_button = mr.Button(label='Find Beam Numbers',style='primary',hidden=hidden)\n",
    "    filcalbutton = mr.Button(label='Make Calibrator Filterbanks',style='primary',hidden=hidden)\n",
    "\n",
    "\n",
    "    refreshlogcalbutton = mr.Button(label='Refresh Log',style='primary',hidden=hidden)\n",
    "\n"
   ]
  },
  {
   "cell_type": "code",
   "execution_count": null,
   "id": "81805d36",
   "metadata": {
    "slideshow": {
     "slide_type": "skip"
    }
   },
   "outputs": [],
   "source": [
    "hidden = toggle_menu.value != '(2) Calibration -- Choose Cal Observations'\n",
    "if not hidden:\n",
    "    #if we want to make solution from filterbanks\n",
    "    obs_files,obs_ids = polcal.get_calfil_files('3C48',polcaldate_findbeams_menu.value,'3C48*0')\n",
    "    #initval = ''\n",
    "    \"\"\"if 'cal_name_3C48_center' in parsec.polcal_dict.keys():\n",
    "        initval = parsec.polcal_dict['cal_name_3C48_center']\n",
    "    \"\"\"\n",
    "    obsid3C48_menu = mr.Select(label=\"3C48 Cal Observation ID:\", \n",
    "                                value=parsec.wdict['obsid3C48_menu'], \n",
    "                                choices=[\"\"] + list(obs_ids)\n",
    "                               ,hidden=hidden)\n",
    "    obs_files,obs_ids = polcal.get_calfil_files('3C286',polcaldate_findbeams_menu.value,'3C286*0')\n",
    "    #initval = ''\n",
    "    \"\"\"if 'cal_name_3C286_center' in parsec.polcal_dict.keys():\n",
    "        initval = parsec.polcal_dict['cal_name_3C286_center']\n",
    "    \"\"\"\n",
    "    obsid3C286_menu = mr.Select(label=\"3C286 Cal Observation ID:\", \n",
    "                                value=parsec.wdict['obsid3C286_menu'], \n",
    "                                choices=[\"\"] + list(obs_ids)\n",
    "                               ,hidden=hidden)\n",
    "    ParA_display = mr.NumberBox(data=parsec.wdict['ParA_display'], title=r'Parallactic Angle ($^{\\circ}$)') \n",
    "\n",
    "    saveplotbutton = mr.Button(label='Save Plot',\n",
    "                             style='primary',\n",
    "                            hidden=hidden)\n",
    "else: ParA_display = None\n",
    "ParA_display"
   ]
  },
  {
   "cell_type": "code",
   "execution_count": null,
   "id": "44b8366b",
   "metadata": {
    "slideshow": {
     "slide_type": "skip"
    }
   },
   "outputs": [],
   "source": [
    "\n",
    "hidden = toggle_menu.value != r'(2) Calibration -- Make Cal Solutions ($|g_{yy}|$)'\n",
    "if not hidden:\n",
    "    peakheight_slider = mr.Slider( \n",
    "        value=parsec.wdict['peakheight_slider'],\n",
    "        min=1, \n",
    "        max=10, \n",
    "        step=1, \n",
    "        label=r'Peak Height'\n",
    "    ,hidden=hidden)\n",
    "    peakwidth_slider = mr.Slider( \n",
    "        value=parsec.wdict['peakwidth_slider'],\n",
    "        min=1, \n",
    "        max=20, \n",
    "        step=1, \n",
    "        label=r'Peak Width'\n",
    "    ,hidden=hidden)\n",
    "    sfflag =  mr.Checkbox(value=parsec.wdict['sfflag'], label=\"Savgol Filter\",hidden=hidden)\n",
    "    sf_window_weight_cals = mr.Slider( \n",
    "        value=parsec.wdict['sf_window_weight_cals'],\n",
    "        min=3, \n",
    "        max=510, \n",
    "        step=2, \n",
    "        label=r'$sf_{ww}$'\n",
    "    ,hidden=hidden)\n",
    "    sf_order_cals = mr.Slider( \n",
    "        value=parsec.wdict['sf_order_cals'],\n",
    "        min=1, \n",
    "        max=10, \n",
    "        step=1, \n",
    "        label=r'$sf_{o}$'\n",
    "    ,hidden=hidden)\n",
    "    polyfitflag =  mr.Checkbox(value=parsec.wdict['polyfitflag'], label=\"Fit with Polynomial\",hidden=hidden)\n",
    "    polyfitorder_slider = mr.Slider( \n",
    "        value=parsec.wdict['polyfitorder_slider'],\n",
    "        min=1, \n",
    "        max=9, \n",
    "        step=1, \n",
    "        label=r'Polynomial Fit Degree'\n",
    "    ,hidden=hidden)\n",
    "    edgefreq_slider = mr.Slider( \n",
    "        value=parsec.wdict['edgefreq_slider'],\n",
    "        min=1311.25000003072, \n",
    "        max=1498.75, \n",
    "        step=30.4e-3, \n",
    "        label=r'Edge Frequency (MHz) Cutoff (for Fitting Piecewise Solution)'\n",
    "    ,hidden=hidden)\n",
    "    breakfreq_slider = mr.Slider( \n",
    "        value=parsec.wdict['breakfreq_slider'],\n",
    "        min=1311.25000003072, \n",
    "        max=1498.75, \n",
    "        step=30.4e-3, \n",
    "        label=r'Break Frequency (MHz) Cutoff (for Stitching Piecewise Solution)'\n",
    "    ,hidden=hidden)\n"
   ]
  },
  {
   "cell_type": "code",
   "execution_count": null,
   "id": "982e0f26",
   "metadata": {
    "slideshow": {
     "slide_type": "skip"
    }
   },
   "outputs": [],
   "source": [
    "\n",
    "\n",
    "hidden = toggle_menu.value != r'(2) Calibration -- Make Cal Solutions ($|g_{xx}|/|g_{yy}|$)'\n",
    "if not hidden:\n",
    "    ratio_peakheight_slider = mr.Slider( \n",
    "        value=parsec.wdict['ratio_peakheight_slider'],\n",
    "        min=1, \n",
    "        max=10, \n",
    "        step=1, \n",
    "        label=r'Peak Height'\n",
    "    ,hidden=hidden)\n",
    "    ratio_peakwidth_slider = mr.Slider( \n",
    "        value=parsec.wdict['ratio_peakwidth_slider'],\n",
    "        min=1, \n",
    "        max=20, \n",
    "        step=1, \n",
    "        label=r'Peak Width'\n",
    "    ,hidden=hidden)\n",
    "    ratio_sfflag =  mr.Checkbox(value=parsec.wdict['ratio_sfflag'], label=\"Savgol Filter\",hidden=hidden)\n",
    "    ratio_sf_window_weight_cals = mr.Slider( \n",
    "        value=parsec.wdict['ratio_sf_window_weight_cals'],\n",
    "        min=3, \n",
    "        max=510, \n",
    "        step=2, \n",
    "        label=r'$sf_{ww}$'\n",
    "    ,hidden=hidden)\n",
    "    ratio_sf_order_cals = mr.Slider( \n",
    "        value=parsec.wdict['ratio_sf_order_cals'],\n",
    "        min=1, \n",
    "        max=10, \n",
    "        step=1, \n",
    "        label=r'$sf_{o}$'\n",
    "    ,hidden=hidden)\n",
    "    ratio_polyfitflag =  mr.Checkbox(value=parsec.wdict['ratio_polyfitflag'], label=\"Fit with Polynomial\",hidden=hidden)\n",
    "    ratio_polyfitorder_slider = mr.Slider( \n",
    "        value=parsec.wdict['ratio_polyfitorder_slider'],\n",
    "        min=1, \n",
    "        max=9, \n",
    "        step=1, \n",
    "        label=r'Polynomial Fit Degree'\n",
    "    ,hidden=hidden)\n",
    "    ratio_edgefreq_slider = mr.Slider( \n",
    "        value=parsec.wdict['ratio_edgefreq_slider'],\n",
    "        min=1311.25000003072, \n",
    "        max=1498.75, \n",
    "        step=30.4e-3, \n",
    "        label=r'Edge Frequency (MHz) Cutoff (for Fitting Piecewise Solution)'\n",
    "    ,hidden=hidden)\n",
    "    ratio_breakfreq_slider = mr.Slider( \n",
    "        value=parsec.wdict['ratio_breakfreq_slider'],\n",
    "        min=1311.25000003072, \n",
    "        max=1498.75, \n",
    "        step=30.4e-3, \n",
    "        label=r'Break Frequency (MHz) Cutoff (for Stitching Piecewise Solution)'\n",
    "    ,hidden=hidden)"
   ]
  },
  {
   "cell_type": "code",
   "execution_count": null,
   "id": "fa96031a",
   "metadata": {
    "slideshow": {
     "slide_type": "skip"
    }
   },
   "outputs": [],
   "source": [
    "\n",
    "hidden = toggle_menu.value != r'(2) Calibration -- Make Cal Solutions ($\\angle g_{xx} - \\angle g_{yy}$)'\n",
    "if not hidden:\n",
    "    phase_peakheight_slider = mr.Slider( \n",
    "        value=parsec.wdict['phase_peakheight_slider'],\n",
    "        min=1, \n",
    "        max=10, \n",
    "        step=1, \n",
    "        label=r'Peak Height'\n",
    "    ,hidden=hidden)\n",
    "    phase_peakwidth_slider = mr.Slider( \n",
    "        value=parsec.wdict['phase_peakwidth_slider'],\n",
    "        min=1, \n",
    "        max=20, \n",
    "        step=1, \n",
    "        label=r'Peak Width'\n",
    "    ,hidden=hidden)\n",
    "    phase_sfflag =  mr.Checkbox(value=parsec.wdict['phase_sfflag'], label=\"Savgol Filter\",hidden=hidden)\n",
    "    phase_sf_window_weight_cals = mr.Slider( \n",
    "        value=parsec.wdict['phase_sf_window_weight_cals'],\n",
    "        min=3, \n",
    "        max=510, \n",
    "        step=2, \n",
    "        label=r'$sf_{ww}$'\n",
    "    ,hidden=hidden)\n",
    "    phase_sf_order_cals = mr.Slider( \n",
    "        value=parsec.wdict['phase_sf_order_cals'],\n",
    "        min=1, \n",
    "        max=10, \n",
    "        step=1, \n",
    "        label=r'$sf_{o}$'\n",
    "    ,hidden=hidden)\n",
    "    phase_polyfitflag =  mr.Checkbox(value=parsec.wdict['phase_polyfitflag'], label=\"Fit with Polynomial\",hidden=hidden)\n",
    "    phase_polyfitorder_slider = mr.Slider( \n",
    "        value=parsec.wdict['phase_polyfitorder_slider'],\n",
    "        min=1, \n",
    "        max=9, \n",
    "        step=1, \n",
    "        label=r'Polynomial Fit Degree'\n",
    "    ,hidden=hidden)\n",
    "\n",
    "    savecalsolnbutton = mr.Button(label='Save Cal Solution',\n",
    "                             style='primary',hidden=hidden)\n"
   ]
  },
  {
   "cell_type": "code",
   "execution_count": null,
   "id": "b14c606d",
   "metadata": {
    "slideshow": {
     "slide_type": "skip"
    }
   },
   "outputs": [],
   "source": [
    "hidden = toggle_menu.value != r'(2) Calibration -- Calibrate'\n",
    "if not hidden:\n",
    "    #if pol cal solution already exists\n",
    "    #polcalfiles = glob.glob(parsec.default_path + 'POLCAL_PARAMETERS_*csv')\n",
    "    #polcalfiles = [polcalfiles[i][polcalfiles[i].index('POLCAL'):] for i in range(len(polcalfiles))]\n",
    "    polcaldate_menu = mr.Select(label=\"Polarization Calibration File ('YY-MM-DD'):\", \n",
    "                                value=parsec.wdict['polcaldate_menu'], \n",
    "                                choices=[\"\"] + parsec.polcalfiles\n",
    "                               ,hidden=hidden)\n",
    "\n",
    "    polcalbutton = mr.Button(label='Calibrate',\n",
    "                             style='primary',hidden=hidden)\n",
    "\n",
    "\n",
    "    #showlogcal = mr.Checkbox(value=parsec.wdict['showlogcal'], label=\"Show Pol Cal Log\",hidden=hidden)\n"
   ]
  },
  {
   "cell_type": "code",
   "execution_count": null,
   "id": "f17b95a9",
   "metadata": {
    "slideshow": {
     "slide_type": "skip"
    }
   },
   "outputs": [],
   "source": [
    "hidden = ((toggle_menu.value != r'(2) Calibration -- Calibrate') and\n",
    "          (toggle_menu.value != r'(2) Calibration -- Make Cal Solutions ($|g_{yy}|$)') and \n",
    "          (toggle_menu.value != r'(2) Calibration -- Make Cal Solutions ($|g_{xx}|/|g_{yy}|$)') and\n",
    "          (toggle_menu.value != r'(2) Calibration -- Make Cal Solutions ($\\angle g_{xx} - \\angle g_{yy}$)'))\n",
    "if not hidden:         \n",
    "    saveplotbutton = mr.Button(label='Save Plot',\n",
    "                             style='primary',\n",
    "                            hidden=hidden)"
   ]
  },
  {
   "cell_type": "code",
   "execution_count": null,
   "id": "8f475b18",
   "metadata": {
    "slideshow": {
     "slide_type": "slide"
    }
   },
   "outputs": [],
   "source": [
    "import warnings\n",
    "if not hidden:\n",
    "    def mywarning(message, category, filename, lineno, file=None, line=None):\n",
    "        warning_file = open(polcal.logfile, \"a\")\n",
    "        warning_file.write(warnings.formatwarning(message, category, filename, lineno, line))\n",
    "        warning_file.close()\n",
    "\n",
    "    warnings.showwarning = mywarning\n",
    "    mr.Markdown(\"### (2) Calibration\")\n"
   ]
  },
  {
   "cell_type": "code",
   "execution_count": null,
   "id": "40da066f",
   "metadata": {
    "slideshow": {
     "slide_type": "-"
    }
   },
   "outputs": [],
   "source": [
    "#%%capture --no-stderr\n",
    "#%%capture --no-stdout\n",
    "#create pol cal screen\n",
    "#warnings.resetwarnings()\n",
    "if not hidden:\n",
    "    mr.Markdown(\" Observation Beams:\")\n",
    "    #if parsec.state_dict[\"current_state\"] >= parsec.state_map['polcal']:\n",
    "    try:\n",
    "        beam_dict_3C48,beam_dict_3C286 = parsec.polcal_screen(polcaldate_menu,polcaldate_create_menu,polcaldate_bf_menu,polcaldate_findbeams_menu,obsid3C48_menu,obsid3C286_menu,\n",
    "                                                         polcalbutton,polcopybutton,bfcal_button,findbeams_button,filcalbutton,ParA_display,\n",
    "                                                         edgefreq_slider,breakfreq_slider,sf_window_weight_cals,sf_order_cals,peakheight_slider,peakwidth_slider,polyfitorder_slider,\n",
    "                                                         ratio_edgefreq_slider,ratio_breakfreq_slider,ratio_sf_window_weight_cals,ratio_sf_order_cals,ratio_peakheight_slider,ratio_peakwidth_slider,ratio_polyfitorder_slider,\n",
    "                                                         phase_sf_window_weight_cals,phase_sf_order_cals,phase_peakheight_slider,phase_peakwidth_slider,phase_polyfitorder_slider,savecalsolnbutton,\n",
    "                                                         sfflag,polyfitflag,ratio_sfflag,ratio_polyfitflag,phase_sfflag,phase_polyfitflag,saveplotbutton)\n",
    "    except KeyError as ex:\n",
    "        print(\"Preceding Stages Required\")\n",
    "    "
   ]
  },
  {
   "cell_type": "code",
   "execution_count": null,
   "id": "3048b834",
   "metadata": {
    "slideshow": {
     "slide_type": "subslide"
    }
   },
   "outputs": [],
   "source": [
    "#%%capture --no-stderr\n",
    "#%%capture --no-stdout\n",
    "#create pol cal screen\n",
    "#if parsec.state_dict[\"current_state\"] >= parsec.state_map['polcal']:\n",
    "if not hidden:\n",
    "    mr.Markdown(\" Polarization Calibration Solution:\")\n",
    "    try:\n",
    "        fig = parsec.polcal_screen2(polcaldate_menu,polcaldate_create_menu,polcaldate_bf_menu,polcaldate_findbeams_menu,obsid3C48_menu,obsid3C286_menu,\n",
    "                                                         polcalbutton,polcopybutton,bfcal_button,findbeams_button,filcalbutton,ParA_display,\n",
    "                                                         edgefreq_slider,breakfreq_slider,sf_window_weight_cals,sf_order_cals,peakheight_slider,peakwidth_slider,polyfitorder_slider,\n",
    "                                                         ratio_edgefreq_slider,ratio_breakfreq_slider,ratio_sf_window_weight_cals,ratio_sf_order_cals,ratio_peakheight_slider,ratio_peakwidth_slider,ratio_polyfitorder_slider,\n",
    "                                                         phase_sf_window_weight_cals,phase_sf_order_cals,phase_peakheight_slider,phase_peakwidth_slider,phase_polyfitorder_slider,savecalsolnbutton,\n",
    "                                                         sfflag,polyfitflag,ratio_sfflag,ratio_polyfitflag,phase_sfflag,phase_polyfitflag,beam_dict_3C48,beam_dict_3C286,saveplotbutton)\n",
    "    except KeyError as ex:\n",
    "        print(\"Preceding Stages Required\")"
   ]
  },
  {
   "cell_type": "code",
   "execution_count": null,
   "id": "8dfd93f4",
   "metadata": {
    "slideshow": {
     "slide_type": "skip"
    }
   },
   "outputs": [],
   "source": [
    "\"\"\"\n",
    "mr.Markdown(\" Polarization Calibration Solution:\")\n",
    "try:\n",
    "    fig\n",
    "except:\n",
    "    fig = None\n",
    "    fig\"\"\""
   ]
  },
  {
   "cell_type": "code",
   "execution_count": null,
   "id": "34115cf9",
   "metadata": {
    "slideshow": {
     "slide_type": "subslide"
    }
   },
   "outputs": [],
   "source": [
    "if not hidden:\n",
    "    mr.Markdown(\" Parallactic Angle Estimate:\")\n",
    "    #if not (parsec.state_dict[\"current_state\"] >= parsec.state_map['polcal']): raise parsec.StopExecution\n",
    "    ParA_display"
   ]
  },
  {
   "cell_type": "code",
   "execution_count": null,
   "id": "c412f331",
   "metadata": {
    "slideshow": {
     "slide_type": "subslide"
    }
   },
   "outputs": [],
   "source": [
    "#table of new pol cal data\n",
    "if not hidden:\n",
    "    mr.Markdown(\" Table of Pol Cal Voltages on T3:\")\n",
    "    mr.Table(data=parsec.df_polcal, width=\"200px\")\n"
   ]
  },
  {
   "cell_type": "code",
   "execution_count": null,
   "id": "f214a9f1",
   "metadata": {
    "slideshow": {
     "slide_type": "subslide"
    }
   },
   "outputs": [],
   "source": [
    "if not hidden:\n",
    "    mr.Markdown(\" Selected 3C48 Pol Cal Files:\")\n",
    "    #display voltages and beamformer weight files for current selection\n",
    "    if polcaldate_bf_menu.value != \"\":\n",
    "        #display filterbank files if they exist\n",
    "        if 'polcal_avail_3C48' in parsec.polcal_dict.keys():\n",
    "            if len(parsec.polcal_dict['polcal_avail_3C48']) == 0:\n",
    "                mr.Markdown(text=r'###### **3C48 Voltages:** None Found')\n",
    "            else:\n",
    "                mr.Markdown(text=r'###### **3C48 Voltages:** ')\n",
    "                for f in parsec.state_dict['polcal_avail_3C48']:\n",
    "                    mr.Markdown(r'- ######' + f)\n",
    "        if 'polcal_avail_bf_3C48' in parsec.polcal_dict.keys():\n",
    "            if len(parsec.polcal_dict['polcal_avail_bf_3C48']) == 0:\n",
    "                mr.Markdown(text=r'##### **3C48 Beamformer Weights:** None Found')\n",
    "            else:\n",
    "                mr.Markdown(text=r'##### **3C48 Beamformer Weights:** ')\n",
    "                for f in parsec.state_dict['polcal_avail_bf_3C48']:\n",
    "                    mr.Markdown(r'- #####' + f)"
   ]
  },
  {
   "cell_type": "code",
   "execution_count": null,
   "id": "10106f9e",
   "metadata": {
    "slideshow": {
     "slide_type": "subslide"
    }
   },
   "outputs": [],
   "source": [
    "if not hidden:\n",
    "    mr.Markdown(\" Selected 3C286 Pol Cal Files:\")\n",
    "    #display voltages and beamformer weight files for current selection\n",
    "    if polcaldate_bf_menu.value != \"\":\n",
    "        #display filterbank files if they exist\n",
    "        if 'polcal_avail_3C286' in parsec.polcal_dict.keys():\n",
    "            if len(parsec.polcal_dict['polcal_avail_3C286']) == 0:\n",
    "                mr.Markdown(text=r'###### **3C286 Voltages:** None Found')\n",
    "            else:\n",
    "                mr.Markdown(text=r'###### **3C286 Voltages:** ')\n",
    "                for f in parsec.polcal_dict['polcal_avail_3C286']:\n",
    "                    mr.Markdown(r'- ######' + f)\n",
    "        if 'polcal_avail_bf_3C286' in parsec.polcal_dict.keys():\n",
    "            if len(parsec.polcal_dict['polcal_avail_bf_3C286']) == 0:\n",
    "                mr.Markdown(text=r'##### **3C286 Beamformer Weights:** None Found')\n",
    "            else:\n",
    "                mr.Markdown(text=r'##### **3C286 Beamformer Weights:** ')\n",
    "                for f in parsec.polcal_dict['polcal_avail_bf_3C286']:\n",
    "                    mr.Markdown(r'- #####' + f)"
   ]
  },
  {
   "cell_type": "code",
   "execution_count": null,
   "id": "a64a7014",
   "metadata": {
    "slideshow": {
     "slide_type": "subslide"
    }
   },
   "outputs": [],
   "source": [
    "if not hidden:\n",
    "    #display beam numbers for each cal pass\n",
    "    mr.Markdown(\" Table of Local Pol Cal Filterbanks:\")\n",
    "    mr.Table(data=parsec.df_beams,width=\"200px\") \n"
   ]
  },
  {
   "cell_type": "code",
   "execution_count": null,
   "id": "78983d47",
   "metadata": {
    "slideshow": {
     "slide_type": "subslide"
    }
   },
   "outputs": [],
   "source": [
    "\n",
    "#display the filterbank and beamformer weight files for selected observation ID\n",
    "if not hidden:\n",
    "    #3C48 \n",
    "    mr.Markdown(\" Selected 3C48 Filterbanks and Weights:\")\n",
    "    if obsid3C48_menu.value != '':\n",
    "        obs_files,obs_ids = polcal.get_calfil_files('3C48',polcaldate_findbeams_menu.value,obsid3C48_menu.value)\n",
    "        if len(obs_files) == 0: mr.Markdown(text = r'##### **' + obsid3C48_menu.value + ' Filterbanks:** None Found')\n",
    "        else:\n",
    "            mr.Markdown(text=r'##### **' + obsid3C48_menu.value + ' Filterbanks:**')\n",
    "            for f in obs_files:\n",
    "                mr.Markdown(r'- #####' + f)\n",
    "\n",
    "        if obsid3C48_menu.value in parsec.df_beams.index.tolist():#beam_dict_3C48.keys():\n",
    "            #print(beam_dict_3C48.keys())\n",
    "            mr.Markdown(text=r'##### **' + obsid3C48_menu.value + ' Beamformer Weights:**')\n",
    "            #print(polcal.bfweights_output_path + \"*\" + polcal.VLANAME_DICT['3C48'] + \"*\" + parsec.df_beams['beamformer weights'].loc[obsid3C48_menu.value][:19] + \"*\")\n",
    "            bf_files = glob.glob(polcal.bfweights_output_path + \"*\" + polcal.VLANAME_DICT['3C48'] + \"*\" + parsec.df_beams['beamformer weights'].loc[obsid3C48_menu.value][:19] + \"*\")\n",
    "            for f in bf_files:\n",
    "                mr.Markdown(text = r'- #####' + f)\n",
    "        else:\n",
    "            mr.Markdown(text = r'##### **' + obsid3C48_menu.value + ' Beamformer Weights:** None Found')\n"
   ]
  },
  {
   "cell_type": "code",
   "execution_count": null,
   "id": "508ddbfe",
   "metadata": {
    "slideshow": {
     "slide_type": "subslide"
    }
   },
   "outputs": [],
   "source": [
    "if not hidden:\n",
    "    #3C286\n",
    "    mr.Markdown(\" Selected 3C286 Filterbanks and Weights:\")\n",
    "    if obsid3C286_menu.value != '':\n",
    "        obs_files,obs_ids = polcal.get_calfil_files('3C286',polcaldate_findbeams_menu.value,obsid3C286_menu.value)\n",
    "        if len(obs_files) == 0: mr.Markdown(text = r'##### **' + obsid3C286_menu.value + ' Filterbanks:** None Found')\n",
    "        else:\n",
    "            mr.Markdown(text=r'##### **' + obsid3C286_menu.value + ' Filterbanks:**')\n",
    "            for f in obs_files:\n",
    "                mr.Markdown(text = r'- #####' + f)\n",
    "\n",
    "        if obsid3C286_menu.value in parsec.df_beams.index.tolist():\n",
    "            mr.Markdown(text=r'##### **' + obsid3C286_menu.value + ' Beamformer Weights:**')\n",
    "            bf_files = glob.glob(polcal.bfweights_output_path + \"*\" + polcal.VLANAME_DICT['3C286'] + \"*\" + parsec.df_beams['beamformer weights'].loc[obsid3C286_menu.value][:19] + \"*\")\n",
    "            #print(polcal.bfweights_output_path + \"*\" + polcal.VLANAME_DICT['3C286'] + \"*\" + parsec.df_beams['beamformer weights'].loc[obsid3C286_menu.value][:19] +  \"*\")\n",
    "            for f in bf_files:\n",
    "                mr.Markdown(text = r'- #####' + f)\n",
    "        else:\n",
    "            mr.Markdown(text=r'##### **' + obsid3C286_menu.value + ' Beamformer Weights:** None Found')\n",
    "\n"
   ]
  },
  {
   "cell_type": "code",
   "execution_count": null,
   "id": "f9afd853",
   "metadata": {
    "slideshow": {
     "slide_type": "subslide"
    }
   },
   "outputs": [],
   "source": [
    "if not hidden:\n",
    "    # display the output of the logfile\n",
    "    mr.Markdown(\" Log:\")\n",
    "    #if showlogcal.value:# or refreshlogbutton.clicked:\n",
    "    flog = open(polcal.logfile,\"r\")\n",
    "    logtext = flog.read()\n",
    "    flog.close()\n",
    "    mr.Markdown(text=(logtext.replace('\\n','\\n\\n')))\n"
   ]
  },
  {
   "cell_type": "markdown",
   "id": "8743dc03",
   "metadata": {
    "slideshow": {
     "slide_type": "skip"
    }
   },
   "source": [
    "# (3) Filter Weights"
   ]
  },
  {
   "cell_type": "code",
   "execution_count": null,
   "id": "abffa989",
   "metadata": {
    "slideshow": {
     "slide_type": "skip"
    }
   },
   "outputs": [],
   "source": [
    "\n",
    "#widgets for filter weights dashboard\n",
    "hidden = toggle_menu.value != '(3) Filter Weights'\n",
    "if not hidden:\n",
    "    MAXCOMPS = 5\n",
    "    ncomps_num = mr.Numeric(value=parsec.wdict['ncomps_num'], \n",
    "                         step=1,\n",
    "                         min=1,max=MAXCOMPS,\n",
    "                         label='Number of Components'\n",
    "                        ,hidden=hidden)\n",
    "    comprange_slider = mr.Range(value=parsec.wdict['comprange_slider'],  #ms\n",
    "                            min=0, \n",
    "                            max=20, \n",
    "                            label=\"Lower and Upper Limit of Component (ms from window start)\", \n",
    "                            step=32.7e-3\n",
    "                    ,hidden=hidden)\n",
    "    \"\"\"n_t_slider_filt = mr.Slider( #time downsampling factor\n",
    "        value=parsec.wdict['n_t_slider_filt'],\n",
    "        min=1, \n",
    "        max=128, \n",
    "        step=1, \n",
    "        label='$n_t$'\n",
    "    ,hidden=hidden)\n",
    "    logn_f_slider_filt = mr.Slider( #freq downsampling factor\n",
    "        value=parsec.wdict['logn_f_slider_filt'],\n",
    "        min=0, \n",
    "        max=10, \n",
    "        step=1, \n",
    "        label='${\\\\rm log_{2}}(n_f)$'\n",
    "    ,hidden=hidden)\"\"\"\n",
    "\n",
    "    multipeaks = mr.Checkbox(value=parsec.wdict['multipeaks'], label=\"Multiple Peaks\",hidden=hidden)\n",
    "    multipeaks_height_slider = mr.Slider(\n",
    "        value=parsec.wdict['multipeaks_height_slider'],\n",
    "        min=0, \n",
    "        max=1, \n",
    "        step=0.01, \n",
    "        label=\"Minimum Peak Height\"\n",
    "    ,hidden=hidden)\n",
    "\n",
    "    avger_w_slider = mr.Slider(\n",
    "        value=parsec.wdict['avger_w_slider'],\n",
    "        min=1, \n",
    "        max=32, \n",
    "        step=1, \n",
    "        label=r'$n_{tw}$'\n",
    "    ,hidden=hidden)\n",
    "    sf_window_weights_slider = mr.Slider(\n",
    "        value=parsec.wdict['sf_window_weights_slider'],\n",
    "        min=3, \n",
    "        max=33, \n",
    "        step=2, \n",
    "        label=r'$sf_{ww}$'\n",
    "    ,hidden=hidden)\n",
    "    logibox_slider = mr.Slider(\n",
    "        value=parsec.wdict['logibox_slider'],\n",
    "        min=0, \n",
    "        max=6, \n",
    "        step=1, \n",
    "        label=r'${\\rm log_{2}}({\\rm ibox})$'\n",
    "    ,hidden=hidden)\n",
    "    logwindow_slider = mr.Slider(\n",
    "        value=parsec.wdict['logwindow_slider'],\n",
    "        min=5, \n",
    "        max=9, \n",
    "        step=1, \n",
    "        label=r'base ${\\rm log_{2}}({\\rm window})$'\n",
    "    ,hidden=hidden)\n",
    "\n",
    "    buff_L_slider = mr.Slider(\n",
    "        value=parsec.wdict['buff_L_slider'],\n",
    "        min=1, \n",
    "        max=128, \n",
    "        step=1, \n",
    "        label=r'${\\rm buff}_{L}$'\n",
    "    ,hidden=hidden)\n",
    "    buff_R_slider = mr.Slider(\n",
    "        value=parsec.wdict['buff_R_slider'],\n",
    "        min=1, \n",
    "        max=128, \n",
    "        step=1, \n",
    "        label=r'${\\rm buff}_{R}$'\n",
    "    ,hidden=hidden)\n",
    "\n",
    "    nextcompbutton = mr.Button(label='Next Component',\n",
    "                             style='primary',hidden=hidden)\n",
    "\n",
    "    donecompbutton = mr.Button(label='Done',\n",
    "                             style='primary',hidden=hidden)\n",
    "\n",
    "    fluxestbutton = mr.Button(label='Estimate Absolute Flux in Jy',\n",
    "                             style='primary',hidden=hidden)\n",
    "\n",
    "    Iflux_display = mr.NumberBox(data=parsec.wdict['Iflux_display'],#parsec.FRB_DM[parsec.FRB_IDS.index(ids)], \n",
    "                                    title=r'I (Jy)'\n",
    "                                   )\n",
    "    Qflux_display = mr.NumberBox(data=parsec.wdict['Qflux_display'],#parsec.FRB_DM[parsec.FRB_IDS.index(ids)], \n",
    "                                    title=r'Q (Jy)'\n",
    "                                   )\n",
    "    Uflux_display = mr.NumberBox(data=parsec.wdict['Uflux_display'],#parsec.FRB_DM[parsec.FRB_IDS.index(ids)], \n",
    "                                    title=r'U (Jy)'\n",
    "                                   )\n",
    "    Vflux_display = mr.NumberBox(data=parsec.wdict['Vflux_display'],#parsec.FRB_DM[parsec.FRB_IDS.index(ids)], \n",
    "                                    title=r'V (Jy)'\n",
    "                                   )"
   ]
  },
  {
   "cell_type": "code",
   "execution_count": null,
   "id": "5679a624",
   "metadata": {
    "slideshow": {
     "slide_type": "slide"
    }
   },
   "outputs": [],
   "source": [
    "\n",
    "import warnings\n",
    "if not hidden:\n",
    "    def mywarning(message, category, filename, lineno, file=None, line=None):\n",
    "        warning_file = open(filt.logfile, \"a\")\n",
    "        warning_file.write(warnings.formatwarning(message, category, filename, lineno, line))\n",
    "        warning_file.close()\n",
    "\n",
    "    warnings.showwarning = mywarning\n",
    "    mr.Markdown(\"### (3) Filter Weights\")"
   ]
  },
  {
   "cell_type": "code",
   "execution_count": null,
   "id": "ca3e26d8",
   "metadata": {
    "slideshow": {
     "slide_type": "-"
    }
   },
   "outputs": [],
   "source": [
    "\n",
    "\n",
    "\n",
    "#create pol cal screen\n",
    "#if (parsec.state_dict[\"current_state\"] >= parsec.state_map['filter']):\n",
    "if not hidden:\n",
    "    try:\n",
    "        parsec.filter_screen(logwindow_slider,logibox_slider,\n",
    "                         buff_L_slider,buff_R_slider,ncomps_num,comprange_slider,nextcompbutton,donecompbutton,\n",
    "                        avger_w_slider,sf_window_weights_slider,multipeaks,multipeaks_height_slider,fluxestbutton,\n",
    "                            Iflux_display,Qflux_display,Uflux_display,Vflux_display)\n",
    "    except KeyError as ex:\n",
    "        print(\"Preceding Stages Required\")"
   ]
  },
  {
   "cell_type": "code",
   "execution_count": null,
   "id": "920b372f",
   "metadata": {
    "slideshow": {
     "slide_type": "subslide"
    }
   },
   "outputs": [],
   "source": [
    "if not hidden:\n",
    "    mr.Table(data=parsec.df, width=\"200px\")#, text_align=\"center\")\n"
   ]
  },
  {
   "cell_type": "code",
   "execution_count": null,
   "id": "808d9ea2",
   "metadata": {
    "slideshow": {
     "slide_type": "subslide"
    }
   },
   "outputs": [],
   "source": [
    "if not hidden:\n",
    "    nbox=mr.NumberBox([Iflux_display,Qflux_display,Uflux_display,Vflux_display])\n",
    "else: nbox=None\n",
    "nbox"
   ]
  },
  {
   "cell_type": "code",
   "execution_count": null,
   "id": "6bb46630",
   "metadata": {
    "slideshow": {
     "slide_type": "subslide"
    }
   },
   "outputs": [],
   "source": [
    "if not hidden:\n",
    "    # display the output of the logfile\n",
    "    mr.Markdown(\" Log:\")\n",
    "    #if showlogcal.value:# or refreshlogbutton.clicked:\n",
    "    flog = open(filt.logfile,\"r\")\n",
    "    logtext = flog.read()\n",
    "    flog.close()\n",
    "    mr.Markdown(text=(logtext.replace('\\n','\\n\\n')))\n"
   ]
  },
  {
   "cell_type": "markdown",
   "id": "e82668e1",
   "metadata": {
    "slideshow": {
     "slide_type": "skip"
    }
   },
   "source": [
    "# (4) Scattering Analysis"
   ]
  },
  {
   "cell_type": "code",
   "execution_count": null,
   "id": "23def99e",
   "metadata": {
    "slideshow": {
     "slide_type": "skip"
    }
   },
   "outputs": [],
   "source": [
    "#widgets for scattering dashboard\n",
    "hidden = toggle_menu.value != '(4) Scattering Analysis'\n",
    "if not hidden:\n",
    "    scattermenu = mr.MultiSelect(label=\"Components\", \n",
    "                              value=parsec.wdict['scattermenu'], \n",
    "                              choices=parsec.wdict['scattermenu_choices'],\n",
    "                                hidden=hidden)\n",
    "\n",
    "    scatfitmenu = mr.Select(label=\"Fitting Method\",\n",
    "                            value=parsec.wdict['scatfitmenu'],\n",
    "                            choices=parsec.wdict['scatfitmenu_choices'],\n",
    "                            hidden=hidden)\n",
    "\n",
    "    \"\"\"scatterLbuffer_slider = mr.Slider(\n",
    "        value=parsec.wdict['scatterLbuffer_slider'],\n",
    "        min=-10, \n",
    "        max=10, \n",
    "        step=1, \n",
    "        label=r'$\\Delta {\\rm int}_{\\rm L}$'\n",
    "    ,hidden=hidden)\n",
    "\n",
    "    scatterRbuffer_slider = mr.Slider(\n",
    "        value=parsec.wdict['scatterRbuffer_slider'],\n",
    "        min=-10, \n",
    "        max=10, \n",
    "        step=1, \n",
    "        label=r'$\\Delta {\\rm int}_{\\rm R}$'\n",
    "    ,hidden=hidden)\"\"\"\n",
    "\n",
    "    #create sliders for each component\n",
    "    x0_guess_comps = []\n",
    "    amp_guess_comps = []\n",
    "    sigma_guess_comps = []\n",
    "    tau_guess_comps = []\n",
    "    hiddens = []\n",
    "\n",
    "    #comp 0\n",
    "    hiddens.append(hidden | ('Component 0' not in scattermenu.value))\n",
    "    #if not hiddens[0]:\n",
    "    #    note_0 = mr.Note('Component 0')         \n",
    "    x0_guess_0 = mr.Numeric(value=parsec.wdict['x0_guess_0'], \n",
    "                 step=32.7e-3,\n",
    "                 min=0,max=0.7e3,\n",
    "                 label=r'(Comp 0) $x_0$ Initial Guess (ms)'\n",
    "                ,hidden=hiddens[0])\n",
    "    x0_guess_comps.append(x0_guess_0)\n",
    "\n",
    "    amp_guess_0 = mr.Numeric(value=parsec.wdict['amp_guess_0'], \n",
    "                         step=1e-3,\n",
    "                         min=0,max=500,\n",
    "                         label=r'(Comp 0) Amplitude Initial Guess'\n",
    "                        ,hidden=hiddens[0])\n",
    "    amp_guess_comps.append(amp_guess_0)\n",
    "\n",
    "    sigma_guess_0 = mr.Numeric(value=parsec.wdict['sigma_guess_0'], \n",
    "                         step=1e-3,\n",
    "                         min=0,max=10,\n",
    "                         label=r'(Comp 0) $\\sigma$ Initial Guess (ms)'\n",
    "                        ,hidden=hiddens[0])\n",
    "    sigma_guess_comps.append(sigma_guess_0)\n",
    "\n",
    "    tau_guess_0 = mr.Numeric(value=parsec.wdict['tau_guess_0'], \n",
    "                         step=1e-3,\n",
    "                         min=0,max=10,\n",
    "                         label=r'(Comp 0) $\\tau$ Initial Guess'\n",
    "                        ,hidden=hiddens[0])\n",
    "    tau_guess_comps.append(tau_guess_0)\n",
    "\n",
    "    #comp 1\n",
    "    hiddens.append(hidden | ('Component 1' not in scattermenu.value))\n",
    "    #if not hiddens[1]:\n",
    "    #    note_1 = mr.Note('Component 1')         \n",
    "    x0_guess_1 = mr.Numeric(value=parsec.wdict['x0_guess_1'], \n",
    "                 step=32.7e-3,\n",
    "                 min=0,max=0.7e3,\n",
    "                 label=r'(Comp 1) $x_0$ Initial Guess (ms)'\n",
    "                ,hidden=hiddens[1])\n",
    "    x0_guess_comps.append(x0_guess_1)\n",
    "\n",
    "    amp_guess_1 = mr.Numeric(value=parsec.wdict['amp_guess_1'], \n",
    "                         step=1e-3,\n",
    "                         min=0,max=500,\n",
    "                         label=r'(Comp 1) Amplitude Initial Guess'\n",
    "                        ,hidden=hiddens[1])\n",
    "    amp_guess_comps.append(amp_guess_1)\n",
    "\n",
    "    sigma_guess_1 = mr.Numeric(value=parsec.wdict['sigma_guess_1'], \n",
    "                         step=1e-3,\n",
    "                         min=0,max=10,\n",
    "                         label=r'(Comp 1) $\\sigma$ Initial Guess (ms)'\n",
    "                        ,hidden=hiddens[1])\n",
    "    sigma_guess_comps.append(sigma_guess_1)\n",
    "\n",
    "    tau_guess_1 = mr.Numeric(value=parsec.wdict['tau_guess_1'], \n",
    "                         step=1e-3,\n",
    "                         min=0,max=10,\n",
    "                         label=r'(Comp 1) $\\tau$ Initial Guess'\n",
    "                        ,hidden=hiddens[1])\n",
    "    tau_guess_comps.append(tau_guess_1)\n",
    "\n",
    "    #comp 2\n",
    "    hiddens.append(hidden | ('Component 2' not in scattermenu.value))\n",
    "    #if not hiddens[2]:\n",
    "    #    note_2 = mr.Note('Component 2')         \n",
    "    x0_guess_2 = mr.Numeric(value=parsec.wdict['x0_guess_2'], \n",
    "                 step=32.7e-3,\n",
    "                 min=0,max=0.7e3,\n",
    "                 label=r'(Comp 2) $x_0$ Initial Guess (ms)'\n",
    "                ,hidden=hiddens[2])\n",
    "    x0_guess_comps.append(x0_guess_2)\n",
    "\n",
    "    amp_guess_2 = mr.Numeric(value=parsec.wdict['amp_guess_2'], \n",
    "                         step=1e-3,\n",
    "                         min=0,max=500,\n",
    "                         label=r'(Comp 2) Amplitude Initial Guess'\n",
    "                        ,hidden=hiddens[2])\n",
    "    amp_guess_comps.append(amp_guess_2)\n",
    "\n",
    "    sigma_guess_2 = mr.Numeric(value=parsec.wdict['sigma_guess_2'], \n",
    "                         step=1e-3,\n",
    "                         min=0,max=10,\n",
    "                         label=r'(Comp 2) $\\sigma$ Initial Guess (ms)'\n",
    "                        ,hidden=hiddens[2])\n",
    "    sigma_guess_comps.append(sigma_guess_2)\n",
    "\n",
    "    tau_guess_2 = mr.Numeric(value=parsec.wdict['tau_guess_2'], \n",
    "                         step=1e-3,\n",
    "                         min=0,max=10,\n",
    "                         label=r'(Comp 2) $\\tau$ Initial Guess'\n",
    "                        ,hidden=hiddens[2])\n",
    "    tau_guess_comps.append(tau_guess_2)\n",
    "\n",
    "    #comp 3\n",
    "    hiddens.append(hidden | ('Component 3' not in scattermenu.value))\n",
    "    #if not hiddens[3]:\n",
    "    #    note_3 = mr.Note('Component 3')         \n",
    "    x0_guess_3 = mr.Numeric(value=parsec.wdict['x0_guess_3'], \n",
    "                 step=32.7e-3,\n",
    "                 min=0,max=0.7e3,\n",
    "                 label=r'(Comp 3) $x_0$ Initial Guess (ms)'\n",
    "                ,hidden=hiddens[3])\n",
    "    x0_guess_comps.append(x0_guess_3)\n",
    "\n",
    "    amp_guess_3 = mr.Numeric(value=parsec.wdict['amp_guess_3'], \n",
    "                         step=1e-3,\n",
    "                         min=0,max=500,\n",
    "                         label=r'(Comp 3) Amplitude Initial Guess'\n",
    "                        ,hidden=hiddens[3])\n",
    "    amp_guess_comps.append(amp_guess_3)\n",
    "\n",
    "    sigma_guess_3 = mr.Numeric(value=parsec.wdict['sigma_guess_3'], \n",
    "                         step=1e-3,\n",
    "                         min=0,max=10,\n",
    "                         label=r'(Comp 3) $\\sigma$ Initial Guess (ms)'\n",
    "                        ,hidden=hiddens[3])\n",
    "    sigma_guess_comps.append(sigma_guess_3)\n",
    "\n",
    "    tau_guess_3 = mr.Numeric(value=parsec.wdict['tau_guess_3'], \n",
    "                         step=1e-3,\n",
    "                         min=0,max=10,\n",
    "                         label=r'(Comp 3) $\\tau$ Initial Guess'\n",
    "                        ,hidden=hiddens[3])\n",
    "    tau_guess_comps.append(tau_guess_3)\n",
    "\n",
    "    #comp 4\n",
    "    hiddens.append(hidden | ('Component 4' not in scattermenu.value))\n",
    "    #if not hiddens[4]:\n",
    "    #    note_4 = mr.Note('Component 4')         \n",
    "    x0_guess_4 = mr.Numeric(value=parsec.wdict['x0_guess_4'], \n",
    "                 step=32.7e-3,\n",
    "                 min=0,max=0.7e3,\n",
    "                 label=r'(Comp 4) $x_0$ Initial Guess (ms)'\n",
    "                ,hidden=hiddens[4])\n",
    "    x0_guess_comps.append(x0_guess_4)\n",
    "\n",
    "    amp_guess_4 = mr.Numeric(value=parsec.wdict['amp_guess_4'], \n",
    "                         step=1e-3,\n",
    "                         min=0,max=500,\n",
    "                         label=r'(Comp 4) Amplitude Initial Guess'\n",
    "                        ,hidden=hiddens[4])\n",
    "    amp_guess_comps.append(amp_guess_4)\n",
    "\n",
    "    sigma_guess_4 = mr.Numeric(value=parsec.wdict['sigma_guess_4'], \n",
    "                         step=1e-3,\n",
    "                         min=0,max=10,\n",
    "                         label=r'(Comp 4) $\\sigma$ Initial Guess (ms)'\n",
    "                        ,hidden=hiddens[4])\n",
    "    sigma_guess_comps.append(sigma_guess_4)\n",
    "\n",
    "    tau_guess_4 = mr.Numeric(value=parsec.wdict['tau_guess_4'], \n",
    "                         step=1e-3,\n",
    "                         min=0,max=10,\n",
    "                         label=r'(Comp 4) $\\tau$ Initial Guess'\n",
    "                        ,hidden=hiddens[4])\n",
    "    tau_guess_comps.append(tau_guess_4)\n",
    "\n",
    "\n",
    "    calc_scat_button = mr.Button(label='Calculate Scattering Parameters',\n",
    "                             style='primary',hidden=hidden)\n"
   ]
  },
  {
   "cell_type": "code",
   "execution_count": null,
   "id": "4f03cad1",
   "metadata": {
    "slideshow": {
     "slide_type": "slide"
    }
   },
   "outputs": [],
   "source": [
    "if not hidden:\n",
    "    mr.Markdown(\"### (4) Scattering Analysis\")\n",
    "    \"\"\"try:\n",
    "        parsec.scatter_screen(scattermenu,scatterLbuffer_slider,scatterRbuffer_slider)\n",
    "    except KeyError as ex:\n",
    "        print(\"Preceding Stages Required\")\"\"\"\n",
    "    parsec.scatter_screen(scattermenu,scatfitmenu,x0_guess_comps,sigma_guess_comps,tau_guess_comps,amp_guess_comps,calc_scat_button)"
   ]
  },
  {
   "cell_type": "code",
   "execution_count": null,
   "id": "394a9b2b",
   "metadata": {
    "slideshow": {
     "slide_type": "subslide"
    }
   },
   "outputs": [],
   "source": []
  },
  {
   "cell_type": "markdown",
   "id": "54f67bc1",
   "metadata": {
    "slideshow": {
     "slide_type": "skip"
    }
   },
   "source": [
    "# (5) Scintillation Analysis"
   ]
  },
  {
   "cell_type": "code",
   "execution_count": null,
   "id": "8d5900a5",
   "metadata": {
    "slideshow": {
     "slide_type": "skip"
    }
   },
   "outputs": [],
   "source": [
    "hidden = toggle_menu.value != '(5) Scintillation Analysis'\n",
    "if not hidden:\n",
    "    scintmenu = mr.Select(label=\"Components\", \n",
    "                                value=parsec.wdict['scintmenu'], \n",
    "                                choices=parsec.wdict['scintmenu_choices'],\n",
    "                                hidden=hidden)\n",
    "\n",
    "    scintfitmenu = mr.Select(label=\"Fitting Method\",\n",
    "                            value=parsec.wdict['scintfitmenu'],\n",
    "                            choices=parsec.wdict['scintfitmenu_choices'],\n",
    "                            hidden=hidden)\n",
    "\n",
    "\n",
    "    gamma_guess = mr.Numeric(value=parsec.wdict['gamma_guess'], \n",
    "                         step=1e-3,\n",
    "                         min=1,max=50,\n",
    "                         label=r'$\\gamma$ Initial Guess (MHz)'\n",
    "                        ,hidden=hidden)\n",
    "    m_guess = mr.Numeric(value=parsec.wdict['m_guess'], \n",
    "                         step=1e-3,\n",
    "                         min=0,max=1,\n",
    "                         label=r'm Initial Guess'\n",
    "                        ,hidden=hidden)\n",
    "    c_guess = mr.Numeric(value=parsec.wdict['c_guess'], \n",
    "                         step=1e-3,\n",
    "                         min=-1,max=1,\n",
    "                         label=r'c Initial Guess'\n",
    "                        ,hidden=hidden)\n",
    "    scint_fit_range = mr.Numeric(value=parsec.wdict['scint_fit_range'],\n",
    "                                min=1,max=185,\n",
    "                                step=1,label='Fit Range (MHz)',\n",
    "                                hidden=hidden)\n",
    "\n",
    "    calc_bw_button = mr.Button(label='Calculate Scintillation Bandwidth',\n",
    "                             style='primary',hidden=hidden)"
   ]
  },
  {
   "cell_type": "code",
   "execution_count": null,
   "id": "2eb4d53f",
   "metadata": {
    "slideshow": {
     "slide_type": "slide"
    }
   },
   "outputs": [],
   "source": [
    "if not hidden:\n",
    "    mr.Markdown(\"### (5) Scintillation Analysis\")\n",
    "    try:\n",
    "        parsec.scint_screen(scintfitmenu,calc_bw_button,gamma_guess,m_guess,c_guess,scintmenu,scint_fit_range)\n",
    "    except KeyError as ex:\n",
    "        print(\"Preceding Stages Required\")"
   ]
  },
  {
   "cell_type": "code",
   "execution_count": null,
   "id": "a4328c66",
   "metadata": {
    "slideshow": {
     "slide_type": "subslide"
    }
   },
   "outputs": [],
   "source": [
    "#table of new pol cal data\n",
    "if not hidden:\n",
    "    mr.Markdown(\"Scintillation Analysis Results:\")\n",
    "    mr.Table(data=parsec.df_scint, width=\"400px\")\n"
   ]
  },
  {
   "cell_type": "markdown",
   "id": "625bbf5e",
   "metadata": {
    "slideshow": {
     "slide_type": "skip"
    }
   },
   "source": [
    " # (6) RM Synthesis"
   ]
  },
  {
   "cell_type": "code",
   "execution_count": null,
   "id": "4e460c50",
   "metadata": {
    "slideshow": {
     "slide_type": "skip"
    }
   },
   "outputs": [],
   "source": [
    "\n",
    "#widgets for filter weights dashboard\n",
    "hidden = toggle_menu.value != '(6) RM Synthesis'\n",
    "\n",
    "\n",
    "if not hidden:\n",
    "    refresh_button = mr.Button(label=r'Refresh from Background Processes',style='primary',hidden=hidden)\n",
    "\n",
    "    getRMgal_button = mr.Button(label=r'Get Galactic RM',\n",
    "                               style='primary',hidden=hidden)\n",
    "    getRMion_button = mr.Button(label=r'Get Ionospheric RM',\n",
    "                               style='primary',hidden=hidden)\n",
    "\n",
    "\n",
    "\n",
    "    #display results for single component at a time\n",
    "    rmcomp_menu = mr.Select(label=\"Component:\", \n",
    "                                value=parsec.wdict['rmcomp_menu'],\n",
    "                                choices=parsec.wdict['rmcomp_menu_choices'],\n",
    "                                hidden=hidden)#frbfiles[0], choices=frbfiles,hidden=hidden)\n",
    "\n",
    "\n",
    "    useRMTools = mr.Checkbox(value=parsec.wdict['useRMTools'], label=\"RM-Tools\",hidden=hidden)\n",
    "    maxRM_num_tools = mr.Numeric(value=parsec.wdict['maxRM_num_tools'], \n",
    "                         step=1,\n",
    "                         min=parsec.wdict['maxRM_num_tools'],max=1e6,\n",
    "                         label=r'Maximum Trial RM (rad/m$^2$)'\n",
    "                        ,hidden=hidden)\n",
    "    dRM_tools = mr.Numeric(value=parsec.wdict['dRM_tools'], \n",
    "                         step=10,\n",
    "                         min=200,max=int(2e6),\n",
    "                         label='Spacing of RM-Tools Trials'\n",
    "                        ,hidden=hidden)\n",
    "\n",
    "\n",
    "    useRMsynth = mr.Checkbox(value=parsec.wdict['useRMsynth'], label=\"1D RM Synthesis\",hidden=hidden)\n",
    "    RMsynthbackground = mr.Checkbox(value=parsec.wdict['RMsynthbackground'],label=\"Run in Background\",hidden=hidden)\n",
    "\n",
    "    nRM_num = mr.Numeric(value=parsec.wdict['nRM_num'], \n",
    "                         step=1,\n",
    "                         min=10,max=int(2e6),\n",
    "                         label='Number of RM Trials'\n",
    "                        ,hidden=hidden)\n",
    "\n",
    "    minRM_num = mr.Numeric(value=parsec.wdict['minRM_num'], \n",
    "                         step=1,\n",
    "                         min=-1e6,max=parsec.wdict['maxRM_num'],\n",
    "                         label=r'Minimum Trial RM (rad/m$^2$)'\n",
    "                        ,hidden=hidden)\n",
    "\n",
    "    maxRM_num = mr.Numeric(value=parsec.wdict['maxRM_num'], \n",
    "                         step=1,\n",
    "                         min=parsec.wdict['maxRM_num'],max=1e6,\n",
    "                         label=r'Maximum Trial RM (rad/m$^2$)'\n",
    "                        ,hidden=hidden)\n",
    "    getRMbutton = mr.Button(label='Run Initial RM Synthesis',\n",
    "                             style='primary',hidden=hidden)\n",
    "\n",
    "    useRM2D = mr.Checkbox(value=parsec.wdict['useRM2D'], label=\"2D RM Synthesis (S/N Method)\",hidden=hidden)\n",
    "\n",
    "    nRM_num_zoom = mr.Numeric(value=parsec.wdict['nRM_num_zoom'], \n",
    "                         step=1,\n",
    "                         min=10,max=int(2e6),\n",
    "                         label='Number of RM Trials (Zoom around Peak)'\n",
    "                        ,hidden=hidden)\n",
    "\n",
    "    RM_window_zoom = mr.Numeric(value=parsec.wdict['RM_window_zoom'], \n",
    "                         step=1,\n",
    "                         min=10,max=int(1e6),\n",
    "                         label='RM Window (Zoom around Peak)'\n",
    "                        ,hidden=hidden)\n",
    "\n",
    "    dRM_tools_zoom = mr.Numeric(value=parsec.wdict['dRM_tools_zoom'], \n",
    "                         step=10,\n",
    "                         min=0.4,max=1000.4,\n",
    "                         label='Spacing of RM-Tools Trials (Zoom around 0)'\n",
    "                        ,hidden=hidden)\n",
    "\n",
    "    getRMbutton_zoom = mr.Button(label='Run Zoom RM Synthesis',\n",
    "                             style='primary',hidden=hidden)\n",
    "\n",
    "\n",
    "\n"
   ]
  },
  {
   "cell_type": "code",
   "execution_count": null,
   "id": "ed25f2c7",
   "metadata": {
    "slideshow": {
     "slide_type": "skip"
    }
   },
   "outputs": [],
   "source": [
    "if not hidden:\n",
    "    #galactic, ionospheric RM\n",
    "\n",
    "    RM_gal_display = mr.NumberBox(data=parsec.wdict['RM_gal_display'],#parsec.FRB_DM[parsec.FRB_IDS.index(ids)], \n",
    "                                    title=r'$\\rm RM_{\\rm gal}$ (rad/m$^{{2}}$)'\n",
    "                                   )\n",
    "    RM_galerr_display = mr.NumberBox(data=parsec.wdict['RM_galerr_display'], \n",
    "                                  title=r'$\\sigma_{\\rm RM_{\\rm gal}}$ (rad/m$^{{2}}$)'\n",
    "                                 )\n",
    "\n",
    "\n",
    "    RM_ion_display = mr.NumberBox(data=parsec.wdict['RM_ion_display'],#parsec.FRB_DM[parsec.FRB_IDS.index(ids)], \n",
    "                                    title=r'$\\rm RM_{\\rm ion}$ (rad/m$^{{2}}$)'\n",
    "                                   )\n",
    "    RM_ionerr_display = mr.NumberBox(data=parsec.wdict['RM_ionerr_display'], \n",
    "                                  title=r'$\\sigma_{\\rm RM_{\\rm ion}}$ (rad/m$^{{2}}$)'\n",
    "                                 )\n",
    "\n",
    "    #measured RM\n",
    "\n",
    "    RMdisplay = mr.NumberBox(data=parsec.wdict['RMdisplay'],#parsec.FRB_DM[parsec.FRB_IDS.index(ids)], \n",
    "                                    title=r'$\\rm RM$ (rad/m$^{{2}}$)'\n",
    "                                   )\n",
    "    RMerrdisplay = mr.NumberBox(data=parsec.wdict['RMerrdisplay'], \n",
    "                                  title=r'$\\sigma_{\\rm RM}$ (rad/m$^{{2}}$)'\n",
    "                                 )\n",
    "\n",
    "\n",
    "\n",
    "\n",
    "    \"\"\"\n",
    "    def handler(signum,frame):\n",
    "        print(\"Background RM synthesis completed\")\n",
    "        #get results from file\n",
    "\n",
    "        res = np.load(parsec.dirs['logs'] + \"RM_files/\" + parsec.state_dict['dname'] + \"output_values.npy\")\n",
    "        RM = res[0]\n",
    "        RMerr = res[2]\n",
    "        parsec.state_dict[\"RMcalibrated\"][\"RM1\"] = [RM,RMerr]\n",
    "        parsec.RMdf.loc['All', '1D-Synth'] = RM\n",
    "        parsec.RMdf.loc['All', '1D-Synth Error'] = RMerr\n",
    "\n",
    "        res = np.load(parsec.dirs['logs'] + \"RM_files/\" + parsec.state_dict['dname'] + \"output_spectrum.npy\")\n",
    "        parsec.state_dict[\"RMcalibrated\"]['RMsnrs1'],parsec.state_dict[\"RMcalibrated\"]['trial_RM1'] =res[1,:],res[0,:]\n",
    "\n",
    "        RMdisplay.value = RM\n",
    "        RMerrdisplay.value = RMerrdisplay\n",
    "        print(\"handler done\")\n",
    "        return\n",
    "\n",
    "    signal.signal(signal.SIGUSR1,handler)\"\"\"\n"
   ]
  },
  {
   "cell_type": "code",
   "execution_count": null,
   "id": "db6ddad1",
   "metadata": {
    "slideshow": {
     "slide_type": "slide"
    }
   },
   "outputs": [],
   "source": [
    "import warnings\n",
    "if not hidden:\n",
    "    def mywarning(message, category, filename, lineno, file=None, line=None):\n",
    "        warning_file = open(RMcal.logfile, \"a\")\n",
    "        warning_file.write(warnings.formatwarning(message, category, filename, lineno, line))\n",
    "        warning_file.close()\n",
    "\n",
    "    warnings.showwarning = mywarning\n",
    "    mr.Markdown(\"### (6) RM Synthesis\")\n",
    "    try:\n",
    "        parsec.RM_screen(useRMTools,maxRM_num_tools,dRM_tools,useRMsynth,nRM_num,minRM_num,\n",
    "                     maxRM_num,getRMbutton,useRM2D,nRM_num_zoom,RM_window_zoom,dRM_tools_zoom,getRMbutton_zoom,\n",
    "                    RM_gal_display,RM_galerr_display,RM_ion_display,RM_ionerr_display,getRMgal_button,getRMion_button,\n",
    "                    rmcomp_menu,RMsynthbackground,refresh_button)\n",
    "    except KeyError as ex:\n",
    "        print(\"Preceding Stages Required\")"
   ]
  },
  {
   "cell_type": "code",
   "execution_count": null,
   "id": "22890731",
   "metadata": {
    "slideshow": {
     "slide_type": "skip"
    }
   },
   "outputs": [],
   "source": [
    "#choose which RM to apply\n",
    "if not hidden:\n",
    "    rmcal_menu = mr.Select(label=\"Calibration RM:\", \n",
    "                                value=parsec.wdict['rmcal_menu'],\n",
    "                                choices=parsec.wdict['rmcal_menu_choices'],\n",
    "                                hidden=hidden)#frbfiles[0], choices=frbfiles,hidden=hidden)\n",
    "\n",
    "    rmcal_input = mr.Numeric(value=parsec.wdict['rmcal_input'], \n",
    "                         step=0.01,\n",
    "                         min=-1e6,max=1e6,\n",
    "                         label='Input RM (rad/m$^{{2}}$)',\n",
    "                         hidden=(hidden | ('Input RM' not in rmcal_menu.value)))\n",
    "\n",
    "\n",
    "    RMcalibratebutton = mr.Button(label='Apply RM Calibration',\n",
    "                                 style='primary',hidden=hidden)\n"
   ]
  },
  {
   "cell_type": "code",
   "execution_count": null,
   "id": "7452e65a",
   "metadata": {
    "slideshow": {
     "slide_type": "subslide"
    }
   },
   "outputs": [],
   "source": [
    "if not hidden:\n",
    "    try:\n",
    "        parsec.RM_screen_plot(rmcal_menu,RMcalibratebutton,RMdisplay,RMerrdisplay,rmcal_input)\n",
    "    except KeyError as ex:\n",
    "        print(\"Preceding Stages Required\")"
   ]
  },
  {
   "cell_type": "code",
   "execution_count": null,
   "id": "40006d2c",
   "metadata": {
    "slideshow": {
     "slide_type": "subslide"
    }
   },
   "outputs": [],
   "source": [
    "if not hidden:\n",
    "    mr.Markdown(\"#### RM Applied\")"
   ]
  },
  {
   "cell_type": "code",
   "execution_count": null,
   "id": "a574618a",
   "metadata": {
    "slideshow": {
     "slide_type": "-"
    }
   },
   "outputs": [],
   "source": [
    "if not hidden:\n",
    "    nbox=mr.NumberBox([RMdisplay,RMerrdisplay])\n",
    "else: nbox=None\n",
    "nbox"
   ]
  },
  {
   "cell_type": "code",
   "execution_count": null,
   "id": "efe02d65",
   "metadata": {
    "slideshow": {
     "slide_type": "-"
    }
   },
   "outputs": [],
   "source": [
    "if not hidden:\n",
    "    mr.Markdown(\"#### RM Table\")"
   ]
  },
  {
   "cell_type": "code",
   "execution_count": null,
   "id": "98d487f2",
   "metadata": {
    "slideshow": {
     "slide_type": "-"
    }
   },
   "outputs": [],
   "source": [
    "if not hidden:\n",
    "    mr.Table(data=parsec.RMdf, width=\"200px\")#, text_align=\"center\")\n"
   ]
  },
  {
   "cell_type": "code",
   "execution_count": null,
   "id": "40009ca4",
   "metadata": {
    "slideshow": {
     "slide_type": "subslide"
    }
   },
   "outputs": [],
   "source": [
    "if not hidden:\n",
    "    nbox=mr.NumberBox([RM_gal_display,RM_galerr_display])\n",
    "else: nbox=None\n",
    "nbox"
   ]
  },
  {
   "cell_type": "code",
   "execution_count": null,
   "id": "afcb2b50",
   "metadata": {
    "slideshow": {
     "slide_type": "-"
    }
   },
   "outputs": [],
   "source": [
    "if not hidden:\n",
    "    nbox=mr.NumberBox([RM_ion_display,RM_ionerr_display])\n",
    "else: nbox=None\n",
    "nbox"
   ]
  },
  {
   "cell_type": "code",
   "execution_count": null,
   "id": "ba4da73c",
   "metadata": {
    "slideshow": {
     "slide_type": "skip"
    }
   },
   "outputs": [],
   "source": [
    "if not hidden:\n",
    "    trialz = mr.Numeric(value=parsec.wdict['trialz'], \n",
    "                     step=1e-3,\n",
    "                     min=-1,max=10,\n",
    "                     label='Trial Redshift z'\n",
    "                    ,hidden=hidden)"
   ]
  },
  {
   "cell_type": "code",
   "execution_count": null,
   "id": "80dea448",
   "metadata": {
    "slideshow": {
     "slide_type": "subslide"
    }
   },
   "outputs": [],
   "source": [
    "if not hidden:\n",
    "    mr.Markdown(\"#### DM Budget\")\n",
    "    parsec.DM_Budget_screen(trialz)\n"
   ]
  },
  {
   "cell_type": "code",
   "execution_count": null,
   "id": "479fe4d8",
   "metadata": {
    "slideshow": {
     "slide_type": "subslide"
    }
   },
   "outputs": [],
   "source": [
    "if not hidden:\n",
    "    mr.Markdown(\"#### RM Budget\")\n",
    "    parsec.RM_Budget_screen(trialz)\n"
   ]
  },
  {
   "cell_type": "code",
   "execution_count": null,
   "id": "ea18d3cd",
   "metadata": {
    "slideshow": {
     "slide_type": "subslide"
    }
   },
   "outputs": [],
   "source": [
    "if not hidden:\n",
    "    mr.Markdown(\"#### Host B Field Estimate\")\n",
    "    parsec.Bfield_Budget_screen()\n"
   ]
  },
  {
   "cell_type": "code",
   "execution_count": null,
   "id": "9295e96e",
   "metadata": {
    "slideshow": {
     "slide_type": "subslide"
    }
   },
   "outputs": [],
   "source": [
    "if not hidden:\n",
    "    # display the output of the logfile\n",
    "    mr.Markdown(\" Log:\")\n",
    "    #if showlogcal.value:# or refreshlogbutton.clicked:\n",
    "    flog = open(RMcal.logfile,\"r\")\n",
    "    logtext = flog.read()\n",
    "    flog.close()\n",
    "    mr.Markdown(text=(logtext.replace('\\n','\\n\\n')))\n"
   ]
  },
  {
   "cell_type": "markdown",
   "id": "d8d27485",
   "metadata": {
    "slideshow": {
     "slide_type": "skip"
    }
   },
   "source": [
    "# (7) Polarization Fractions"
   ]
  },
  {
   "cell_type": "code",
   "execution_count": null,
   "id": "4c5eab91",
   "metadata": {
    "slideshow": {
     "slide_type": "slide"
    }
   },
   "outputs": [],
   "source": [
    "import warnings\n",
    "\n",
    "def mywarning(message, category, filename, lineno, file=None, line=None):\n",
    "    warning_file = open(dsapol.logfile, \"a\")\n",
    "    warning_file.write(warnings.formatwarning(message, category, filename, lineno, line))\n",
    "    warning_file.close()\n",
    "\n",
    "warnings.showwarning = mywarning\n",
    "#widgets for pol analysis dashboard\n",
    "hidden = toggle_menu.value != '(7) Polarization Analysis'\n",
    "if not hidden:\n",
    "    showghostPA = mr.Checkbox(value=parsec.wdict['showghostPA'], label=\"Show PA with Linear S/N < 3\",hidden=hidden)\n",
    "\n",
    "    #choose which component to analyze\n",
    "\n",
    "\n",
    "    polcomp_menu = mr.Select(label=\"Update Bounds for Component:\", \n",
    "                                value=parsec.wdict['polcomp_menu'],\n",
    "                                choices=parsec.wdict['polcomp_menu_choices'],\n",
    "                                hidden=hidden)#frbfiles[0], choices=frbfiles,hidden=hidden)\n",
    "\n",
    "\n",
    "    intLbuffer_slider = mr.Slider(\n",
    "        value=parsec.wdict['intLbuffer_slider'],\n",
    "        min=-10, \n",
    "        max=10, \n",
    "        step=1, \n",
    "        label=r'$\\Delta {\\rm int}_{\\rm L}$'\n",
    "    ,hidden=hidden)\n",
    "\n",
    "    intRbuffer_slider = mr.Slider(\n",
    "        value=parsec.wdict['intRbuffer_slider'],\n",
    "        min=-10, \n",
    "        max=10, \n",
    "        step=1, \n",
    "        label=r'$\\Delta {\\rm int}_{\\rm R}$'\n",
    "    ,hidden=hidden)\n",
    "\n"
   ]
  },
  {
   "cell_type": "code",
   "execution_count": null,
   "id": "da2728dd",
   "metadata": {
    "slideshow": {
     "slide_type": "-"
    }
   },
   "outputs": [],
   "source": [
    "if not hidden:\n",
    "    mr.Markdown(\"### (7) Polarization Analysis\")\n",
    "    try:\n",
    "        fig,fig_time,fig_freq = parsec.polanalysis_screen(showghostPA,intLbuffer_slider,intRbuffer_slider,polcomp_menu)\n",
    "    except KeyError as ex:\n",
    "        fig = fig_time = fig_freq = None\n",
    "        print(\"Preceding Stages Required\")"
   ]
  },
  {
   "cell_type": "code",
   "execution_count": null,
   "id": "9de694bd",
   "metadata": {
    "slideshow": {
     "slide_type": "-"
    }
   },
   "outputs": [],
   "source": [
    "if not hidden:\n",
    "    mr.Markdown(\"#### Pol and S/N Table\")"
   ]
  },
  {
   "cell_type": "code",
   "execution_count": null,
   "id": "cbd2b33b",
   "metadata": {
    "slideshow": {
     "slide_type": "-"
    }
   },
   "outputs": [],
   "source": [
    "if not hidden:\n",
    "    mr.Table(data=parsec.poldf, width=\"200px\")#, text_align=\"center\")\n"
   ]
  },
  {
   "cell_type": "code",
   "execution_count": null,
   "id": "23abcc31",
   "metadata": {
    "slideshow": {
     "slide_type": "subslide"
    }
   },
   "outputs": [],
   "source": [
    "if not hidden:\n",
    "    mr.Markdown(\"#### Summary Plot\")\n",
    "    fig"
   ]
  },
  {
   "cell_type": "code",
   "execution_count": null,
   "id": "7f1909ea",
   "metadata": {
    "slideshow": {
     "slide_type": "subslide"
    }
   },
   "outputs": [],
   "source": [
    "if not hidden:\n",
    "    mr.Markdown(\"#### Time Domain\")\n",
    "    fig_time"
   ]
  },
  {
   "cell_type": "code",
   "execution_count": null,
   "id": "e85e2f0e",
   "metadata": {
    "slideshow": {
     "slide_type": "subslide"
    }
   },
   "outputs": [],
   "source": [
    "if not hidden:\n",
    "    mr.Markdown(\"#### Spectrum\")\n",
    "    fig_freq"
   ]
  },
  {
   "cell_type": "code",
   "execution_count": null,
   "id": "85a0ec5f",
   "metadata": {
    "slideshow": {
     "slide_type": "subslide"
    }
   },
   "outputs": [],
   "source": [
    "if not hidden:\n",
    "    # display the output of the logfile\n",
    "    mr.Markdown(\" Log:\")\n",
    "    #if showlogcal.value:# or refreshlogbutton.clicked:\n",
    "    flog = open(dsapol.logfile,\"r\")\n",
    "    logtext = flog.read()\n",
    "    flog.close()\n",
    "    mr.Markdown(text=(logtext.replace('\\n','\\n\\n')))\n"
   ]
  },
  {
   "cell_type": "markdown",
   "id": "ef9183c7",
   "metadata": {
    "slideshow": {
     "slide_type": "skip"
    }
   },
   "source": [
    "# (8) Archive Data"
   ]
  },
  {
   "cell_type": "code",
   "execution_count": null,
   "id": "feaefe1f",
   "metadata": {
    "slideshow": {
     "slide_type": "slide"
    }
   },
   "outputs": [],
   "source": [
    "import warnings\n",
    "def mywarning(message, category, filename, lineno, file=None, line=None):\n",
    "    warning_file = open(rmtablefuncs.logfile, \"a\")\n",
    "    warning_file.write(warnings.formatwarning(message, category, filename, lineno, line))\n",
    "    warning_file.close()\n",
    "\n",
    "warnings.showwarning = mywarning\n",
    "#widgets for pol analysis dashboard\n",
    "hidden = toggle_menu.value != '(8) Archive Data'\n",
    "if not hidden:\n",
    "    savebutton = mr.Button(label='Save Data to Level 3',\n",
    "                             style='primary',\n",
    "                              hidden=hidden)\n",
    "\n",
    "    archivepolcalbutton = mr.Button(label='Archive Pol Calibration Voltages to dsastorage',\n",
    "                             style='primary',\n",
    "                             hidden=hidden)\n",
    "\n",
    "    archivebutton = mr.Button(label='Archive FRB Filterbanks and Tables to dsastorage',\n",
    "                             style='primary',\n",
    "                             hidden=hidden)\n",
    "    notesinput = mr.Text(value=parsec.wdict['notesinput'], label=\"Notes for Spreadsheet\", rows=5,hidden=hidden)\n",
    "    spreadsheetbutton = mr.Button(label='Save .csv for Spreadsheet',\n",
    "                             style='primary',\n",
    "                              hidden=hidden)\n"
   ]
  },
  {
   "cell_type": "code",
   "execution_count": null,
   "id": "0abe18d8",
   "metadata": {
    "slideshow": {
     "slide_type": "-"
    }
   },
   "outputs": [],
   "source": [
    "if not hidden:\n",
    "    mr.Markdown(\"### (8) Archive Data\")"
   ]
  },
  {
   "cell_type": "code",
   "execution_count": null,
   "id": "ecab84ee",
   "metadata": {
    "slideshow": {
     "slide_type": "-"
    }
   },
   "outputs": [],
   "source": [
    "if not hidden:\n",
    "    #try:\n",
    "    parsec.archive_screen(savebutton,archivebutton,archivepolcalbutton,spreadsheetbutton,notesinput)\n",
    "    #except KeyError as ex:\n",
    "    #    print(\"Preceding Stages Required\")"
   ]
  },
  {
   "cell_type": "code",
   "execution_count": null,
   "id": "7f077165",
   "metadata": {
    "slideshow": {
     "slide_type": "-"
    }
   },
   "outputs": [],
   "source": [
    "if not hidden:\n",
    "    mr.Markdown(\"#### RM Table (See Van Eck et al. 2023)\")\n",
    "    mr.Table(data=parsec.RMtable_archive_df.to_pandas(), width=\"200px\")#, text_align=\"center\")"
   ]
  },
  {
   "cell_type": "code",
   "execution_count": null,
   "id": "df37af71",
   "metadata": {
    "slideshow": {
     "slide_type": "subslide"
    }
   },
   "outputs": [],
   "source": [
    "if not hidden:\n",
    "    # display the output of the logfile\n",
    "    mr.Markdown(\" Log:\")\n",
    "    #if showlogcal.value:# or refreshlogbutton.clicked:\n",
    "    flog = open(rmtablefuncs.logfile,\"r\")\n",
    "    logtext = flog.read()\n",
    "    flog.close()\n",
    "    mr.Markdown(text=(logtext.replace('\\n','\\n\\n')))\n"
   ]
  }
 ],
 "metadata": {
  "celltoolbar": "Slideshow",
  "kernelspec": {
   "display_name": "casa38dsapol",
   "language": "python",
   "name": "casa38dsapol"
  },
  "language_info": {
   "codemirror_mode": {
    "name": "ipython",
    "version": 3
   },
   "file_extension": ".py",
   "mimetype": "text/x-python",
   "name": "python",
   "nbconvert_exporter": "python",
   "pygments_lexer": "ipython3",
   "version": "3.8.13"
  }
 },
 "nbformat": 4,
 "nbformat_minor": 5
}
