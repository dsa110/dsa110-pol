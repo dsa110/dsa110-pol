{
 "cells": [
  {
   "cell_type": "code",
   "execution_count": null,
   "id": "b0e47ef0",
   "metadata": {
    "scrolled": true,
    "slideshow": {
     "slide_type": "skip"
    }
   },
   "outputs": [],
   "source": [
    "%load_ext autoreload\n",
    "%autoreload 2\n",
    "\n",
    "from dsapol import parsec\n",
    "from dsapol import polbeamform\n",
    "from dsapol import polcal\n",
    "#from dsapol import widget\n",
    "import numpy as np\n",
    "from matplotlib import pyplot as plt\n",
    "from dsapol import dsapol\n",
    "from scipy.signal import correlate\n",
    "from scipy.signal import savgol_filter as sf\n",
    "from scipy.signal import convolve\n",
    "from scipy.signal import fftconvolve\n",
    "from scipy.ndimage import convolve1d\n",
    "from scipy.signal import peak_widths\n",
    "from scipy.stats import chi\n",
    "from scipy.stats import norm\n",
    "import copy\n",
    "import glob\n",
    "import csv\n",
    "\n",
    "\n",
    "from numpy.ma import masked_array as ma\n",
    "from scipy.stats import kstest\n",
    "from scipy.optimize import curve_fit\n",
    "\n",
    "\n",
    "from scipy.signal import find_peaks\n",
    "from scipy.signal import peak_widths\n",
    "import copy\n",
    "import numpy as np\n",
    "\n",
    "from sigpyproc import FilReader\n",
    "from sigpyproc.Filterbank import FilterbankBlock\n",
    "from sigpyproc.Header import Header\n",
    "from matplotlib import pyplot as plt\n",
    "import pylab\n",
    "import pickle\n",
    "import json\n",
    "from scipy.interpolate import interp1d\n",
    "from scipy.stats import chi2\n",
    "from scipy.stats import chi\n",
    "from scipy.signal import savgol_filter as sf\n",
    "from scipy.signal import convolve\n",
    "from scipy.ndimage import convolve1d\n",
    "from RMtools_1D.do_RMsynth_1D import run_rmsynth\n",
    "from RMtools_1D.do_RMclean_1D import run_rmclean\n",
    "from RMtools_1D.do_QUfit_1D_mnest import run_qufit\n",
    "from astropy.time import Time\n",
    "from astropy.coordinates import EarthLocation\n",
    "import astropy.units as u\n",
    "\n",
    "import pandas as pd\n",
    "import mercury as mr"
   ]
  },
  {
   "cell_type": "code",
   "execution_count": null,
   "id": "654baf65",
   "metadata": {
    "slideshow": {
     "slide_type": "skip"
    }
   },
   "outputs": [],
   "source": [
    "\n",
    "app = mr.App(title=\"(V2) Polarization Analysis Dashboard\", description=\"With this dashboard, you can conduct RM synthesis, get polarization fractions, and conduct de-dispersion tuning.\")"
   ]
  },
  {
   "cell_type": "code",
   "execution_count": null,
   "id": "4364e687",
   "metadata": {
    "slideshow": {
     "slide_type": "skip"
    }
   },
   "outputs": [],
   "source": [
    "# Toggle Sliders Button: switches between panels of widgets for different slides\n",
    "toggle_menu = mr.Select(label='Toggle Widget Panels',\n",
    "                       value='(0) Load Data',\n",
    "                       choices=['(0) Load Data',\n",
    "                               '(1) Dedispersion Tuning',\n",
    "                               '(2) Calibration -- Beamform Cal Voltages',\n",
    "                               '(2) Calibration -- Make Cal Filterbanks',\n",
    "                               '(2) Calibration -- Choose Cal Observations',\n",
    "                               r'(2) Calibration -- Make Cal Solutions ($|g_{yy}|$)',\n",
    "                               r'(2) Calibration -- Make Cal Solutions ($|g_{xx}|/|g_{yy}|$)',\n",
    "                               r'(2) Calibration -- Make Cal Solutions ($\\angle g_{xx} - \\angle g_{yy}$)',\n",
    "                               r'(2) Calibration -- Calibrate',\n",
    "                               '(3) Filter Weights'])"
   ]
  },
  {
   "cell_type": "markdown",
   "id": "232966fb",
   "metadata": {
    "slideshow": {
     "slide_type": "skip"
    }
   },
   "source": [
    "# (0) Load Data"
   ]
  },
  {
   "cell_type": "code",
   "execution_count": null,
   "id": "20b2bb94",
   "metadata": {
    "slideshow": {
     "slide_type": "skip"
    }
   },
   "outputs": [],
   "source": [
    "# widgets\n",
    "hidden = toggle_menu.value != '(0) Load Data'\n",
    "#frbfiles = parsec.get_frbfiles()\n",
    "frbfiles_menu = mr.Select(label=\"FRB (candname_nickname):\", \n",
    "                            value=parsec.wdict['frbfiles_menu'],\n",
    "                            choices=parsec.frbfiles,\n",
    "                            hidden=hidden)#frbfiles[0], choices=frbfiles,hidden=hidden)\n",
    "base_n_t_slider = mr.Slider( #time downsampling factor\n",
    "    value=parsec.wdict['base_n_t_slider'],\n",
    "    min=1, \n",
    "    max=128, \n",
    "    step=1, \n",
    "    label=r'base $n_t$'\n",
    ",hidden=hidden)\n",
    "base_logn_f_slider = mr.Slider( #freq downsampling factor\n",
    "    value=parsec.wdict['base_logn_f_slider'],\n",
    "    min=0, \n",
    "    max=10, \n",
    "    step=1, \n",
    "    label=r'base ${\\rm log_{2}}({\\rm n_f})$'\n",
    ",hidden=hidden)\n",
    "logibox_slider_init = mr.Slider(\n",
    "    value=parsec.wdict['logibox_slider_init'],\n",
    "    min=0, \n",
    "    max=6, \n",
    "    step=1, \n",
    "    label=r'${\\rm log_{2}}({\\rm ibox})$'\n",
    ",hidden=hidden)\n",
    "\n",
    "buff_L_slider_init = mr.Slider(\n",
    "    value=parsec.wdict['buff_L_slider_init'],\n",
    "    min=1, \n",
    "    max=128, \n",
    "    step=1, \n",
    "    label=r'${\\rm buff}_{L}$'\n",
    ",hidden=hidden)\n",
    "buff_R_slider_init = mr.Slider(\n",
    "    value=parsec.wdict['buff_R_slider_init'],\n",
    "    min=1, \n",
    "    max=128, \n",
    "    step=1, \n",
    "    label=r'${\\rm buff}_{R}$'\n",
    ",hidden=hidden)\n",
    "\n",
    "\n",
    "\n",
    "updatebutton = mr.Button(label='Update FRB Params',style='primary',hidden=hidden)\n",
    "filbutton = mr.Button(label='Make Filterbanks',style='primary',hidden=hidden)\n",
    "loadbutton = mr.Button(label='Load FRB Data',style='primary',hidden=hidden)\n",
    "refreshlogbutton = mr.Button(label='Refresh Log',style='primary',hidden=hidden)\n",
    "\n",
    "showlog = mr.Checkbox(value=parsec.wdict['showlog'], label=\"Show Beamformer Log\",hidden=hidden)\n",
    "\n",
    "\n",
    "\n",
    "#get parameters for default frb\n",
    "\"\"\"ids = frbfiles_menu.value[:frbfiles_menu.value.index('_')]\n",
    "RA = parsec.FRB_RA[parsec.FRB_IDS.index(ids)]\n",
    "DEC = parsec.FRB_DEC[parsec.FRB_IDS.index(ids)]\n",
    "ibeam = int(parsec.FRB_BEAM[parsec.FRB_IDS.index(ids)])\n",
    "mjd = parsec.FRB_mjd[parsec.FRB_IDS.index(ids)]\n",
    "mjd_display = mr.NumberBox(data=mjd,title=r'MJD')\n",
    "DMinit = parsec.FRB_DM[parsec.FRB_IDS.index(ids)]\n",
    "\"\"\"\n",
    "\n",
    "RA_display = mr.NumberBox(data=parsec.wdict['RA_display'], title=r'RA ($^{\\circ}$)')\n",
    "DEC_display = mr.NumberBox(data=parsec.wdict['DEC_display'], title=r'DEC ($^{\\circ}$)')\n",
    "ibeam_display = mr.NumberBox(data=parsec.wdict['ibeam_display'], title=r'ibeam')\n",
    "mjd_display = mr.NumberBox(data=parsec.wdict['mjd_display'],title=r'MJD')\n",
    "DM_init_display = mr.NumberBox(data=parsec.wdict['DM_init_display'], \n",
    "                            title=r'DM (pc/cm$^{{-3}}$)'\n",
    "                           )\n",
    "\n",
    "\n",
    "\n",
    "\n"
   ]
  },
  {
   "cell_type": "code",
   "execution_count": null,
   "id": "85cd20ed",
   "metadata": {
    "slideshow": {
     "slide_type": "slide"
    }
   },
   "outputs": [],
   "source": [
    "#Slide Title\n",
    "mr.Markdown(\"### (0) Load Data\")"
   ]
  },
  {
   "cell_type": "code",
   "execution_count": null,
   "id": "98e8b6ef",
   "metadata": {
    "slideshow": {
     "slide_type": "-"
    }
   },
   "outputs": [],
   "source": [
    "#main screen function\n",
    "if parsec.state_dict[\"current_state\"] >= parsec.state_map['load']:\n",
    "    parsec.load_screen(frbfiles_menu,base_n_t_slider,base_logn_f_slider,logibox_slider_init,\n",
    "                       buff_L_slider_init,buff_R_slider_init,RA_display,DEC_display,DM_init_display,ibeam_display,\n",
    "                       mjd_display,updatebutton,filbutton,\n",
    "                       loadbutton)\n"
   ]
  },
  {
   "cell_type": "code",
   "execution_count": null,
   "id": "8d070422",
   "metadata": {
    "slideshow": {
     "slide_type": "skip"
    }
   },
   "outputs": [],
   "source": [
    "# output displays"
   ]
  },
  {
   "cell_type": "code",
   "execution_count": null,
   "id": "9d2d3396",
   "metadata": {
    "slideshow": {
     "slide_type": "-"
    }
   },
   "outputs": [],
   "source": [
    "#display filterbank files if they exist\n",
    "if 'fils' in parsec.state_dict.keys():\n",
    "    if len(parsec.state_dict['fils']) == 0:\n",
    "        mr.Markdown(text=r'##### **Filterbanks:** None Found')\n",
    "    else:\n",
    "        mr.Markdown(text=r'##### **Filterbanks:** ')\n",
    "        for f in parsec.state_dict['fils']:\n",
    "            mr.Markdown(r'###### -' + str(f))\n",
    "\n",
    "#display beamformer weights date if exists\n",
    "if 'bfweights' in parsec.state_dict.keys():\n",
    "    if parsec.state_dict['bfweights'] is None:\n",
    "        bfweights_text = r'##### **Beamformer Weights:** None Found'\n",
    "    else:\n",
    "        bfweights_text = r'##### **Beamformer Weights:** ' + parsec.state_dict['bfweights']\n",
    "    bfweights_display = mr.Markdown(text=bfweights_text)\n"
   ]
  },
  {
   "cell_type": "code",
   "execution_count": null,
   "id": "c88b5660",
   "metadata": {
    "slideshow": {
     "slide_type": "subslide"
    }
   },
   "outputs": [],
   "source": [
    "\n",
    "#if not (parsec.state_dict[\"current_state\"] >= parsec.state_map['load']): raise parsec.StopExecution\n",
    "mr.Markdown(\"##### FRB Parameters\")\n",
    "mr.NumberBox([RA_display,DEC_display,ibeam_display])"
   ]
  },
  {
   "cell_type": "code",
   "execution_count": null,
   "id": "1f67371c",
   "metadata": {
    "slideshow": {
     "slide_type": "-"
    }
   },
   "outputs": [],
   "source": [
    "\n",
    "#if not (parsec.state_dict[\"current_state\"] >= parsec.state_map['load']): raise parsec.StopExecution\n",
    "mr.NumberBox([mjd_display,DM_init_display])"
   ]
  },
  {
   "cell_type": "code",
   "execution_count": null,
   "id": "40ce26d9",
   "metadata": {
    "slideshow": {
     "slide_type": "subslide"
    }
   },
   "outputs": [],
   "source": [
    "# display the output of the logfile\n",
    "#if parsec.state_dict[\"current_state\"] == parsec.state_map['load']:\n",
    "mr.Markdown(\"##### Log:\")\n",
    "if showlog.value:# or refreshlogbutton.clicked:\n",
    "    flog = open(polbeamform.logfile,\"r\")\n",
    "    logtext = flog.read()\n",
    "    flog.close()\n",
    "    mr.Markdown(text=(logtext.replace('\\n','\\n\\n')))\n"
   ]
  },
  {
   "cell_type": "markdown",
   "id": "0b01da2a",
   "metadata": {
    "slideshow": {
     "slide_type": "skip"
    }
   },
   "source": [
    "# (1) Dedispersion Tuning"
   ]
  },
  {
   "cell_type": "code",
   "execution_count": null,
   "id": "a3dde1af",
   "metadata": {
    "slideshow": {
     "slide_type": "skip"
    }
   },
   "outputs": [],
   "source": [
    "#if parsec.state_dict[\"current_state\"] == parsec.state_map['dedisp']:\n",
    "\n",
    "hidden=toggle_menu.value != '(1) Dedispersion Tuning'\n",
    "#widgets for DM tuning dashboard\n",
    "n_t_slider = mr.Slider( #time downsampling factor\n",
    "    value=parsec.wdict['n_t_slider'],\n",
    "    min=1, \n",
    "    max=128, \n",
    "    step=1, \n",
    "    label='$n_t$'\n",
    ",hidden=hidden)\n",
    "logn_f_slider = mr.Slider( #freq downsampling factor\n",
    "    value=parsec.wdict['logn_f_slider'],\n",
    "    min=0, \n",
    "    max=10, \n",
    "    step=1, \n",
    "    label='${\\\\rm log_{2}}(n_f)$'\n",
    ",hidden=hidden)\n",
    "logwindow_slider_init = mr.Slider(\n",
    "    value=parsec.wdict['logwindow_slider_init'],\n",
    "    min=5, \n",
    "    max=9, \n",
    "    step=1, \n",
    "    label=r'base ${\\rm log_{2}}({\\rm window})$'\n",
    ",hidden=hidden)\n",
    "dmstep = parsec.get_min_DM_step(n_t_slider.value)#np.around((32.7e-3)*n_t_slider.value/(4.15)/((1/1.307**2) - (1/1.493**2)),2) #pc/cc\n",
    "ddm_num = mr.Numeric(value=parsec.wdict['ddm_num'], #DM offset\n",
    "                     step=dmstep,\n",
    "                     min=-100,max=100,\n",
    "                     label='$\\Delta {\\\\rm DM}$'\n",
    "                    ,hidden=hidden)\n",
    "\n",
    "DMdonebutton = mr.Button(label='Confirm DM',\n",
    "                         style='primary',\n",
    "                        hidden=hidden)\n",
    "\n",
    "\n"
   ]
  },
  {
   "cell_type": "code",
   "execution_count": null,
   "id": "aaa33ab7",
   "metadata": {
    "slideshow": {
     "slide_type": "slide"
    }
   },
   "outputs": [],
   "source": [
    "# slide title\n",
    "mr.Markdown(\"### (1) Dedispersion Tuning\")"
   ]
  },
  {
   "cell_type": "code",
   "execution_count": null,
   "id": "e642b9f6",
   "metadata": {
    "slideshow": {
     "slide_type": "-"
    }
   },
   "outputs": [],
   "source": [
    "mr.Markdown(\"##### DM Parameters\")\n",
    "\n",
    "\n",
    "#if not (parsec.state_dict[\"current_state\"] >= parsec.state_map['dedisp']): raise parsec.StopExecution\n",
    "DM_input_display = mr.NumberBox(data=parsec.wdict['DM_input_display'],#parsec.FRB_DM[parsec.FRB_IDS.index(ids)], \n",
    "                                title=r'Input DM (pc/cm$^{{-3}}$)'\n",
    "                               )\n",
    "DM_new_display = mr.NumberBox(data=DM_input_display.data + ddm_num.value, \n",
    "                              title=r'New DM (pc/cm$^{{-3}}$)'\n",
    "                             )\n",
    "\n",
    "mr.NumberBox([DM_input_display,DM_new_display])\n",
    "    "
   ]
  },
  {
   "cell_type": "code",
   "execution_count": null,
   "id": "1fe8a508",
   "metadata": {
    "slideshow": {
     "slide_type": "subslide"
    }
   },
   "outputs": [],
   "source": [
    "#if parsec.state_dict[\"current_state\"] >= parsec.state_map['dedisp']:\n",
    "#create DM screen\n",
    "if parsec.state_dict[\"current_state\"] >= parsec.state_map['dedisp']:\n",
    "    parsec.dedisp_screen(n_t_slider,logn_f_slider,logwindow_slider_init,ddm_num,DM_input_display,DM_new_display,DMdonebutton)\n",
    "\n"
   ]
  },
  {
   "cell_type": "markdown",
   "id": "4807b632",
   "metadata": {
    "slideshow": {
     "slide_type": "skip"
    }
   },
   "source": [
    "# (2) Calibration"
   ]
  },
  {
   "cell_type": "code",
   "execution_count": null,
   "id": "8fa4a522",
   "metadata": {
    "slideshow": {
     "slide_type": "skip"
    }
   },
   "outputs": [],
   "source": [
    "#if parsec.state_dict[\"current_state\"] == parsec.state_map['polcal']:\n",
    "#widgets for pol cal dashboard\n",
    "#if we want to create new cal solutions from voltage files on T3, choose from here\n",
    "\n",
    "hidden = toggle_menu.value != '(2) Calibration -- Beamform Cal Voltages'\n",
    "\"\"\"polcaldates = []\n",
    "for k in parsec.polcal_dict.keys():\n",
    "    if 'polcal' not in str(k):\n",
    "        polcaldates.append(str(k))\"\"\"\n",
    "polcaldate_create_menu = mr.Select(label=\"Observation Date for New Polarization Calibration Solution ('YYYY-MM-DD'):\", \n",
    "                            value=parsec.wdict['polcaldate_create_menu'], \n",
    "                            choices=[\"\"] + list(parsec.polcaldates)\n",
    "                           ,hidden=hidden)\n",
    "polcopybutton = mr.Button(label='Copy T3 Voltages and Beamformer Weights',\n",
    "                         style='primary',hidden=hidden)\n",
    "\n",
    "\n",
    "#if we want to create new cal solutions from voltage files that are ALREADY COPIED TO H23 choose from here\n",
    "#polcalfiles_bf = polcal.get_avail_caldates()\n",
    "polcaldate_bf_menu = mr.Select(label=\"Available Polarization Calibration Dates ('YYYY-MM-DD'):\", \n",
    "                            value=parsec.wdict['polcaldate_bf_menu'], \n",
    "                            choices=[\"\"] + list(parsec.polcalfiles_bf)\n",
    "                           ,hidden=hidden)\n",
    "\n",
    "\n",
    "bfcal_button = mr.Button(label='Run Cal Beamformer',style='primary',hidden=hidden)\n",
    "\n"
   ]
  },
  {
   "cell_type": "code",
   "execution_count": null,
   "id": "faeb26f4",
   "metadata": {
    "slideshow": {
     "slide_type": "skip"
    }
   },
   "outputs": [],
   "source": [
    "hidden = (toggle_menu.value != '(2) Calibration -- Make Cal Filterbanks') and (toggle_menu.value != '(2) Calibration -- Choose Cal Observations')\n",
    "polcaldate_findbeams_menu = mr.Select(label=\"Available Dates With Voltages or Filterbanks on h23 ('YYYY-MM-DD'):\", \n",
    "                            value=parsec.wdict['polcaldate_findbeams_menu'],#polcalfiles_findbeams[0], \n",
    "                            choices=list(parsec.polcalfiles_findbeams)\n",
    "                           ,hidden=hidden)"
   ]
  },
  {
   "cell_type": "code",
   "execution_count": null,
   "id": "d9f95bd2",
   "metadata": {
    "slideshow": {
     "slide_type": "skip"
    }
   },
   "outputs": [],
   "source": [
    "hidden = toggle_menu.value != '(2) Calibration -- Make Cal Filterbanks'\n",
    "#if we want to start from formed beams in scratch directory\n",
    "#polcalfiles_findbeams = polcal.get_beamfinding_files()\n",
    "\n",
    "\n",
    "findbeams_button = mr.Button(label='Find Beam Numbers',style='primary',hidden=hidden)\n",
    "filcalbutton = mr.Button(label='Make Calibrator Filterbanks',style='primary',hidden=hidden)\n",
    "\n",
    "\n",
    "refreshlogcalbutton = mr.Button(label='Refresh Log',style='primary',hidden=hidden)\n",
    "\n"
   ]
  },
  {
   "cell_type": "code",
   "execution_count": null,
   "id": "81805d36",
   "metadata": {
    "slideshow": {
     "slide_type": "skip"
    }
   },
   "outputs": [],
   "source": [
    "hidden = toggle_menu.value != '(2) Calibration -- Choose Cal Observations'\n",
    "#if we want to make solution from filterbanks\n",
    "obs_files,obs_ids = polcal.get_calfil_files('3C48',polcaldate_findbeams_menu.value,'3C48*0')\n",
    "#initval = ''\n",
    "\"\"\"if 'cal_name_3C48_center' in parsec.polcal_dict.keys():\n",
    "    initval = parsec.polcal_dict['cal_name_3C48_center']\n",
    "\"\"\"\n",
    "obsid3C48_menu = mr.Select(label=\"3C48 Cal Observation ID:\", \n",
    "                            value=parsec.wdict['obsid3C48_menu'], \n",
    "                            choices=[\"\"] + list(obs_ids)\n",
    "                           ,hidden=hidden)\n",
    "obs_files,obs_ids = polcal.get_calfil_files('3C286',polcaldate_findbeams_menu.value,'3C286*0')\n",
    "#initval = ''\n",
    "\"\"\"if 'cal_name_3C286_center' in parsec.polcal_dict.keys():\n",
    "    initval = parsec.polcal_dict['cal_name_3C286_center']\n",
    "\"\"\"\n",
    "obsid3C286_menu = mr.Select(label=\"3C286 Cal Observation ID:\", \n",
    "                            value=parsec.wdict['obsid3C286_menu'], \n",
    "                            choices=[\"\"] + list(obs_ids)\n",
    "                           ,hidden=hidden)\n",
    "ParA_display = mr.NumberBox(data=parsec.wdict['ParA_display'], title=r'Parallactic Angle ($^{\\circ}$)') \n",
    "\n"
   ]
  },
  {
   "cell_type": "code",
   "execution_count": null,
   "id": "44b8366b",
   "metadata": {
    "slideshow": {
     "slide_type": "skip"
    }
   },
   "outputs": [],
   "source": [
    "\n",
    "hidden = toggle_menu.value != r'(2) Calibration -- Make Cal Solutions ($|g_{yy}|$)'\n",
    "peakheight_slider = mr.Slider( \n",
    "    value=parsec.wdict['peakheight_slider'],\n",
    "    min=1, \n",
    "    max=10, \n",
    "    step=1, \n",
    "    label=r'Peak Height'\n",
    ",hidden=hidden)\n",
    "peakwidth_slider = mr.Slider( \n",
    "    value=parsec.wdict['peakwidth_slider'],\n",
    "    min=1, \n",
    "    max=20, \n",
    "    step=1, \n",
    "    label=r'Peak Width'\n",
    ",hidden=hidden)\n",
    "sfflag =  mr.Checkbox(value=parsec.wdict['sfflag'], label=\"Savgol Filter\",hidden=hidden)\n",
    "sf_window_weight_cals = mr.Slider( \n",
    "    value=parsec.wdict['sf_window_weight_cals'],\n",
    "    min=3, \n",
    "    max=510, \n",
    "    step=2, \n",
    "    label=r'$sf_{ww}$'\n",
    ",hidden=hidden)\n",
    "sf_order_cals = mr.Slider( \n",
    "    value=parsec.wdict['sf_order_cals'],\n",
    "    min=1, \n",
    "    max=10, \n",
    "    step=1, \n",
    "    label=r'$sf_{o}$'\n",
    ",hidden=hidden)\n",
    "polyfitflag =  mr.Checkbox(value=parsec.wdict['polyfitflag'], label=\"Fit with Polynomial\",hidden=hidden)\n",
    "polyfitorder_slider = mr.Slider( \n",
    "    value=parsec.wdict['polyfitorder_slider'],\n",
    "    min=1, \n",
    "    max=9, \n",
    "    step=1, \n",
    "    label=r'Polynomial Fit Degree'\n",
    ",hidden=hidden)\n",
    "edgefreq_slider = mr.Slider( \n",
    "    value=parsec.wdict['edgefreq_slider'],\n",
    "    min=1311.25000003072, \n",
    "    max=1498.75, \n",
    "    step=30.4e-3, \n",
    "    label=r'Edge Frequency (MHz) Cutoff (for Fitting Piecewise Solution)'\n",
    ",hidden=hidden)\n",
    "breakfreq_slider = mr.Slider( \n",
    "    value=parsec.wdict['breakfreq_slider'],\n",
    "    min=1311.25000003072, \n",
    "    max=1498.75, \n",
    "    step=30.4e-3, \n",
    "    label=r'Break Frequency (MHz) Cutoff (for Stitching Piecewise Solution)'\n",
    ",hidden=hidden)\n"
   ]
  },
  {
   "cell_type": "code",
   "execution_count": null,
   "id": "982e0f26",
   "metadata": {
    "slideshow": {
     "slide_type": "skip"
    }
   },
   "outputs": [],
   "source": [
    "\n",
    "\n",
    "hidden = toggle_menu.value != r'(2) Calibration -- Make Cal Solutions ($|g_{xx}|/|g_{yy}|$)'\n",
    "ratio_peakheight_slider = mr.Slider( \n",
    "    value=parsec.wdict['ratio_peakheight_slider'],\n",
    "    min=1, \n",
    "    max=10, \n",
    "    step=1, \n",
    "    label=r'Peak Height'\n",
    ",hidden=hidden)\n",
    "ratio_peakwidth_slider = mr.Slider( \n",
    "    value=parsec.wdict['ratio_peakwidth_slider'],\n",
    "    min=1, \n",
    "    max=20, \n",
    "    step=1, \n",
    "    label=r'Peak Width'\n",
    ",hidden=hidden)\n",
    "ratio_sfflag =  mr.Checkbox(value=parsec.wdict['ratio_sfflag'], label=\"Savgol Filter\",hidden=hidden)\n",
    "ratio_sf_window_weight_cals = mr.Slider( \n",
    "    value=parsec.wdict['ratio_sf_window_weight_cals'],\n",
    "    min=3, \n",
    "    max=510, \n",
    "    step=2, \n",
    "    label=r'$sf_{ww}$'\n",
    ",hidden=hidden)\n",
    "ratio_sf_order_cals = mr.Slider( \n",
    "    value=parsec.wdict['ratio_sf_order_cals'],\n",
    "    min=1, \n",
    "    max=10, \n",
    "    step=1, \n",
    "    label=r'$sf_{o}$'\n",
    ",hidden=hidden)\n",
    "ratio_polyfitflag =  mr.Checkbox(value=parsec.wdict['ratio_polyfitflag'], label=\"Fit with Polynomial\",hidden=hidden)\n",
    "ratio_polyfitorder_slider = mr.Slider( \n",
    "    value=parsec.wdict['ratio_polyfitorder_slider'],\n",
    "    min=1, \n",
    "    max=9, \n",
    "    step=1, \n",
    "    label=r'Polynomial Fit Degree'\n",
    ",hidden=hidden)\n",
    "ratio_edgefreq_slider = mr.Slider( \n",
    "    value=parsec.wdict['ratio_edgefreq_slider'],\n",
    "    min=1311.25000003072, \n",
    "    max=1498.75, \n",
    "    step=30.4e-3, \n",
    "    label=r'Edge Frequency (MHz) Cutoff (for Fitting Piecewise Solution)'\n",
    ",hidden=hidden)\n",
    "ratio_breakfreq_slider = mr.Slider( \n",
    "    value=parsec.wdict['ratio_breakfreq_slider'],\n",
    "    min=1311.25000003072, \n",
    "    max=1498.75, \n",
    "    step=30.4e-3, \n",
    "    label=r'Break Frequency (MHz) Cutoff (for Stitching Piecewise Solution)'\n",
    ",hidden=hidden)"
   ]
  },
  {
   "cell_type": "code",
   "execution_count": null,
   "id": "fa96031a",
   "metadata": {
    "slideshow": {
     "slide_type": "skip"
    }
   },
   "outputs": [],
   "source": [
    "\n",
    "hidden = toggle_menu.value != r'(2) Calibration -- Make Cal Solutions ($\\angle g_{xx} - \\angle g_{yy}$)'\n",
    "phase_peakheight_slider = mr.Slider( \n",
    "    value=parsec.wdict['phase_peakheight_slider'],\n",
    "    min=1, \n",
    "    max=10, \n",
    "    step=1, \n",
    "    label=r'Peak Height'\n",
    ",hidden=hidden)\n",
    "phase_peakwidth_slider = mr.Slider( \n",
    "    value=parsec.wdict['phase_peakwidth_slider'],\n",
    "    min=1, \n",
    "    max=20, \n",
    "    step=1, \n",
    "    label=r'Peak Width'\n",
    ",hidden=hidden)\n",
    "phase_sfflag =  mr.Checkbox(value=parsec.wdict['phase_sfflag'], label=\"Savgol Filter\",hidden=hidden)\n",
    "phase_sf_window_weight_cals = mr.Slider( \n",
    "    value=parsec.wdict['phase_sf_window_weight_cals'],\n",
    "    min=3, \n",
    "    max=510, \n",
    "    step=2, \n",
    "    label=r'$sf_{ww}$'\n",
    ",hidden=hidden)\n",
    "phase_sf_order_cals = mr.Slider( \n",
    "    value=parsec.wdict['phase_sf_order_cals'],\n",
    "    min=1, \n",
    "    max=10, \n",
    "    step=1, \n",
    "    label=r'$sf_{o}$'\n",
    ",hidden=hidden)\n",
    "phase_polyfitflag =  mr.Checkbox(value=parsec.wdict['phase_polyfitflag'], label=\"Fit with Polynomial\",hidden=hidden)\n",
    "phase_polyfitorder_slider = mr.Slider( \n",
    "    value=parsec.wdict['phase_polyfitorder_slider'],\n",
    "    min=1, \n",
    "    max=9, \n",
    "    step=1, \n",
    "    label=r'Polynomial Fit Degree'\n",
    ",hidden=hidden)\n",
    "\n",
    "savecalsolnbutton = mr.Button(label='Save Cal Solution',\n",
    "                         style='primary',hidden=hidden)\n"
   ]
  },
  {
   "cell_type": "code",
   "execution_count": null,
   "id": "b14c606d",
   "metadata": {
    "slideshow": {
     "slide_type": "skip"
    }
   },
   "outputs": [],
   "source": [
    "hidden = toggle_menu.value != r'(2) Calibration -- Calibrate'\n",
    "#if pol cal solution already exists\n",
    "#polcalfiles = glob.glob(parsec.default_path + 'POLCAL_PARAMETERS_*csv')\n",
    "#polcalfiles = [polcalfiles[i][polcalfiles[i].index('POLCAL'):] for i in range(len(polcalfiles))]\n",
    "polcaldate_menu = mr.Select(label=\"Polarization Calibration File ('YY-MM-DD'):\", \n",
    "                            value=parsec.wdict['polcaldate_menu'], \n",
    "                            choices=[\"\"] + parsec.polcalfiles\n",
    "                           ,hidden=hidden)\n",
    "\n",
    "polcalbutton = mr.Button(label='Calibrate',\n",
    "                         style='primary',hidden=hidden)\n",
    "\n",
    "\n",
    "showlogcal = mr.Checkbox(value=parsec.wdict['showlogcal'], label=\"Show Pol Cal Log\",hidden=hidden)\n"
   ]
  },
  {
   "cell_type": "code",
   "execution_count": null,
   "id": "8f475b18",
   "metadata": {
    "slideshow": {
     "slide_type": "slide"
    }
   },
   "outputs": [],
   "source": [
    "mr.Markdown(\"### (2) Calibration\")\n"
   ]
  },
  {
   "cell_type": "code",
   "execution_count": null,
   "id": "40da066f",
   "metadata": {
    "slideshow": {
     "slide_type": "-"
    }
   },
   "outputs": [],
   "source": [
    "#%%capture --no-stderr\n",
    "#%%capture --no-stdout\n",
    "#create pol cal screen\n",
    "#warnings.resetwarnings()\n",
    "mr.Markdown(\" Observation Beams:\")\n",
    "if parsec.state_dict[\"current_state\"] >= parsec.state_map['polcal']:\n",
    "    beam_dict_3C48,beam_dict_3C286 = parsec.polcal_screen(polcaldate_menu,polcaldate_create_menu,polcaldate_bf_menu,polcaldate_findbeams_menu,obsid3C48_menu,obsid3C286_menu,\n",
    "                                                     polcalbutton,polcopybutton,bfcal_button,findbeams_button,filcalbutton,ParA_display,\n",
    "                                                     edgefreq_slider,breakfreq_slider,sf_window_weight_cals,sf_order_cals,peakheight_slider,peakwidth_slider,polyfitorder_slider,\n",
    "                                                     ratio_edgefreq_slider,ratio_breakfreq_slider,ratio_sf_window_weight_cals,ratio_sf_order_cals,ratio_peakheight_slider,ratio_peakwidth_slider,ratio_polyfitorder_slider,\n",
    "                                                     phase_sf_window_weight_cals,phase_sf_order_cals,phase_peakheight_slider,phase_peakwidth_slider,phase_polyfitorder_slider,savecalsolnbutton,\n",
    "                                                     sfflag,polyfitflag,ratio_sfflag,ratio_polyfitflag,phase_sfflag,phase_polyfitflag)\n",
    "    \n",
    "    "
   ]
  },
  {
   "cell_type": "code",
   "execution_count": null,
   "id": "3048b834",
   "metadata": {
    "slideshow": {
     "slide_type": "skip"
    }
   },
   "outputs": [],
   "source": [
    "#%%capture --no-stderr\n",
    "#%%capture --no-stdout\n",
    "#create pol cal screen\n",
    "if parsec.state_dict[\"current_state\"] >= parsec.state_map['polcal']:\n",
    "    fig = parsec.polcal_screen2(polcaldate_menu,polcaldate_create_menu,polcaldate_bf_menu,polcaldate_findbeams_menu,obsid3C48_menu,obsid3C286_menu,\n",
    "                                                     polcalbutton,polcopybutton,bfcal_button,findbeams_button,filcalbutton,ParA_display,\n",
    "                                                     edgefreq_slider,breakfreq_slider,sf_window_weight_cals,sf_order_cals,peakheight_slider,peakwidth_slider,polyfitorder_slider,\n",
    "                                                     ratio_edgefreq_slider,ratio_breakfreq_slider,ratio_sf_window_weight_cals,ratio_sf_order_cals,ratio_peakheight_slider,ratio_peakwidth_slider,ratio_polyfitorder_slider,\n",
    "                                                     phase_sf_window_weight_cals,phase_sf_order_cals,phase_peakheight_slider,phase_peakwidth_slider,phase_polyfitorder_slider,savecalsolnbutton,\n",
    "                                                     sfflag,polyfitflag,ratio_sfflag,ratio_polyfitflag,phase_sfflag,phase_polyfitflag,beam_dict_3C48,beam_dict_3C286)\n",
    "else:\n",
    "    fig = None"
   ]
  },
  {
   "cell_type": "code",
   "execution_count": null,
   "id": "71bbe76f",
   "metadata": {
    "slideshow": {
     "slide_type": "subslide"
    }
   },
   "outputs": [],
   "source": [
    "\n",
    "mr.Markdown(\" Polarization Calibration Solution:\")\n",
    "fig"
   ]
  },
  {
   "cell_type": "code",
   "execution_count": null,
   "id": "34115cf9",
   "metadata": {
    "slideshow": {
     "slide_type": "subslide"
    }
   },
   "outputs": [],
   "source": [
    "\n",
    "mr.Markdown(\" Parallactic Angle Estimate:\")\n",
    "#if not (parsec.state_dict[\"current_state\"] >= parsec.state_map['polcal']): raise parsec.StopExecution\n",
    "ParA_display"
   ]
  },
  {
   "cell_type": "code",
   "execution_count": null,
   "id": "c412f331",
   "metadata": {
    "slideshow": {
     "slide_type": "subslide"
    }
   },
   "outputs": [],
   "source": [
    "#table of new pol cal data\n",
    "mr.Markdown(\" Table of Pol Cal Voltages on T3:\")\n",
    "mr.Table(data=parsec.df_polcal, width=\"200px\")\n"
   ]
  },
  {
   "cell_type": "code",
   "execution_count": null,
   "id": "f214a9f1",
   "metadata": {
    "slideshow": {
     "slide_type": "subslide"
    }
   },
   "outputs": [],
   "source": [
    "\n",
    "mr.Markdown(\" Selected 3C48 Pol Cal Files:\")\n",
    "#display voltages and beamformer weight files for current selection\n",
    "if polcaldate_bf_menu.value != \"\":\n",
    "    #display filterbank files if they exist\n",
    "    if 'polcal_avail_3C48' in parsec.polcal_dict.keys():\n",
    "        if len(parsec.polcal_dict['polcal_avail_3C48']) == 0:\n",
    "            mr.Markdown(text=r'###### **3C48 Voltages:** None Found')\n",
    "        else:\n",
    "            mr.Markdown(text=r'###### **3C48 Voltages:** ')\n",
    "            for f in parsec.state_dict['polcal_avail_3C48']:\n",
    "                mr.Markdown(r'- ######' + f)\n",
    "    if 'polcal_avail_bf_3C48' in parsec.polcal_dict.keys():\n",
    "        if len(parsec.polcal_dict['polcal_avail_bf_3C48']) == 0:\n",
    "            mr.Markdown(text=r'##### **3C48 Beamformer Weights:** None Found')\n",
    "        else:\n",
    "            mr.Markdown(text=r'##### **3C48 Beamformer Weights:** ')\n",
    "            for f in parsec.state_dict['polcal_avail_bf_3C48']:\n",
    "                mr.Markdown(r'- #####' + f)"
   ]
  },
  {
   "cell_type": "code",
   "execution_count": null,
   "id": "42aa88d9",
   "metadata": {
    "slideshow": {
     "slide_type": "subslide"
    }
   },
   "outputs": [],
   "source": [
    "\n",
    "mr.Markdown(\" Selected 3C286 Pol Cal Files:\")\n",
    "#display voltages and beamformer weight files for current selection\n",
    "if polcaldate_bf_menu.value != \"\":\n",
    "    #display filterbank files if they exist\n",
    "    if 'polcal_avail_3C286' in parsec.polcal_dict.keys():\n",
    "        if len(parsec.polcal_dict['polcal_avail_3C286']) == 0:\n",
    "            mr.Markdown(text=r'###### **3C286 Voltages:** None Found')\n",
    "        else:\n",
    "            mr.Markdown(text=r'###### **3C286 Voltages:** ')\n",
    "            for f in parsec.polcal_dict['polcal_avail_3C286']:\n",
    "                mr.Markdown(r'- ######' + f)\n",
    "    if 'polcal_avail_bf_3C286' in parsec.polcal_dict.keys():\n",
    "        if len(parsec.polcal_dict['polcal_avail_bf_3C286']) == 0:\n",
    "            mr.Markdown(text=r'##### **3C286 Beamformer Weights:** None Found')\n",
    "        else:\n",
    "            mr.Markdown(text=r'##### **3C286 Beamformer Weights:** ')\n",
    "            for f in parsec.polcal_dict['polcal_avail_bf_3C286']:\n",
    "                mr.Markdown(r'- #####' + f)"
   ]
  },
  {
   "cell_type": "code",
   "execution_count": null,
   "id": "a64a7014",
   "metadata": {
    "slideshow": {
     "slide_type": "subslide"
    }
   },
   "outputs": [],
   "source": [
    "\n",
    "#display beam numbers for each cal pass\n",
    "mr.Markdown(\" Table of Local Pol Cal Filterbanks:\")\n",
    "mr.Table(data=parsec.df_beams,width=\"200px\") \n"
   ]
  },
  {
   "cell_type": "code",
   "execution_count": null,
   "id": "78983d47",
   "metadata": {
    "slideshow": {
     "slide_type": "subslide"
    }
   },
   "outputs": [],
   "source": [
    "\n",
    "#display the filterbank and beamformer weight files for selected observation ID\n",
    "\n",
    "#3C48 \n",
    "mr.Markdown(\" Selected 3C48 Filterbanks and Weights:\")\n",
    "if obsid3C48_menu.value != '':\n",
    "    obs_files,obs_ids = polcal.get_calfil_files('3C48',polcaldate_findbeams_menu.value,obsid3C48_menu.value)\n",
    "    if len(obs_files) == 0: mr.Markdown(text = r'##### **' + obsid3C48_menu.value + ' Filterbanks:** None Found')\n",
    "    else:\n",
    "        mr.Markdown(text=r'##### **' + obsid3C48_menu.value + ' Filterbanks:**')\n",
    "        for f in obs_files:\n",
    "            mr.Markdown(r'- #####' + f)\n",
    "\n",
    "    if obsid3C48_menu.value in parsec.df_beams.index.tolist():#beam_dict_3C48.keys():\n",
    "        #print(beam_dict_3C48.keys())\n",
    "        mr.Markdown(text=r'##### **' + obsid3C48_menu.value + ' Beamformer Weights:**')\n",
    "        #print(polcal.bfweights_output_path + \"*\" + polcal.VLANAME_DICT['3C48'] + \"*\" + parsec.df_beams['beamformer weights'].loc[obsid3C48_menu.value][:19] + \"*\")\n",
    "        bf_files = glob.glob(polcal.bfweights_output_path + \"*\" + polcal.VLANAME_DICT['3C48'] + \"*\" + parsec.df_beams['beamformer weights'].loc[obsid3C48_menu.value][:19] + \"*\")\n",
    "        for f in bf_files:\n",
    "            mr.Markdown(text = r'- #####' + f)\n",
    "    else:\n",
    "        mr.Markdown(text = r'##### **' + obsid3C48_menu.value + ' Beamformer Weights:** None Found')\n"
   ]
  },
  {
   "cell_type": "code",
   "execution_count": null,
   "id": "508ddbfe",
   "metadata": {
    "slideshow": {
     "slide_type": "subslide"
    }
   },
   "outputs": [],
   "source": [
    "\n",
    "#3C286\n",
    "mr.Markdown(\" Selected 3C286 Filterbanks and Weights:\")\n",
    "if obsid3C286_menu.value != '':\n",
    "    obs_files,obs_ids = polcal.get_calfil_files('3C286',polcaldate_findbeams_menu.value,obsid3C286_menu.value)\n",
    "    if len(obs_files) == 0: mr.Markdown(text = r'##### **' + obsid3C286_menu.value + ' Filterbanks:** None Found')\n",
    "    else:\n",
    "        mr.Markdown(text=r'##### **' + obsid3C286_menu.value + ' Filterbanks:**')\n",
    "        for f in obs_files:\n",
    "            mr.Markdown(text = r'- #####' + f)\n",
    "\n",
    "    if obsid3C286_menu.value in parsec.df_beams.index.tolist():\n",
    "        mr.Markdown(text=r'##### **' + obsid3C286_menu.value + ' Beamformer Weights:**')\n",
    "        bf_files = glob.glob(polcal.bfweights_output_path + \"*\" + polcal.VLANAME_DICT['3C286'] + \"*\" + parsec.df_beams['beamformer weights'].loc[obsid3C286_menu.value][:19] + \"*\")\n",
    "        #print(polcal.bfweights_output_path + \"*\" + polcal.VLANAME_DICT['3C286'] + \"*\" + parsec.df_beams['beamformer weights'].loc[obsid3C286_menu.value][:19] +  \"*\")\n",
    "        for f in bf_files:\n",
    "            mr.Markdown(text = r'- #####' + f)\n",
    "    else:\n",
    "        mr.Markdown(text=r'##### **' + obsid3C286_menu.value + ' Beamformer Weights:** None Found')\n",
    "\n"
   ]
  },
  {
   "cell_type": "code",
   "execution_count": null,
   "id": "f9afd853",
   "metadata": {
    "slideshow": {
     "slide_type": "subslide"
    }
   },
   "outputs": [],
   "source": [
    "# display the output of the logfile\n",
    "mr.Markdown(\" Log:\")\n",
    "if showlogcal.value:# or refreshlogbutton.clicked:\n",
    "    flog = open(polcal.logfile,\"r\")\n",
    "    logtext = flog.read()\n",
    "    flog.close()\n",
    "    mr.Markdown(text=(logtext.replace('\\n','\\n\\n')))\n"
   ]
  },
  {
   "cell_type": "markdown",
   "id": "8743dc03",
   "metadata": {
    "slideshow": {
     "slide_type": "skip"
    }
   },
   "source": [
    "# (3) Filter Weights"
   ]
  },
  {
   "cell_type": "code",
   "execution_count": null,
   "id": "abffa989",
   "metadata": {
    "slideshow": {
     "slide_type": "skip"
    }
   },
   "outputs": [],
   "source": [
    "\n",
    "#widgets for filter weights dashboard\n",
    "hidden = toggle_menu.value != '(3) Filter Weights'\n",
    "\n",
    "ncomps_num = mr.Numeric(value=parsec.wdict['ncomps_num'], \n",
    "                     step=1,\n",
    "                     min=1,max=5,\n",
    "                     label='Number of Components'\n",
    "                    ,hidden=hidden)\n",
    "comprange_slider = mr.Range(value=parsec.wdict['comprange_slider'],  #ms\n",
    "                        min=0, \n",
    "                        max=50, \n",
    "                        label=\"Lower and Upper Limit of Component (ms from window start)\", \n",
    "                        step=32.7e-3\n",
    "                ,hidden=hidden)\n",
    "\"\"\"n_t_slider_filt = mr.Slider( #time downsampling factor\n",
    "    value=parsec.wdict['n_t_slider_filt'],\n",
    "    min=1, \n",
    "    max=128, \n",
    "    step=1, \n",
    "    label='$n_t$'\n",
    ",hidden=hidden)\n",
    "logn_f_slider_filt = mr.Slider( #freq downsampling factor\n",
    "    value=parsec.wdict['logn_f_slider_filt'],\n",
    "    min=0, \n",
    "    max=10, \n",
    "    step=1, \n",
    "    label='${\\\\rm log_{2}}(n_f)$'\n",
    ",hidden=hidden)\"\"\"\n",
    "avger_w_slider = mr.Slider(\n",
    "    value=parsec.wdict['avger_w_slider'],\n",
    "    min=1, \n",
    "    max=32, \n",
    "    step=1, \n",
    "    label=r'$n_{tw}$'\n",
    ",hidden=hidden)\n",
    "sf_window_weights_slider = mr.Slider(\n",
    "    value=parsec.wdict['sf_window_weights_slider'],\n",
    "    min=3, \n",
    "    max=33, \n",
    "    step=2, \n",
    "    label=r'$sf_{ww}$'\n",
    ",hidden=hidden)\n",
    "logibox_slider = mr.Slider(\n",
    "    value=parsec.wdict['logibox_slider'],\n",
    "    min=0, \n",
    "    max=6, \n",
    "    step=1, \n",
    "    label=r'${\\rm log_{2}}({\\rm ibox})$'\n",
    ",hidden=hidden)\n",
    "logwindow_slider = mr.Slider(\n",
    "    value=parsec.wdict['logwindow_slider'],\n",
    "    min=5, \n",
    "    max=9, \n",
    "    step=1, \n",
    "    label=r'base ${\\rm log_{2}}({\\rm window})$'\n",
    ",hidden=hidden)\n",
    "\n",
    "buff_L_slider = mr.Slider(\n",
    "    value=parsec.wdict['buff_L_slider'],\n",
    "    min=1, \n",
    "    max=128, \n",
    "    step=1, \n",
    "    label=r'${\\rm buff}_{L}$'\n",
    ",hidden=hidden)\n",
    "buff_R_slider = mr.Slider(\n",
    "    value=parsec.wdict['buff_R_slider'],\n",
    "    min=1, \n",
    "    max=128, \n",
    "    step=1, \n",
    "    label=r'${\\rm buff}_{R}$'\n",
    ",hidden=hidden)\n",
    "\n",
    "nextcompbutton = mr.Button(label='Next Component',\n",
    "                         style='primary',hidden=hidden)\n",
    "\n",
    "donecompbutton = mr.Button(label='Done',\n",
    "                         style='primary',hidden=hidden)"
   ]
  },
  {
   "cell_type": "code",
   "execution_count": null,
   "id": "5679a624",
   "metadata": {
    "slideshow": {
     "slide_type": "slide"
    }
   },
   "outputs": [],
   "source": [
    "\n",
    "mr.Markdown(\"### (3) Filter Weights\")"
   ]
  },
  {
   "cell_type": "code",
   "execution_count": null,
   "id": "ca3e26d8",
   "metadata": {
    "slideshow": {
     "slide_type": "-"
    }
   },
   "outputs": [],
   "source": [
    "\n",
    "\n",
    "\n",
    "#create pol cal screen\n",
    "if (parsec.state_dict[\"current_state\"] >= parsec.state_map['filter']):\n",
    "\n",
    "\n",
    "    parsec.filter_screen(logwindow_slider,logibox_slider,\n",
    "                     buff_L_slider,buff_R_slider,ncomps_num,comprange_slider,nextcompbutton,donecompbutton,\n",
    "                    avger_w_slider,sf_window_weights_slider)"
   ]
  },
  {
   "cell_type": "code",
   "execution_count": null,
   "id": "920b372f",
   "metadata": {
    "slideshow": {
     "slide_type": "subslide"
    }
   },
   "outputs": [],
   "source": [
    "\n",
    "mr.Table(data=parsec.df, width=\"200px\")#, text_align=\"center\")\n"
   ]
  },
  {
   "cell_type": "code",
   "execution_count": null,
   "id": "fe3182df",
   "metadata": {
    "slideshow": {
     "slide_type": "subslide"
    }
   },
   "outputs": [],
   "source": [
    "\n",
    "#if not (parsec.state_dict[\"current_state\"] >= parsec.state_map['filter']): raise parsec.StopExecution\n",
    "mr.NumberBox(data=parsec.state_dict[\"current_state\"], \n",
    "                              title=r'Current Screen Index'\n",
    "                             )"
   ]
  }
 ],
 "metadata": {
  "celltoolbar": "Slideshow",
  "kernelspec": {
   "display_name": "casa38",
   "language": "python",
   "name": "casa38"
  },
  "language_info": {
   "codemirror_mode": {
    "name": "ipython",
    "version": 3
   },
   "file_extension": ".py",
   "mimetype": "text/x-python",
   "name": "python",
   "nbconvert_exporter": "python",
   "pygments_lexer": "ipython3",
   "version": "3.8.13"
  }
 },
 "nbformat": 4,
 "nbformat_minor": 5
}
