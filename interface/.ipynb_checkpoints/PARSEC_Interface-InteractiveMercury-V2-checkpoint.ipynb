{
 "cells": [
  {
   "cell_type": "code",
   "execution_count": null,
   "id": "b0e47ef0",
   "metadata": {
    "scrolled": true,
    "slideshow": {
     "slide_type": "skip"
    }
   },
   "outputs": [],
   "source": [
    "%load_ext autoreload\n",
    "%autoreload 2\n",
    "\n",
    "from dsapol import parsec\n",
    "from dsapol import polbeamform\n",
    "from dsapol import polcal\n",
    "import numpy as np\n",
    "from matplotlib import pyplot as plt\n",
    "from dsapol import dsapol\n",
    "from scipy.signal import correlate\n",
    "from scipy.signal import savgol_filter as sf\n",
    "from scipy.signal import convolve\n",
    "from scipy.signal import fftconvolve\n",
    "from scipy.ndimage import convolve1d\n",
    "from scipy.signal import peak_widths\n",
    "from scipy.stats import chi\n",
    "from scipy.stats import norm\n",
    "import copy\n",
    "import glob\n",
    "import csv\n",
    "\n",
    "\n",
    "from numpy.ma import masked_array as ma\n",
    "from scipy.stats import kstest\n",
    "from scipy.optimize import curve_fit\n",
    "\n",
    "\n",
    "from scipy.signal import find_peaks\n",
    "from scipy.signal import peak_widths\n",
    "import copy\n",
    "import numpy as np\n",
    "\n",
    "from sigpyproc import FilReader\n",
    "from sigpyproc.Filterbank import FilterbankBlock\n",
    "from sigpyproc.Header import Header\n",
    "from matplotlib import pyplot as plt\n",
    "import pylab\n",
    "import pickle\n",
    "import json\n",
    "from scipy.interpolate import interp1d\n",
    "from scipy.stats import chi2\n",
    "from scipy.stats import chi\n",
    "from scipy.signal import savgol_filter as sf\n",
    "from scipy.signal import convolve\n",
    "from scipy.ndimage import convolve1d\n",
    "from RMtools_1D.do_RMsynth_1D import run_rmsynth\n",
    "from RMtools_1D.do_RMclean_1D import run_rmclean\n",
    "from RMtools_1D.do_QUfit_1D_mnest import run_qufit\n",
    "from astropy.time import Time\n",
    "from astropy.coordinates import EarthLocation\n",
    "import astropy.units as u\n",
    "\n",
    "import pandas as pd\n",
    "import mercury as mr"
   ]
  },
  {
   "cell_type": "code",
   "execution_count": null,
   "id": "654baf65",
   "metadata": {
    "slideshow": {
     "slide_type": "skip"
    }
   },
   "outputs": [],
   "source": [
    "\n",
    "app = mr.App(title=\"(V2) Polarization Analysis Dashboard\", description=\"With this dashboard, you can conduct RM synthesis, get polarization fractions, and conduct de-dispersion tuning.\")"
   ]
  },
  {
   "cell_type": "markdown",
   "id": "232966fb",
   "metadata": {
    "slideshow": {
     "slide_type": "skip"
    }
   },
   "source": [
    "# (0) Load Data"
   ]
  },
  {
   "cell_type": "code",
   "execution_count": null,
   "id": "20b2bb94",
   "metadata": {
    "slideshow": {
     "slide_type": "slide"
    }
   },
   "outputs": [],
   "source": [
    "#if parsec.state_dict[\"current_state\"] == parsec.state_map['load']:\n",
    "\n",
    "#widgets for data loading dashboard\n",
    "mr.Markdown(\"### (0) Load Data\")\n",
    "mr.Note(text=\"# Load Data Parameters\")\n",
    "\n",
    "\n",
    "frbfiles = parsec.get_frbfiles()\n",
    "frbfiles_menu = mr.Select(label=\"FRB (candname_nickname):\", \n",
    "                            value=frbfiles[0], choices=frbfiles,hidden=False)\n",
    "base_n_t_slider = mr.Slider( #time downsampling factor\n",
    "    value=1,\n",
    "    min=1, \n",
    "    max=128, \n",
    "    step=1, \n",
    "    label=r'base $n_t$'\n",
    ",hidden=False)\n",
    "base_logn_f_slider = mr.Slider( #freq downsampling factor\n",
    "    value=0,\n",
    "    min=0, \n",
    "    max=10, \n",
    "    step=1, \n",
    "    label=r'base ${\\rm log_{2}}({\\rm n_f})$'\n",
    ",hidden=False)\n",
    "logibox_slider_init = mr.Slider(\n",
    "    value=0,\n",
    "    min=0, \n",
    "    max=6, \n",
    "    step=1, \n",
    "    label=r'${\\rm log_{2}}({\\rm ibox})$'\n",
    ",hidden=False)\n",
    "\n",
    "buff_L_slider_init = mr.Slider(\n",
    "    value=1,\n",
    "    min=1, \n",
    "    max=128, \n",
    "    step=1, \n",
    "    label=r'${\\rm buff}_{L}$'\n",
    ",hidden=False)\n",
    "buff_R_slider_init = mr.Slider(\n",
    "    value=1,\n",
    "    min=1, \n",
    "    max=128, \n",
    "    step=1, \n",
    "    label=r'${\\rm buff}_{R}$'\n",
    ",hidden=False)\n",
    "\n",
    "\n",
    "\n",
    "updatebutton = mr.Button(label='Update FRB Params',style='primary',hidden=False)\n",
    "filbutton = mr.Button(label='Make Filterbanks',style='primary',hidden=False)\n",
    "loadbutton = mr.Button(label='Load FRB Data',style='primary',hidden=False)\n",
    "refreshlogbutton = mr.Button(label='Refresh Log',style='primary',hidden=False)\n",
    "\n",
    "showlog = mr.Checkbox(value=True, label=\"Show Beamformer Log\")\n",
    "\n",
    "\n",
    "\n",
    "#get parameters for default frb\n",
    "ids = frbfiles_menu.value[:frbfiles_menu.value.index('_')]\n",
    "RA = parsec.FRB_RA[parsec.FRB_IDS.index(ids)]\n",
    "DEC = parsec.FRB_DEC[parsec.FRB_IDS.index(ids)]\n",
    "ibeam = int(parsec.FRB_BEAM[parsec.FRB_IDS.index(ids)])\n",
    "mjd = parsec.FRB_mjd[parsec.FRB_IDS.index(ids)]\n",
    "mjd_display = mr.NumberBox(data=mjd,title=r'MJD')\n",
    "DMinit = parsec.FRB_DM[parsec.FRB_IDS.index(ids)]\n",
    "\n",
    "\n",
    "RA_display = mr.NumberBox(data=RA, title=r'RA ($^{\\circ}$)')\n",
    "DEC_display = mr.NumberBox(data=DEC, title=r'DEC ($^{\\circ}$)')\n",
    "ibeam_display = mr.NumberBox(data=ibeam, title=r'ibeam')\n",
    "mjd_display = mr.NumberBox(data=mjd,title=r'MJD')\n",
    "DM_input_display = mr.NumberBox(data=DMinit, \n",
    "                            title=r'DM (pc/cm$^{{-3}}$)'\n",
    "                           )\n",
    "\n",
    "\n",
    "\n",
    "#create load data screen\n",
    "parsec.load_screen(frbfiles_menu,base_n_t_slider,base_logn_f_slider,logibox_slider_init,\n",
    "                   buff_L_slider_init,buff_R_slider_init,RA_display,DEC_display,ibeam_display,\n",
    "                   mjd_display,updatebutton,filbutton,\n",
    "                   loadbutton)\n",
    "\n",
    "#display filterbank files if they exist\n",
    "if 'fils' in parsec.state_dict.keys():\n",
    "    if len(parsec.state_dict['fils']) == 0:\n",
    "        mr.Markdown(text=r'##### **Filterbanks:** None Found')\n",
    "    else:\n",
    "        mr.Markdown(text=r'##### **Filterbanks:** ')\n",
    "        for f in parsec.state_dict['fils']:\n",
    "            mr.Markdown(r'###### -' + str(f))\n",
    "\n",
    "#display beamformer weights date if exists\n",
    "if 'bfweights' in parsec.state_dict.keys():\n",
    "    if parsec.state_dict['bfweights'] is None:\n",
    "        bfweights_text = r'##### **Beamformer Weights:** None Found'\n",
    "    else:\n",
    "        bfweights_text = r'##### **Beamformer Weights:** ' + parsec.state_dict['bfweights']\n",
    "    bfweights_display = mr.Markdown(text=bfweights_text)\n"
   ]
  },
  {
   "cell_type": "code",
   "execution_count": null,
   "id": "7ff041b9",
   "metadata": {
    "slideshow": {
     "slide_type": "subslide"
    }
   },
   "outputs": [],
   "source": [
    "\n",
    "#if not (parsec.state_dict[\"current_state\"] >= parsec.state_map['load']): raise parsec.StopExecution\n",
    "mr.Markdown(\"##### FRB Parameters\")\n",
    "mr.NumberBox([RA_display,DEC_display,ibeam_display])"
   ]
  },
  {
   "cell_type": "code",
   "execution_count": null,
   "id": "46e06ded",
   "metadata": {
    "slideshow": {
     "slide_type": "-"
    }
   },
   "outputs": [],
   "source": [
    "\n",
    "#if not (parsec.state_dict[\"current_state\"] >= parsec.state_map['load']): raise parsec.StopExecution\n",
    "mr.NumberBox([mjd_display,DM_input_display])"
   ]
  },
  {
   "cell_type": "code",
   "execution_count": null,
   "id": "40ce26d9",
   "metadata": {
    "slideshow": {
     "slide_type": "subslide"
    }
   },
   "outputs": [],
   "source": [
    "# display the output of the logfile\n",
    "#if parsec.state_dict[\"current_state\"] == parsec.state_map['load']:\n",
    "mr.Markdown(\"##### Log:\")\n",
    "if showlog.value:# or refreshlogbutton.clicked:\n",
    "    flog = open(polbeamform.logfile,\"r\")\n",
    "    logtext = flog.read()\n",
    "    flog.close()\n",
    "    mr.Markdown(text=(logtext.replace('\\n','\\n\\n')))\n"
   ]
  },
  {
   "cell_type": "markdown",
   "id": "0b01da2a",
   "metadata": {
    "slideshow": {
     "slide_type": "skip"
    }
   },
   "source": [
    "# (1) Dedispersion Tuning"
   ]
  },
  {
   "cell_type": "code",
   "execution_count": null,
   "id": "a3dde1af",
   "metadata": {
    "slideshow": {
     "slide_type": "slide"
    }
   },
   "outputs": [],
   "source": [
    "#if parsec.state_dict[\"current_state\"] == parsec.state_map['dedisp']:\n",
    "\n",
    "#widgets for DM tuning dashboard\n",
    "mr.Markdown(\"### (1) Dedispersion Tuning\")\n",
    "mr.Note(text=\"# Binning and DM Tuning Parameters\")\n",
    "n_t_slider = mr.Slider( #time downsampling factor\n",
    "    value=1,\n",
    "    min=1, \n",
    "    max=128, \n",
    "    step=1, \n",
    "    label='$n_t$'\n",
    ",hidden=False)\n",
    "logn_f_slider = mr.Slider( #freq downsampling factor\n",
    "    value=5,\n",
    "    min=0, \n",
    "    max=10, \n",
    "    step=1, \n",
    "    label='${\\\\rm log_{2}}(n_f)$'\n",
    ",hidden=False)\n",
    "logwindow_slider = mr.Slider(\n",
    "    value=5,\n",
    "    min=5, \n",
    "    max=9, \n",
    "    step=1, \n",
    "    label=r'base ${\\rm log_{2}}({\\rm window})$'\n",
    ",hidden=False)\n",
    "dmstep = parsec.get_min_DM_step(n_t_slider.value)#np.around((32.7e-3)*n_t_slider.value/(4.15)/((1/1.307**2) - (1/1.493**2)),2) #pc/cc\n",
    "ddm_num = mr.Numeric(value=0, #DM offset\n",
    "                     step=dmstep,\n",
    "                     min=-100,max=100,\n",
    "                     label='$\\Delta {\\\\rm DM}$'\n",
    "                    ,hidden=False)\n",
    "\n",
    "DMdonebutton = mr.Button(label='Confirm DM',\n",
    "                         style='primary',\n",
    "                        hidden=False)\n",
    "\n",
    "#if parsec.state_dict[\"current_state\"] >= parsec.state_map['dedisp']:\n",
    "#create DM screen\n",
    "parsec.dedisp_screen(n_t_slider,logn_f_slider,logwindow_slider,ddm_num,DM_input_display,DM_new_display,DMdonebutton)\n",
    "\n",
    "\n",
    "\n",
    "if not (parsec.state_dict[\"current_state\"] >= parsec.state_map['dedisp']): raise parsec.StopExecution\n",
    "mr.NumberBox([DM_input_display,DM_new_display])\n",
    "    "
   ]
  },
  {
   "cell_type": "code",
   "execution_count": null,
   "id": "74f6e4c6",
   "metadata": {
    "slideshow": {
     "slide_type": "subslide"
    }
   },
   "outputs": [],
   "source": [
    "mr.Markdown(\"##### DM Parameters\")\n",
    "DM_input_display = mr.NumberBox(data=parsec.FRB_DM[parsec.FRB_IDS.index(ids)], \n",
    "                                title=r'Input DM (pc/cm$^{{-3}}$)'\n",
    "                               )\n",
    "DM_new_display = mr.NumberBox(data=parsec.FRB_DM[parsec.FRB_IDS.index(ids)] + ddm_num.value, \n",
    "                              title=r'New DM (pc/cm$^{{-3}}$)'\n",
    "                             )\n",
    "\n"
   ]
  },
  {
   "cell_type": "markdown",
   "id": "4807b632",
   "metadata": {
    "slideshow": {
     "slide_type": "skip"
    }
   },
   "source": [
    "# (2) Calibration"
   ]
  },
  {
   "cell_type": "code",
   "execution_count": null,
   "id": "8fa4a522",
   "metadata": {
    "slideshow": {
     "slide_type": "slide"
    }
   },
   "outputs": [],
   "source": [
    "#if parsec.state_dict[\"current_state\"] == parsec.state_map['polcal']:\n",
    "#widgets for pol cal dashboard\n",
    "mr.Markdown(\" (2) Calibration\")\n",
    "mr.Note(text=\"# Polarization Calibration Parameters\")\n",
    "\n",
    "\n",
    "#if we want to create new cal solutions from voltage files on T3, choose from here\n",
    "polcaldates = []\n",
    "for k in parsec.polcal_dict.keys():\n",
    "    if 'polcal' not in str(k):\n",
    "        polcaldates.append(str(k))\n",
    "polcaldate_create_menu = mr.Select(label=\"Observation Date for New Polarization Calibration Solution ('YYYY-MM-DD'):\", \n",
    "                            value=\"\", \n",
    "                            choices=[\"\"] + list(polcaldates)\n",
    "                           ,hidden=False)\n",
    "\n",
    "polcopybutton = mr.Button(label='Copy T3 Voltages and Beamformer Weights',\n",
    "                         style='primary',hidden=False)\n",
    "\n",
    "\n",
    "#if we want to create new cal solutions from voltage files that are ALREADY COPIED TO H23 choose from here\n",
    "polcalfiles_bf = polcal.get_avail_caldates()\n",
    "polcaldate_bf_menu = mr.Select(label=\"Available Polarization Calibration Dates ('YYYY-MM-DD'):\", \n",
    "                            value=\"\", \n",
    "                            choices=[\"\"] + list(polcalfiles_bf)\n",
    "                           ,hidden=False)\n",
    "\n",
    "\n",
    "bfcal_button = mr.Button(label='Run Cal Beamformer',style='primary',hidden=False)\n",
    "\n",
    "#if we want to start from formed beams in scratch directory\n",
    "polcalfiles_findbeams = polcal.get_beamfinding_files()\n",
    "polcaldate_findbeams_menu = mr.Select(label=\"Available Dates With Voltages or Filterbanks on h23 ('YYYY-MM-DD'):\", \n",
    "                            value=polcalfiles_findbeams[0], \n",
    "                            choices=list(polcalfiles_findbeams)\n",
    "                           ,hidden=False)\n",
    "\n",
    "findbeams_button = mr.Button(label='Find Beam Numbers',style='primary',hidden=False)\n",
    "filcalbutton = mr.Button(label='Make Calibrator Filterbanks',style='primary',hidden=False)\n",
    "\n",
    "refreshlogcalbutton = mr.Button(label='Refresh Log',style='primary',hidden=False)\n",
    "\n",
    "\n",
    "#if we want to make solution from filterbanks\n",
    "obs_files,obs_ids = polcal.get_calfil_files('3C48',polcaldate_findbeams_menu.value,'3C48*0')\n",
    "initval = ''\n",
    "\"\"\"if 'cal_name_3C48_center' in parsec.polcal_dict.keys():\n",
    "    initval = parsec.polcal_dict['cal_name_3C48_center']\n",
    "\"\"\"\n",
    "obsid3C48_menu = mr.Select(label=\"3C48 Cal Observation ID:\", \n",
    "                            value=initval, \n",
    "                            choices=[\"\"] + list(obs_ids)\n",
    "                           ,hidden=False)\n",
    "obs_files,obs_ids = polcal.get_calfil_files('3C286',polcaldate_findbeams_menu.value,'3C286*0')\n",
    "initval = ''\n",
    "\"\"\"if 'cal_name_3C286_center' in parsec.polcal_dict.keys():\n",
    "    initval = parsec.polcal_dict['cal_name_3C286_center']\n",
    "\"\"\"\n",
    "obsid3C286_menu = mr.Select(label=\"3C286 Cal Observation ID:\", \n",
    "                            value=initval, \n",
    "                            choices=[\"\"] + list(obs_ids)\n",
    "                           ,hidden=False)\n",
    "\n",
    "mr.Note(text=r'## $|g_{yy}|$')\n",
    "\n",
    "\n",
    "peakheight_slider = mr.Slider( \n",
    "    value=2,\n",
    "    min=1, \n",
    "    max=10, \n",
    "    step=1, \n",
    "    label=r'Peak Height'\n",
    ",hidden=False)\n",
    "peakwidth_slider = mr.Slider( \n",
    "    value=10,\n",
    "    min=1, \n",
    "    max=20, \n",
    "    step=1, \n",
    "    label=r'Peak Width'\n",
    ",hidden=False)\n",
    "sfflag =  mr.Checkbox(value=False, label=\"Savgol Filter\",hidden=False)\n",
    "sf_window_weight_cals = mr.Slider( \n",
    "    value=255,\n",
    "    min=3, \n",
    "    max=510, \n",
    "    step=2, \n",
    "    label=r'$sf_{ww}$'\n",
    ",hidden=False)\n",
    "sf_order_cals = mr.Slider( \n",
    "    value=5,\n",
    "    min=1, \n",
    "    max=10, \n",
    "    step=1, \n",
    "    label=r'$sf_{o}$'\n",
    ",hidden=False)\n",
    "polyfitflag =  mr.Checkbox(value=False, label=\"Fit with Polynomial\",hidden=False)\n",
    "polyfitorder_slider = mr.Slider( \n",
    "    value=5,\n",
    "    min=1, \n",
    "    max=9, \n",
    "    step=1, \n",
    "    label=r'Polynomial Fit Degree'\n",
    ",hidden=False)\n",
    "edgefreq_slider = mr.Slider( \n",
    "    value=1370,\n",
    "    min=1311.25000003072, \n",
    "    max=1498.75, \n",
    "    step=30.4e-3, \n",
    "    label=r'Edge Frequency (MHz) Cutoff (for Fitting Piecewise Solution)'\n",
    ",hidden=False)\n",
    "breakfreq_slider = mr.Slider( \n",
    "    value=1370,\n",
    "    min=1311.25000003072, \n",
    "    max=1498.75, \n",
    "    step=30.4e-3, \n",
    "    label=r'Break Frequency (MHz) Cutoff (for Stitching Piecewise Solution)'\n",
    ",hidden=False)\n",
    "\n",
    "mr.Note(text=r'## $|g_{xx}|/|g_{yy}|$')\n",
    "ratio_peakheight_slider = mr.Slider( \n",
    "    value=3,\n",
    "    min=1, \n",
    "    max=10, \n",
    "    step=1, \n",
    "    label=r'Peak Height'\n",
    ",hidden=False)\n",
    "ratio_peakwidth_slider = mr.Slider( \n",
    "    value=10,\n",
    "    min=1, \n",
    "    max=20, \n",
    "    step=1, \n",
    "    label=r'Peak Width'\n",
    ",hidden=False)\n",
    "ratio_sfflag =  mr.Checkbox(value=False, label=\"Savgol Filter\",hidden=False)\n",
    "ratio_sf_window_weight_cals = mr.Slider( \n",
    "    value=257,\n",
    "    min=3, \n",
    "    max=510, \n",
    "    step=2, \n",
    "    label=r'$sf_{ww}$'\n",
    ",hidden=False)\n",
    "ratio_sf_order_cals = mr.Slider( \n",
    "    value=5,\n",
    "    min=1, \n",
    "    max=10, \n",
    "    step=1, \n",
    "    label=r'$sf_{o}$'\n",
    ",hidden=False)\n",
    "ratio_polyfitflag =  mr.Checkbox(value=False, label=\"Fit with Polynomial\",hidden=False)\n",
    "ratio_polyfitorder_slider = mr.Slider( \n",
    "    value=5,\n",
    "    min=1, \n",
    "    max=9, \n",
    "    step=1, \n",
    "    label=r'Polynomial Fit Degree'\n",
    ",hidden=False)\n",
    "ratio_edgefreq_slider = mr.Slider( \n",
    "    value=1360,\n",
    "    min=1311.25000003072, \n",
    "    max=1498.75, \n",
    "    step=30.4e-3, \n",
    "    label=r'Edge Frequency (MHz) Cutoff (for Fitting Piecewise Solution)'\n",
    ",hidden=False)\n",
    "ratio_breakfreq_slider = mr.Slider( \n",
    "    value=1360,\n",
    "    min=1311.25000003072, \n",
    "    max=1498.75, \n",
    "    step=30.4e-3, \n",
    "    label=r'Break Frequency (MHz) Cutoff (for Stitching Piecewise Solution)'\n",
    ",hidden=False)\n",
    "\n",
    "mr.Note(text=r'## $\\angle g_{xx} - \\angle g_{yy}$')\n",
    "phase_peakheight_slider = mr.Slider( \n",
    "    value=3,\n",
    "    min=1, \n",
    "    max=10, \n",
    "    step=1, \n",
    "    label=r'Peak Height'\n",
    ",hidden=False)\n",
    "phase_peakwidth_slider = mr.Slider( \n",
    "    value=10,\n",
    "    min=1, \n",
    "    max=20, \n",
    "    step=1, \n",
    "    label=r'Peak Width'\n",
    ",hidden=True)\n",
    "phase_sfflag =  mr.Checkbox(value=False, label=\"Savgol Filter\",hidden=False)\n",
    "phase_sf_window_weight_cals = mr.Slider( \n",
    "    value=255,\n",
    "    min=3, \n",
    "    max=510, \n",
    "    step=2, \n",
    "    label=r'$sf_{ww}$'\n",
    ",hidden=False)\n",
    "phase_sf_order_cals = mr.Slider( \n",
    "    value=5,\n",
    "    min=1, \n",
    "    max=10, \n",
    "    step=1, \n",
    "    label=r'$sf_{o}$'\n",
    ",hidden=False)\n",
    "phase_polyfitflag =  mr.Checkbox(value=False, label=\"Fit with Polynomial\",hidden=False)\n",
    "phase_polyfitorder_slider = mr.Slider( \n",
    "    value=5,\n",
    "    min=1, \n",
    "    max=9, \n",
    "    step=1, \n",
    "    label=r'Polynomial Fit Degree'\n",
    ",hidden=False)\n",
    "\n",
    "savecalsolnbutton = mr.Button(label='Save Cal Solution',\n",
    "                         style='primary',hidden=False)\n",
    "\n",
    "#if pol cal solution already exists\n",
    "polcalfiles = glob.glob(parsec.default_path + 'POLCAL_PARAMETERS_*csv')\n",
    "polcalfiles = [polcalfiles[i][polcalfiles[i].index('POLCAL'):] for i in range(len(polcalfiles))]\n",
    "polcaldate_menu = mr.Select(label=\"Polarization Calibration File ('YY-MM-DD'):\", \n",
    "                            value=\"\", \n",
    "                            choices=[\"\"] + polcalfiles\n",
    "                           ,hidden=False)\n",
    "\n",
    "polcalbutton = mr.Button(label='Calibrate',\n",
    "                         style='primary',hidden=False)\n",
    "\n",
    "\n",
    "showlogcal = mr.Checkbox(value=False, label=\"Show Pol Cal Log\",hidden=False)\n",
    "\n",
    "ParA_display = mr.NumberBox(data=np.nan, title=r'Parallactic Angle ($^{\\circ}$)')\n",
    "\n",
    "    \n",
    "    \n",
    "\n",
    "#create pol cal screen\n",
    "beam_dict_3C48,beam_dict_3C286 = parsec.polcal_screen(polcaldate_menu,polcaldate_create_menu,polcaldate_bf_menu,polcaldate_findbeams_menu,obsid3C48_menu,obsid3C286_menu,\n",
    "                                                     polcalbutton,polcopybutton,bfcal_button,findbeams_button,filcalbutton,ParA_display,\n",
    "                                                     edgefreq_slider,breakfreq_slider,sf_window_weight_cals,sf_order_cals,peakheight_slider,peakwidth_slider,polyfitorder_slider,\n",
    "                                                     ratio_edgefreq_slider,ratio_breakfreq_slider,ratio_sf_window_weight_cals,ratio_sf_order_cals,ratio_peakheight_slider,ratio_peakwidth_slider,ratio_polyfitorder_slider,\n",
    "                                                     phase_sf_window_weight_cals,phase_sf_order_cals,phase_peakheight_slider,phase_peakwidth_slider,phase_polyfitorder_slider,savecalsolnbutton,\n",
    "                                                     sfflag,polyfitflag,ratio_sfflag,ratio_polyfitflag,phase_sfflag,phase_polyfitflag)\n",
    "    "
   ]
  },
  {
   "cell_type": "code",
   "execution_count": null,
   "id": "4ce5e0f9",
   "metadata": {
    "slideshow": {
     "slide_type": "subslide"
    }
   },
   "outputs": [],
   "source": [
    "#table of new pol cal data\n",
    "if polcaldate_create_menu.value != \"\":\n",
    "    mr.Table(data=parsec.df_polcal, width=\"200px\")\n"
   ]
  },
  {
   "cell_type": "code",
   "execution_count": null,
   "id": "bc944077",
   "metadata": {
    "slideshow": {
     "slide_type": "subslide"
    }
   },
   "outputs": [],
   "source": [
    "\n",
    "#display voltages and beamformer weight files for current selection\n",
    "if polcaldate_bf_menu.value != \"\":\n",
    "    #display filterbank files if they exist\n",
    "    if 'polcal_avail_3C48' in parsec.polcal_dict.keys():\n",
    "        if len(parsec.polcal_dict['polcal_avail_3C48']) == 0:\n",
    "            mr.Markdown(text=r'###### **3C48 Voltages:** None Found')\n",
    "        else:\n",
    "            mr.Markdown(text=r'###### **3C48 Voltages:** ')\n",
    "            for f in parsec.state_dict['polcal_avail_3C48']:\n",
    "                mr.Markdown(r'- ######' + f)\n",
    "    if 'polcal_avail_3C286' in parsec.polcal_dict.keys():\n",
    "        if len(parsec.polcal_dict['polcal_avail_3C286']) == 0:\n",
    "            mr.Markdown(text=r'###### **3C286 Voltages:** None Found')\n",
    "        else:\n",
    "            mr.Markdown(text=r'###### **3C286 Voltages:** ')\n",
    "            for f in parsec.polcal_dict['polcal_avail_3C286']:\n",
    "                mr.Markdown(r'- ######' + f)\n"
   ]
  },
  {
   "cell_type": "code",
   "execution_count": null,
   "id": "8f4cc920",
   "metadata": {
    "slideshow": {
     "slide_type": "subslide"
    }
   },
   "outputs": [],
   "source": [
    "\n",
    "#display beamformer weights date if exists\n",
    "if 'polcal_avail_bf_3C48' in parsec.polcal_dict.keys():\n",
    "    if len(parsec.polcal_dict['polcal_avail_bf_3C48']) == 0:\n",
    "        mr.Markdown(text=r'##### **3C48 Beamformer Weights:** None Found')\n",
    "    else:\n",
    "        mr.Markdown(text=r'##### **3C48 Beamformer Weights:** ')\n",
    "        for f in parsec.state_dict['polcal_avail_bf_3C48']:\n",
    "            mr.Markdown(r'- #####' + f)\n",
    "if 'polcal_avail_bf_3C286' in parsec.polcal_dict.keys():\n",
    "    if len(parsec.polcal_dict['polcal_avail_bf_3C286']) == 0:\n",
    "        mr.Markdown(text=r'##### **3C286 Beamformer Weights:** None Found')\n",
    "    else:\n",
    "        mr.Markdown(text=r'##### **3C286 Beamformer Weights:** ')\n",
    "        for f in parsec.polcal_dict['polcal_avail_bf_3C286']:\n",
    "            mr.Markdown(r'- #####' + f)\n"
   ]
  },
  {
   "cell_type": "code",
   "execution_count": null,
   "id": "954c0f80",
   "metadata": {
    "slideshow": {
     "slide_type": "subslide"
    }
   },
   "outputs": [],
   "source": [
    "\n",
    "#display beam numbers for each cal pass\n",
    "mr.Table(data=parsec.df_beams,width=\"200px\") \n"
   ]
  },
  {
   "cell_type": "code",
   "execution_count": null,
   "id": "4ee1628d",
   "metadata": {
    "slideshow": {
     "slide_type": "subslide"
    }
   },
   "outputs": [],
   "source": [
    "\n",
    "#display the filterbank and beamformer weight files for selected observation ID\n",
    "\n",
    "#3C48 \n",
    "if obsid3C48_menu.value != '':\n",
    "    obs_files,obs_ids = polcal.get_calfil_files('3C48',polcaldate_findbeams_menu.value,obsid3C48_menu.value)\n",
    "    mr.Markdown(text=r'##### **' + obsid3C48_menu.value + ' Filterbanks:**')\n",
    "    for f in obs_files:\n",
    "        mr.Markdown(r'- #####' + f)\n",
    "else:\n",
    "    mr.Markdown(text = r'##### **' + obsid3C48_menu.value + ' Filterbanks:** None Found')\n"
   ]
  },
  {
   "cell_type": "code",
   "execution_count": null,
   "id": "a357556f",
   "metadata": {
    "slideshow": {
     "slide_type": "subslide"
    }
   },
   "outputs": [],
   "source": [
    "\n",
    "if obsid3C48_menu.value in parsec.df_beams.index.tolist():#beam_dict_3C48.keys():\n",
    "    #print(beam_dict_3C48.keys())\n",
    "    mr.Markdown(text=r'##### **' + obsid3C48_menu.value + ' Beamformer Weights:**')\n",
    "    #print(polcal.bfweights_output_path + \"*\" + polcal.VLANAME_DICT['3C48'] + \"*\" + parsec.df_beams['beamformer weights'].loc[obsid3C48_menu.value][:19] + \"*\")\n",
    "    bf_files = glob.glob(polcal.bfweights_output_path + \"*\" + polcal.VLANAME_DICT['3C48'] + \"*\" + parsec.df_beams['beamformer weights'].loc[obsid3C48_menu.value][:19] + \"*\")\n",
    "    for f in bf_files:\n",
    "        mr.Markdown(text = r'- #####' + f)\n",
    "else:\n",
    "    mr.Markdown(text = r'##### **' + obsid3C48_menu.value + ' Beamformer Weights:** None Found')\n"
   ]
  },
  {
   "cell_type": "code",
   "execution_count": null,
   "id": "40f3394e",
   "metadata": {
    "slideshow": {
     "slide_type": "subslide"
    }
   },
   "outputs": [],
   "source": [
    "\n",
    "#3C286\n",
    "if obsid3C286_menu.value != '':\n",
    "    obs_files,obs_ids = polcal.get_calfil_files('3C286',polcaldate_findbeams_menu.value,obsid3C286_menu.value)\n",
    "    mr.Markdown(text=r'##### **' + obsid3C286_menu.value + ' Filterbanks:**')\n",
    "    for f in obs_files:\n",
    "        mr.Markdown(text = r'- #####' + f)\n",
    "else:\n",
    "    mr.Markdown(text = r'##### **' + obsid3C286_menu.value + ' Filterbanks:** None Found')\n"
   ]
  },
  {
   "cell_type": "code",
   "execution_count": null,
   "id": "69ec12ef",
   "metadata": {
    "slideshow": {
     "slide_type": "subslide"
    }
   },
   "outputs": [],
   "source": [
    "\n",
    "if obsid3C286_menu.value in parsec.df_beams.index.tolist():\n",
    "    mr.Markdown(text=r'##### **' + obsid3C286_menu.value + ' Beamformer Weights:**')\n",
    "    bf_files = glob.glob(polcal.bfweights_output_path + \"*\" + polcal.VLANAME_DICT['3C286'] + \"*\" + parsec.df_beams['beamformer weights'].loc[obsid3C286_menu.value][:19] + \"*\")\n",
    "    #print(polcal.bfweights_output_path + \"*\" + polcal.VLANAME_DICT['3C286'] + \"*\" + parsec.df_beams['beamformer weights'].loc[obsid3C286_menu.value][:19] +  \"*\")\n",
    "    for f in bf_files:\n",
    "        mr.Markdown(text = r'- #####' + f)\n",
    "else:\n",
    "    mr.Markdown(text=r'##### **' + obsid3C286_menu.value + ' Beamformer Weights:** None Found')\n",
    "\n"
   ]
  },
  {
   "cell_type": "code",
   "execution_count": null,
   "id": "7f7fded2",
   "metadata": {
    "slideshow": {
     "slide_type": "subslide"
    }
   },
   "outputs": [],
   "source": [
    "if not (parsec.state_dict[\"current_state\"] >= parsec.state_map['polcal']): raise parsec.StopExecution\n",
    "ParA_display"
   ]
  },
  {
   "cell_type": "code",
   "execution_count": null,
   "id": "f9afd853",
   "metadata": {
    "slideshow": {
     "slide_type": "subslide"
    }
   },
   "outputs": [],
   "source": [
    "# display the output of the logfile\n",
    "if showlogcal.value:# or refreshlogbutton.clicked:\n",
    "    flog = open(polcal.logfile,\"r\")\n",
    "    logtext = flog.read()\n",
    "    flog.close()\n",
    "    mr.Markdown(text=(logtext.replace('\\n','\\n\\n')))\n"
   ]
  },
  {
   "cell_type": "markdown",
   "id": "8743dc03",
   "metadata": {
    "slideshow": {
     "slide_type": "skip"
    }
   },
   "source": [
    "# (3) Filter Weights"
   ]
  },
  {
   "cell_type": "code",
   "execution_count": null,
   "id": "abffa989",
   "metadata": {
    "slideshow": {
     "slide_type": "slide"
    }
   },
   "outputs": [],
   "source": [
    "if parsec.state_dict[\"current_state\"] == parsec.state_map['filter']:\n",
    "    #widgets for filter weights dashboard\n",
    "    mr.Markdown(\" (3) Filter Weights\")\n",
    "    mr.Note(text=\"# Filter Weight Options\")\n",
    "\n",
    "    ncomps_num = mr.Numeric(value=1, \n",
    "                         step=1,\n",
    "                         min=1,max=5,\n",
    "                         label='Number of Components'\n",
    "                        ,hidden=False)\n",
    "    comprange_slider = mr.Range(value=[0,1],  #ms\n",
    "                            min=0, \n",
    "                            max=50, \n",
    "                            label=\"Lower and Upper Limit of Component (ms from window start)\", \n",
    "                            step=32.7e-3\n",
    "                    ,hidden=False)\n",
    "    \n",
    "    avger_w_slider = mr.Slider(\n",
    "        value=1,\n",
    "        min=1, \n",
    "        max=32, \n",
    "        step=1, \n",
    "        label=r'$n_{tw}$'\n",
    "    ,hidden=False)\n",
    "    sf_window_weights_slider = mr.Slider(\n",
    "        value=3,\n",
    "        min=3, \n",
    "        max=33, \n",
    "        step=2, \n",
    "        label=r'$sf_{ww}$'\n",
    "    ,hidden=False)\n",
    "    \n",
    "    nextcompbutton = mr.Button(label='Next Component',\n",
    "                             style='primary',hidden=False)\n",
    "\n",
    "    donecompbutton = mr.Button(label='Done',\n",
    "                             style='primary',hidden=False)\n",
    "\n",
    "\n",
    "\n",
    "    #create pol cal screen\n",
    "    parsec.filter_screen(n_t_slider,logn_f_slider,logwindow_slider,logibox_slider,\n",
    "                         buff_L_slider,buff_R_slider,ncomps_num,comprange_slider,nextcompbutton,donecompbutton,\n",
    "                        avger_w_slider,sf_window_weights_slider)\n",
    "    mr.Table(data=parsec.df, width=\"200px\")#, text_align=\"center\")\n",
    "    \n",
    "if not (parsec.state_dict[\"current_state\"] >= parsec.state_map['filter']): raise parsec.StopExecution\n",
    "mr.NumberBox(data=parsec.state_dict[\"current_state\"], \n",
    "                              title=r'Current Screen Index'\n",
    "                             )"
   ]
  }
 ],
 "metadata": {
  "celltoolbar": "Slideshow",
  "kernelspec": {
   "display_name": "casa38",
   "language": "python",
   "name": "casa38"
  },
  "language_info": {
   "codemirror_mode": {
    "name": "ipython",
    "version": 3
   },
   "file_extension": ".py",
   "mimetype": "text/x-python",
   "name": "python",
   "nbconvert_exporter": "python",
   "pygments_lexer": "ipython3",
   "version": "3.8.13"
  }
 },
 "nbformat": 4,
 "nbformat_minor": 5
}
