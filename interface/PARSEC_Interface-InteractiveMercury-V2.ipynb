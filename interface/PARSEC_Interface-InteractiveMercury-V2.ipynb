{
 "cells": [
  {
   "cell_type": "code",
   "execution_count": 1,
   "id": "b0e47ef0",
   "metadata": {
    "scrolled": true,
    "slideshow": {
     "slide_type": "skip"
    }
   },
   "outputs": [],
   "source": [
    "%load_ext autoreload\n",
    "%autoreload 2\n",
    "\n",
    "from dsapol import parsec\n",
    "from dsapol import polbeamform\n",
    "from dsapol import polcal\n",
    "#from dsapol import widget\n",
    "import numpy as np\n",
    "from matplotlib import pyplot as plt\n",
    "from dsapol import dsapol\n",
    "from scipy.signal import correlate\n",
    "from scipy.signal import savgol_filter as sf\n",
    "from scipy.signal import convolve\n",
    "from scipy.signal import fftconvolve\n",
    "from scipy.ndimage import convolve1d\n",
    "from scipy.signal import peak_widths\n",
    "from scipy.stats import chi\n",
    "from scipy.stats import norm\n",
    "import copy\n",
    "import glob\n",
    "import csv\n",
    "\n",
    "\n",
    "from numpy.ma import masked_array as ma\n",
    "from scipy.stats import kstest\n",
    "from scipy.optimize import curve_fit\n",
    "\n",
    "\n",
    "from scipy.signal import find_peaks\n",
    "from scipy.signal import peak_widths\n",
    "import copy\n",
    "import numpy as np\n",
    "\n",
    "from sigpyproc import FilReader\n",
    "from sigpyproc.Filterbank import FilterbankBlock\n",
    "from sigpyproc.Header import Header\n",
    "from matplotlib import pyplot as plt\n",
    "import pylab\n",
    "import pickle\n",
    "import json\n",
    "from scipy.interpolate import interp1d\n",
    "from scipy.stats import chi2\n",
    "from scipy.stats import chi\n",
    "from scipy.signal import savgol_filter as sf\n",
    "from scipy.signal import convolve\n",
    "from scipy.ndimage import convolve1d\n",
    "from RMtools_1D.do_RMsynth_1D import run_rmsynth\n",
    "from RMtools_1D.do_RMclean_1D import run_rmclean\n",
    "from RMtools_1D.do_QUfit_1D_mnest import run_qufit\n",
    "from astropy.time import Time\n",
    "from astropy.coordinates import EarthLocation\n",
    "import astropy.units as u\n",
    "\n",
    "import pandas as pd\n",
    "import mercury as mr"
   ]
  },
  {
   "cell_type": "code",
   "execution_count": 2,
   "id": "654baf65",
   "metadata": {
    "slideshow": {
     "slide_type": "skip"
    }
   },
   "outputs": [
    {
     "data": {
      "application/mercury+json": "{\n    \"widget\": \"App\",\n    \"title\": \"(V2) Polarization Analysis Dashboard\",\n    \"description\": \"With this dashboard, you can conduct RM synthesis, get polarization fractions, and conduct de-dispersion tuning.\",\n    \"show_code\": false,\n    \"show_prompt\": false,\n    \"output\": \"app\",\n    \"schedule\": \"\",\n    \"notify\": \"{}\",\n    \"continuous_update\": true,\n    \"static_notebook\": false,\n    \"show_sidebar\": true,\n    \"full_screen\": true,\n    \"allow_download\": true,\n    \"stop_on_error\": false,\n    \"model_id\": \"mercury-app\",\n    \"code_uid\": \"App.0.40.105.1-rande8804c0c\"\n}",
      "text/html": [
       "<h3>Mercury Application</h3><small>This output won't appear in the web app.</small>"
      ],
      "text/plain": [
       "mercury.App"
      ]
     },
     "metadata": {},
     "output_type": "display_data"
    }
   ],
   "source": [
    "\n",
    "app = mr.App(title=\"(V2) Polarization Analysis Dashboard\", description=\"With this dashboard, you can conduct RM synthesis, get polarization fractions, and conduct de-dispersion tuning.\")"
   ]
  },
  {
   "cell_type": "code",
   "execution_count": 3,
   "id": "4364e687",
   "metadata": {
    "slideshow": {
     "slide_type": "skip"
    }
   },
   "outputs": [
    {
     "data": {
      "application/mercury+json": "{\n    \"widget\": \"Select\",\n    \"value\": \"(0) Load Data\",\n    \"choices\": [\n        \"(0) Load Data\",\n        \"(1) Dedispersion Tuning\",\n        \"(2) Calibration -- Beamform Cal Voltages\",\n        \"(2) Calibration -- Make Cal Filterbanks\",\n        \"(2) Calibration -- Choose Cal Observations\",\n        \"(2) Calibration -- Make Cal Solutions ($|g_{yy}|$)\",\n        \"(2) Calibration -- Make Cal Solutions ($|g_{xx}|/|g_{yy}|$)\",\n        \"(2) Calibration -- Make Cal Solutions ($\\\\angle g_{xx} - \\\\angle g_{yy}$)\",\n        \"(2) Calibration -- Calibrate\",\n        \"(3) Filter Weights\"\n    ],\n    \"label\": \"Toggle Widget Panels\",\n    \"model_id\": \"c3311bc43acd4c3bb921109b5aeb42c0\",\n    \"code_uid\": \"Select.0.40.104.2-rand84c7f1ca\",\n    \"url_key\": \"\",\n    \"disabled\": false,\n    \"hidden\": false\n}",
      "application/vnd.jupyter.widget-view+json": {
       "model_id": "c3311bc43acd4c3bb921109b5aeb42c0",
       "version_major": 2,
       "version_minor": 0
      },
      "text/plain": [
       "mercury.Select"
      ]
     },
     "metadata": {},
     "output_type": "display_data"
    }
   ],
   "source": [
    "# Toggle Sliders Button: switches between panels of widgets for different slides\n",
    "toggle_menu = mr.Select(label='Toggle Widget Panels',\n",
    "                       value='(0) Load Data',\n",
    "                       choices=['(0) Load Data',\n",
    "                               '(1) Dedispersion Tuning',\n",
    "                               '(2) Calibration -- Beamform Cal Voltages',\n",
    "                               '(2) Calibration -- Make Cal Filterbanks',\n",
    "                               '(2) Calibration -- Choose Cal Observations',\n",
    "                               r'(2) Calibration -- Make Cal Solutions ($|g_{yy}|$)',\n",
    "                               r'(2) Calibration -- Make Cal Solutions ($|g_{xx}|/|g_{yy}|$)',\n",
    "                               r'(2) Calibration -- Make Cal Solutions ($\\angle g_{xx} - \\angle g_{yy}$)',\n",
    "                               r'(2) Calibration -- Calibrate',\n",
    "                               '(3) Filter Weights'])"
   ]
  },
  {
   "cell_type": "markdown",
   "id": "232966fb",
   "metadata": {
    "slideshow": {
     "slide_type": "skip"
    }
   },
   "source": [
    "# (0) Load Data"
   ]
  },
  {
   "cell_type": "code",
   "execution_count": 4,
   "id": "20b2bb94",
   "metadata": {
    "slideshow": {
     "slide_type": "skip"
    }
   },
   "outputs": [
    {
     "data": {
      "application/mercury+json": "{\n    \"widget\": \"Select\",\n    \"value\": \"220319aaeb_mark\",\n    \"choices\": [\n        \"220319aaeb_mark\",\n        \"220121aaat_clare\",\n        \"220204aaai_fen\",\n        \"220207aabh_zach\",\n        \"220208aaaa_ishita\",\n        \"220307aaae_alex\",\n        \"220310aaam_whitney\",\n        \"220330aaan_erdos\",\n        \"220418aaai_quincy\",\n        \"220424aabq_davina\",\n        \"220506aabd_oran\",\n        \"220426aaaw_jackie\",\n        \"220726aabn_gertrude\",\n        \"220801aabd_augustine\",\n        \"220411aabk_maya\",\n        \"220831aaaj_ada\",\n        \"220825aaad_ansel\",\n        \"220913aadt_J1935+1616\",\n        \"221116aaab_charlotte\",\n        \"220914aabz_elektra\",\n        \"220920aacl_etienne\",\n        \"221203aaaa_wilhelm\",\n        \"220926aaeu_celeste\",\n        \"221002aaab_arni\",\n        \"221012aaab_juan\",\n        \"221101aaar_ayo\",\n        \"221027aags_koyaan\",\n        \"221018aaaj_220912A\",\n        \"221219aabz_nihari\",\n        \"221025aanu_220912A\",\n        \"221029aado_mifanshan\",\n        \"221027aags_koyaanisqatsi\",\n        \"221027aags_tmp\",\n        \"221101aaag_nina\",\n        \"221113aaao_isha\",\n        \"221022aaaf_J1935+1616\",\n        \"221022aaao_J1935+1616\",\n        \"221022aabg_J1935+1616\",\n        \"221022aaba_J1935+1616\",\n        \"221024aaab_J1935+1616\",\n        \"221024aaad_J1935+1616\",\n        \"221024aaay_J1935+1616\",\n        \"221024aabd_J1935+1616\",\n        \"221025aaaj_J1935+1616\",\n        \"221025aaae_J1935+1616\",\n        \"221025aabc_J1935+1616\",\n        \"220913aadh_J1935+1616\",\n        \"221224aaab_bert\",\n        \"230112aaaw_zeynep\",\n        \"230124aaav_leonidas\",\n        \"230202aada_ramata\",\n        \"230307aaao_phineas\",\n        \"220424aabq_davina_rev\",\n        \"220307aaae_alex_TEST\",\n        \"230216aaag_ferb\",\n        \"230325aaag_freya\",\n        \"230501aaae_mikayla\",\n        \"230521aaad_bruce\",\n        \"230814aaas_johndoe2\",\n        \"230626aaai_fatima\",\n        \"230628aaaa_tildis\",\n        \"230712aadj_pingu\",\n        \"230714aacu_jonas\",\n        \"230913aaao_hamilton\",\n        \"230913aaao_hamilton_IMAGING\",\n        \"230913aaao_hamilton_IMG\",\n        \"231120aabi_mizu\",\n        \"231123aacm_squanto\",\n        \"231129aaaj_martha\",\n        \"231210aaaa_shohei\",\n        \"231215aaat_therese\",\n        \"231220aaae_gemechu\",\n        \"240104aaab_mike\",\n        \"240119aacg_nikhil\",\n        \"240122aaag_mahi\",\n        \"240123aaaf_pushkin\",\n        \"240203aacl_chromatica\"\n    ],\n    \"label\": \"FRB (candname_nickname):\",\n    \"model_id\": \"9bdf7201348542ab946e898e7c917725\",\n    \"code_uid\": \"Select.0.40.104.4-randa5de30f9\",\n    \"url_key\": \"\",\n    \"disabled\": false,\n    \"hidden\": false\n}",
      "application/vnd.jupyter.widget-view+json": {
       "model_id": "9bdf7201348542ab946e898e7c917725",
       "version_major": 2,
       "version_minor": 0
      },
      "text/plain": [
       "mercury.Select"
      ]
     },
     "metadata": {},
     "output_type": "display_data"
    },
    {
     "data": {
      "application/mercury+json": "{\n    \"widget\": \"Slider\",\n    \"value\": 1,\n    \"min\": 1,\n    \"max\": 128,\n    \"step\": 1,\n    \"label\": \"base $n_t$\",\n    \"model_id\": \"54278f5303344e318da0e18d55361094\",\n    \"code_uid\": \"Slider.0.40.110.8-randbdcbcc87\",\n    \"url_key\": \"\",\n    \"disabled\": false,\n    \"hidden\": false\n}",
      "application/vnd.jupyter.widget-view+json": {
       "model_id": "54278f5303344e318da0e18d55361094",
       "version_major": 2,
       "version_minor": 0
      },
      "text/plain": [
       "mercury.Slider"
      ]
     },
     "metadata": {},
     "output_type": "display_data"
    },
    {
     "data": {
      "application/mercury+json": "{\n    \"widget\": \"Slider\",\n    \"value\": 0,\n    \"min\": 0,\n    \"max\": 10,\n    \"step\": 1,\n    \"label\": \"base ${\\\\rm log_{2}}({\\\\rm n_f})$\",\n    \"model_id\": \"ba0e62e54b7e43a4b8c34fcf387e67d5\",\n    \"code_uid\": \"Slider.0.40.110.15-rand09fde34f\",\n    \"url_key\": \"\",\n    \"disabled\": false,\n    \"hidden\": false\n}",
      "application/vnd.jupyter.widget-view+json": {
       "model_id": "ba0e62e54b7e43a4b8c34fcf387e67d5",
       "version_major": 2,
       "version_minor": 0
      },
      "text/plain": [
       "mercury.Slider"
      ]
     },
     "metadata": {},
     "output_type": "display_data"
    },
    {
     "data": {
      "application/mercury+json": "{\n    \"widget\": \"Slider\",\n    \"value\": 0,\n    \"min\": 0,\n    \"max\": 6,\n    \"step\": 1,\n    \"label\": \"${\\\\rm log_{2}}({\\\\rm ibox})$\",\n    \"model_id\": \"e9a3e1d83e1346439a8c3165398fcbd5\",\n    \"code_uid\": \"Slider.0.40.110.22-randb640c93c\",\n    \"url_key\": \"\",\n    \"disabled\": false,\n    \"hidden\": false\n}",
      "application/vnd.jupyter.widget-view+json": {
       "model_id": "e9a3e1d83e1346439a8c3165398fcbd5",
       "version_major": 2,
       "version_minor": 0
      },
      "text/plain": [
       "mercury.Slider"
      ]
     },
     "metadata": {},
     "output_type": "display_data"
    },
    {
     "data": {
      "application/mercury+json": "{\n    \"widget\": \"Slider\",\n    \"value\": 1,\n    \"min\": 1,\n    \"max\": 128,\n    \"step\": 1,\n    \"label\": \"${\\\\rm buff}_{L}$\",\n    \"model_id\": \"ddd5ce15d16a4d329b94e97b91f7e193\",\n    \"code_uid\": \"Slider.0.40.110.30-rand8745dedb\",\n    \"url_key\": \"\",\n    \"disabled\": false,\n    \"hidden\": false\n}",
      "application/vnd.jupyter.widget-view+json": {
       "model_id": "ddd5ce15d16a4d329b94e97b91f7e193",
       "version_major": 2,
       "version_minor": 0
      },
      "text/plain": [
       "mercury.Slider"
      ]
     },
     "metadata": {},
     "output_type": "display_data"
    },
    {
     "data": {
      "application/mercury+json": "{\n    \"widget\": \"Slider\",\n    \"value\": 1,\n    \"min\": 1,\n    \"max\": 128,\n    \"step\": 1,\n    \"label\": \"${\\\\rm buff}_{R}$\",\n    \"model_id\": \"04196eda5b204468b47637907d8ff786\",\n    \"code_uid\": \"Slider.0.40.110.37-rand79e68d22\",\n    \"url_key\": \"\",\n    \"disabled\": false,\n    \"hidden\": false\n}",
      "application/vnd.jupyter.widget-view+json": {
       "model_id": "04196eda5b204468b47637907d8ff786",
       "version_major": 2,
       "version_minor": 0
      },
      "text/plain": [
       "mercury.Slider"
      ]
     },
     "metadata": {},
     "output_type": "display_data"
    },
    {
     "data": {
      "application/mercury+json": "{\n    \"widget\": \"Button\",\n    \"label\": \"Update FRB Params\",\n    \"style\": \"primary\",\n    \"value\": false,\n    \"model_id\": \"c254b7dc3d2b460ebd9524f5870ba479\",\n    \"code_uid\": \"Button.0.40.58.47-randb453e927\",\n    \"disabled\": false,\n    \"hidden\": false\n}",
      "application/vnd.jupyter.widget-view+json": {
       "model_id": "c254b7dc3d2b460ebd9524f5870ba479",
       "version_major": 2,
       "version_minor": 0
      },
      "text/plain": [
       "mercury.Button"
      ]
     },
     "metadata": {},
     "output_type": "display_data"
    },
    {
     "data": {
      "application/mercury+json": "{\n    \"widget\": \"Button\",\n    \"label\": \"Make Filterbanks\",\n    \"style\": \"primary\",\n    \"value\": false,\n    \"model_id\": \"c69b31cfbe874fa4aea346d92efe5c6e\",\n    \"code_uid\": \"Button.0.40.58.48-rand73449163\",\n    \"disabled\": false,\n    \"hidden\": false\n}",
      "application/vnd.jupyter.widget-view+json": {
       "model_id": "c69b31cfbe874fa4aea346d92efe5c6e",
       "version_major": 2,
       "version_minor": 0
      },
      "text/plain": [
       "mercury.Button"
      ]
     },
     "metadata": {},
     "output_type": "display_data"
    },
    {
     "data": {
      "application/mercury+json": "{\n    \"widget\": \"Button\",\n    \"label\": \"Load FRB Data\",\n    \"style\": \"primary\",\n    \"value\": false,\n    \"model_id\": \"38b397f1b3104cc6afa65c7879319a55\",\n    \"code_uid\": \"Button.0.40.58.49-rand757942ff\",\n    \"disabled\": false,\n    \"hidden\": false\n}",
      "application/vnd.jupyter.widget-view+json": {
       "model_id": "38b397f1b3104cc6afa65c7879319a55",
       "version_major": 2,
       "version_minor": 0
      },
      "text/plain": [
       "mercury.Button"
      ]
     },
     "metadata": {},
     "output_type": "display_data"
    },
    {
     "data": {
      "application/mercury+json": "{\n    \"widget\": \"Button\",\n    \"label\": \"Refresh Log\",\n    \"style\": \"primary\",\n    \"value\": false,\n    \"model_id\": \"819e96a324e4484298efa01a0fd85b6c\",\n    \"code_uid\": \"Button.0.40.58.50-rand29ab8bbf\",\n    \"disabled\": false,\n    \"hidden\": false\n}",
      "application/vnd.jupyter.widget-view+json": {
       "model_id": "819e96a324e4484298efa01a0fd85b6c",
       "version_major": 2,
       "version_minor": 0
      },
      "text/plain": [
       "mercury.Button"
      ]
     },
     "metadata": {},
     "output_type": "display_data"
    },
    {
     "data": {
      "application/mercury+json": "{\n    \"widget\": \"Checkbox\",\n    \"value\": true,\n    \"label\": \"Show Beamformer Log\",\n    \"model_id\": \"d2ba7b7cc03c4f899f3d9f33319299a6\",\n    \"code_uid\": \"Checkbox.0.40.70.52-rand638e38e5\",\n    \"url_key\": \"\",\n    \"disabled\": false,\n    \"hidden\": false\n}",
      "application/vnd.jupyter.widget-view+json": {
       "model_id": "d2ba7b7cc03c4f899f3d9f33319299a6",
       "version_major": 2,
       "version_minor": 0
      },
      "text/plain": [
       "mercury.Checkbox"
      ]
     },
     "metadata": {},
     "output_type": "display_data"
    }
   ],
   "source": [
    "# widgets\n",
    "hidden = toggle_menu.value != '(0) Load Data'\n",
    "#frbfiles = parsec.get_frbfiles()\n",
    "frbfiles_menu = mr.Select(label=\"FRB (candname_nickname):\", \n",
    "                            value=parsec.wdict['frbfiles_menu'],\n",
    "                            choices=parsec.frbfiles,\n",
    "                            hidden=hidden)#frbfiles[0], choices=frbfiles,hidden=hidden)\n",
    "base_n_t_slider = mr.Slider( #time downsampling factor\n",
    "    value=parsec.wdict['base_n_t_slider'],\n",
    "    min=1, \n",
    "    max=128, \n",
    "    step=1, \n",
    "    label=r'base $n_t$'\n",
    ",hidden=hidden)\n",
    "base_logn_f_slider = mr.Slider( #freq downsampling factor\n",
    "    value=parsec.wdict['base_logn_f_slider'],\n",
    "    min=0, \n",
    "    max=10, \n",
    "    step=1, \n",
    "    label=r'base ${\\rm log_{2}}({\\rm n_f})$'\n",
    ",hidden=hidden)\n",
    "logibox_slider_init = mr.Slider(\n",
    "    value=parsec.wdict['logibox_slider_init'],\n",
    "    min=0, \n",
    "    max=6, \n",
    "    step=1, \n",
    "    label=r'${\\rm log_{2}}({\\rm ibox})$'\n",
    ",hidden=hidden)\n",
    "\n",
    "buff_L_slider_init = mr.Slider(\n",
    "    value=parsec.wdict['buff_L_slider_init'],\n",
    "    min=1, \n",
    "    max=128, \n",
    "    step=1, \n",
    "    label=r'${\\rm buff}_{L}$'\n",
    ",hidden=hidden)\n",
    "buff_R_slider_init = mr.Slider(\n",
    "    value=parsec.wdict['buff_R_slider_init'],\n",
    "    min=1, \n",
    "    max=128, \n",
    "    step=1, \n",
    "    label=r'${\\rm buff}_{R}$'\n",
    ",hidden=hidden)\n",
    "\n",
    "\n",
    "\n",
    "updatebutton = mr.Button(label='Update FRB Params',style='primary',hidden=hidden)\n",
    "filbutton = mr.Button(label='Make Filterbanks',style='primary',hidden=hidden)\n",
    "loadbutton = mr.Button(label='Load FRB Data',style='primary',hidden=hidden)\n",
    "refreshlogbutton = mr.Button(label='Refresh Log',style='primary',hidden=hidden)\n",
    "\n",
    "showlog = mr.Checkbox(value=parsec.wdict['showlog'], label=\"Show Beamformer Log\",hidden=hidden)\n",
    "\n",
    "\n",
    "\n",
    "#get parameters for default frb\n",
    "\"\"\"ids = frbfiles_menu.value[:frbfiles_menu.value.index('_')]\n",
    "RA = parsec.FRB_RA[parsec.FRB_IDS.index(ids)]\n",
    "DEC = parsec.FRB_DEC[parsec.FRB_IDS.index(ids)]\n",
    "ibeam = int(parsec.FRB_BEAM[parsec.FRB_IDS.index(ids)])\n",
    "mjd = parsec.FRB_mjd[parsec.FRB_IDS.index(ids)]\n",
    "mjd_display = mr.NumberBox(data=mjd,title=r'MJD')\n",
    "DMinit = parsec.FRB_DM[parsec.FRB_IDS.index(ids)]\n",
    "\"\"\"\n",
    "\n",
    "RA_display = mr.NumberBox(data=parsec.wdict['RA_display'], title=r'RA ($^{\\circ}$)')\n",
    "DEC_display = mr.NumberBox(data=parsec.wdict['DEC_display'], title=r'DEC ($^{\\circ}$)')\n",
    "ibeam_display = mr.NumberBox(data=parsec.wdict['ibeam_display'], title=r'ibeam')\n",
    "mjd_display = mr.NumberBox(data=parsec.wdict['mjd_display'],title=r'MJD')\n",
    "DM_init_display = mr.NumberBox(data=parsec.wdict['DM_init_display'], \n",
    "                            title=r'DM (pc/cm$^{{-3}}$)'\n",
    "                           )\n",
    "\n",
    "\n",
    "\n",
    "\n"
   ]
  },
  {
   "cell_type": "code",
   "execution_count": 5,
   "id": "85cd20ed",
   "metadata": {
    "slideshow": {
     "slide_type": "slide"
    }
   },
   "outputs": [
    {
     "data": {
      "text/markdown": [
       "### (0) Load Data"
      ],
      "text/plain": [
       "<IPython.core.display.Markdown object>"
      ]
     },
     "metadata": {},
     "output_type": "display_data"
    }
   ],
   "source": [
    "#Slide Title\n",
    "mr.Markdown(\"### (0) Load Data\")"
   ]
  },
  {
   "cell_type": "code",
   "execution_count": 6,
   "id": "98e8b6ef",
   "metadata": {
    "slideshow": {
     "slide_type": "-"
    }
   },
   "outputs": [],
   "source": [
    "#main screen function\n",
    "if parsec.state_dict[\"current_state\"] >= parsec.state_map['load']:\n",
    "    parsec.load_screen(frbfiles_menu,base_n_t_slider,base_logn_f_slider,logibox_slider_init,\n",
    "                       buff_L_slider_init,buff_R_slider_init,RA_display,DEC_display,DM_init_display,ibeam_display,\n",
    "                       mjd_display,updatebutton,filbutton,\n",
    "                       loadbutton)\n"
   ]
  },
  {
   "cell_type": "code",
   "execution_count": 7,
   "id": "8d070422",
   "metadata": {
    "slideshow": {
     "slide_type": "skip"
    }
   },
   "outputs": [],
   "source": [
    "# output displays"
   ]
  },
  {
   "cell_type": "code",
   "execution_count": 8,
   "id": "9d2d3396",
   "metadata": {
    "slideshow": {
     "slide_type": "-"
    }
   },
   "outputs": [
    {
     "data": {
      "text/markdown": [
       "##### **Filterbanks:** "
      ],
      "text/plain": [
       "<IPython.core.display.Markdown object>"
      ]
     },
     "metadata": {},
     "output_type": "display_data"
    },
    {
     "data": {
      "text/markdown": [
       "###### -/media/ubuntu/ssd/sherman/scratch_weights_update_2022-06-03_32-7us/220319aaeb_mark/220319aaeb_dev_0.fil"
      ],
      "text/plain": [
       "<IPython.core.display.Markdown object>"
      ]
     },
     "metadata": {},
     "output_type": "display_data"
    },
    {
     "data": {
      "text/markdown": [
       "###### -/media/ubuntu/ssd/sherman/scratch_weights_update_2022-06-03_32-7us/220319aaeb_mark/220319aaeb_dev_1.fil"
      ],
      "text/plain": [
       "<IPython.core.display.Markdown object>"
      ]
     },
     "metadata": {},
     "output_type": "display_data"
    },
    {
     "data": {
      "text/markdown": [
       "###### -/media/ubuntu/ssd/sherman/scratch_weights_update_2022-06-03_32-7us/220319aaeb_mark/220319aaeb_dev_2.fil"
      ],
      "text/plain": [
       "<IPython.core.display.Markdown object>"
      ]
     },
     "metadata": {},
     "output_type": "display_data"
    },
    {
     "data": {
      "text/markdown": [
       "###### -/media/ubuntu/ssd/sherman/scratch_weights_update_2022-06-03_32-7us/220319aaeb_mark/220319aaeb_dev_3.fil"
      ],
      "text/plain": [
       "<IPython.core.display.Markdown object>"
      ]
     },
     "metadata": {},
     "output_type": "display_data"
    },
    {
     "data": {
      "text/markdown": [
       "###### -/media/ubuntu/ssd/sherman/scratch_weights_update_2022-06-03_32-7us/220319aaeb_mark/220319aaeb_dev_polcal_0.fil"
      ],
      "text/plain": [
       "<IPython.core.display.Markdown object>"
      ]
     },
     "metadata": {},
     "output_type": "display_data"
    },
    {
     "data": {
      "text/markdown": [
       "###### -/media/ubuntu/ssd/sherman/scratch_weights_update_2022-06-03_32-7us/220319aaeb_mark/220319aaeb_dev_polcal_1.fil"
      ],
      "text/plain": [
       "<IPython.core.display.Markdown object>"
      ]
     },
     "metadata": {},
     "output_type": "display_data"
    },
    {
     "data": {
      "text/markdown": [
       "###### -/media/ubuntu/ssd/sherman/scratch_weights_update_2022-06-03_32-7us/220319aaeb_mark/220319aaeb_dev_polcal_2.fil"
      ],
      "text/plain": [
       "<IPython.core.display.Markdown object>"
      ]
     },
     "metadata": {},
     "output_type": "display_data"
    },
    {
     "data": {
      "text/markdown": [
       "###### -/media/ubuntu/ssd/sherman/scratch_weights_update_2022-06-03_32-7us/220319aaeb_mark/220319aaeb_dev_polcal_3.fil"
      ],
      "text/plain": [
       "<IPython.core.display.Markdown object>"
      ]
     },
     "metadata": {},
     "output_type": "display_data"
    },
    {
     "data": {
      "text/markdown": [
       "##### **Beamformer Weights:** None Found"
      ],
      "text/plain": [
       "<IPython.core.display.Markdown object>"
      ]
     },
     "metadata": {},
     "output_type": "display_data"
    }
   ],
   "source": [
    "#display filterbank files if they exist\n",
    "if 'fils' in parsec.state_dict.keys():\n",
    "    if len(parsec.state_dict['fils']) == 0:\n",
    "        mr.Markdown(text=r'##### **Filterbanks:** None Found')\n",
    "    else:\n",
    "        mr.Markdown(text=r'##### **Filterbanks:** ')\n",
    "        for f in parsec.state_dict['fils']:\n",
    "            mr.Markdown(r'###### -' + str(f))\n",
    "\n",
    "#display beamformer weights date if exists\n",
    "if 'bfweights' in parsec.state_dict.keys():\n",
    "    if parsec.state_dict['bfweights'] is None:\n",
    "        bfweights_text = r'##### **Beamformer Weights:** None Found'\n",
    "    else:\n",
    "        bfweights_text = r'##### **Beamformer Weights:** ' + parsec.state_dict['bfweights']\n",
    "    bfweights_display = mr.Markdown(text=bfweights_text)\n"
   ]
  },
  {
   "cell_type": "code",
   "execution_count": 9,
   "id": "c88b5660",
   "metadata": {
    "slideshow": {
     "slide_type": "subslide"
    }
   },
   "outputs": [
    {
     "data": {
      "text/markdown": [
       "##### FRB Parameters"
      ],
      "text/plain": [
       "<IPython.core.display.Markdown object>"
      ]
     },
     "metadata": {},
     "output_type": "display_data"
    },
    {
     "data": {
      "text/html": [
       "<style scoped>\n",
       "        .numberbox-container {\n",
       "        width: 100%;\n",
       "        display: flex;\n",
       "        flex-direction: row;\n",
       "        }\n",
       "        @media (max-width: 800px) {\n",
       "        .numberbox-container {\n",
       "            flex-direction: column;\n",
       "        }\n",
       "        }\n",
       "        </style><div class=\"numberbox-container\" style=\"display: flex; background: #fff;\">\n",
       "<div style=\"text-align: center; width: 100%; border: 1px solid lightgray; margin-right: 15px; margin-top: 15px; padding-top: 40px; padding-bottom: 30px; background: white; border-radius:5px\">\n",
       "  <span style=\"font-size: 4em; color: black; font-family: monospace; \">32.2</span>\n",
       "  \n",
       "  <span style=\"font-size: 2em; color: gray; display: block; padding-top: 20px; font-family: monospace; line-height: 1.3em;\">RA ($^{\\circ}$)</span>\n",
       "</div>\n",
       "  \n",
       "<div style=\"text-align: center; width: 100%; border: 1px solid lightgray; margin-right: 15px; margin-top: 15px; padding-top: 40px; padding-bottom: 30px; background: white; border-radius:5px\">\n",
       "  <span style=\"font-size: 4em; color: black; font-family: monospace; \">71.0</span>\n",
       "  \n",
       "  <span style=\"font-size: 2em; color: gray; display: block; padding-top: 20px; font-family: monospace; line-height: 1.3em;\">DEC ($^{\\circ}$)</span>\n",
       "</div>\n",
       "  \n",
       "<div style=\"text-align: center; width: 100%; border: 1px solid lightgray; margin-right: 0px; margin-top: 15px; padding-top: 40px; padding-bottom: 30px; background: white; border-radius:5px\">\n",
       "  <span style=\"font-size: 4em; color: black; font-family: monospace; \">172</span>\n",
       "  \n",
       "  <span style=\"font-size: 2em; color: gray; display: block; padding-top: 20px; font-family: monospace; line-height: 1.3em;\">ibeam</span>\n",
       "</div>\n",
       "  </div>"
      ],
      "text/plain": [
       "<widgets.numberbox.NumberBox at 0x7f5acfa805e0>"
      ]
     },
     "execution_count": 9,
     "metadata": {},
     "output_type": "execute_result"
    }
   ],
   "source": [
    "\n",
    "#if not (parsec.state_dict[\"current_state\"] >= parsec.state_map['load']): raise parsec.StopExecution\n",
    "mr.Markdown(\"##### FRB Parameters\")\n",
    "mr.NumberBox([RA_display,DEC_display,ibeam_display])"
   ]
  },
  {
   "cell_type": "code",
   "execution_count": 10,
   "id": "1f67371c",
   "metadata": {
    "slideshow": {
     "slide_type": "-"
    }
   },
   "outputs": [
    {
     "data": {
      "text/html": [
       "<style scoped>\n",
       "        .numberbox-container {\n",
       "        width: 100%;\n",
       "        display: flex;\n",
       "        flex-direction: row;\n",
       "        }\n",
       "        @media (max-width: 800px) {\n",
       "        .numberbox-container {\n",
       "            flex-direction: column;\n",
       "        }\n",
       "        }\n",
       "        </style><div class=\"numberbox-container\" style=\"display: flex; background: #fff;\">\n",
       "<div style=\"text-align: center; width: 100%; border: 1px solid lightgray; margin-right: 15px; margin-top: 15px; padding-top: 40px; padding-bottom: 30px; background: white; border-radius:5px\">\n",
       "  <span style=\"font-size: 4em; color: black; font-family: monospace; \">59,657.93276</span>\n",
       "  \n",
       "  <span style=\"font-size: 2em; color: gray; display: block; padding-top: 20px; font-family: monospace; line-height: 1.3em;\">MJD</span>\n",
       "</div>\n",
       "  \n",
       "<div style=\"text-align: center; width: 100%; border: 1px solid lightgray; margin-right: 0px; margin-top: 15px; padding-top: 40px; padding-bottom: 30px; background: white; border-radius:5px\">\n",
       "  <span style=\"font-size: 4em; color: black; font-family: monospace; \">110.95</span>\n",
       "  \n",
       "  <span style=\"font-size: 2em; color: gray; display: block; padding-top: 20px; font-family: monospace; line-height: 1.3em;\">DM (pc/cm$^{{-3}}$)</span>\n",
       "</div>\n",
       "  </div>"
      ],
      "text/plain": [
       "<widgets.numberbox.NumberBox at 0x7f5b6c734a60>"
      ]
     },
     "execution_count": 10,
     "metadata": {},
     "output_type": "execute_result"
    }
   ],
   "source": [
    "\n",
    "#if not (parsec.state_dict[\"current_state\"] >= parsec.state_map['load']): raise parsec.StopExecution\n",
    "mr.NumberBox([mjd_display,DM_init_display])"
   ]
  },
  {
   "cell_type": "code",
   "execution_count": 11,
   "id": "40ce26d9",
   "metadata": {
    "slideshow": {
     "slide_type": "subslide"
    }
   },
   "outputs": [
    {
     "data": {
      "text/markdown": [
       "##### Log:"
      ],
      "text/plain": [
       "<IPython.core.display.Markdown object>"
      ]
     },
     "metadata": {},
     "output_type": "display_data"
    },
    {
     "data": {
      "text/markdown": [
       "NA 240203aacl chromatica 2024-02-01T15:09:30 162 60343.831822 272.25\n",
       "\n",
       "/dataz/dsa110/operations/beamformer_weights/applied /dataz/dsa110/candidates/240203aacl/Level2/voltages/ /media/ubuntu/ssd/sherman/scratch_weights_update_2022-06-03_32-7us/240203aacl_chromatica\n",
       "\n",
       "/dataz/dsa110/candidates/240203aacl/Level2/voltages//240203aacl_sb00_data.out /dataz/dsa110/operations/beamformer_weights/applied/beamformer_weights_sb00_2024-02-01T15:09:30.dat\n",
       "\n",
       "AFTER TOOLKIT\n",
       "\n",
       "/dataz/dsa110/candidates/240203aacl/Level2/voltages//240203aacl_sb01_data.out /dataz/dsa110/operations/beamformer_weights/applied/beamformer_weights_sb01_2024-02-01T15:09:30.dat\n",
       "\n",
       "Using GPU 1\n",
       "\n",
       "Reading from /dataz/dsa110/candidates/240203aacl/Level2/voltages//240203aacl_sb01_data.out, no visibilities written\n",
       "\n",
       "Will write coherent filterbank to /media/ubuntu/ssd/sherman/scratch_weights_update_2022-06-03_32-7us/240203aacl_chromatica/corr04.out\n",
       "\n",
       "Using Stokes parameter 0\n",
       "\n",
       "Minimum baseline (m): 0\n",
       "\n",
       "Integrating by 1 ints - check that this is power of 2\n",
       "\n",
       "Assuming fch1 1487.031250 MHz\n",
       "\n",
       "Will weight voltages using /dataz/dsa110/operations/beamformer_weights/applied/beamformer_weights_sb01_2024-02-01T15:09:30.dat\n",
       "\n",
       "Will flag antennas using /home/ubuntu/proj/dsa110-shell/dsa110-xengine/scripts/flagants.dat\n",
       "\n",
       "Will rotate voltages to beam 162\n",
       "\n",
       "Will dedisperse to DM 272.250000, adding delay to 1530MHz\n",
       "\n",
       "initial memory allocation - please stay patient...\n",
       "\n",
       "Reading from file...\n",
       "\n",
       "Reading onto GPU...\n",
       "\n",
       "Dedispersing...\n",
       "\n",
       "Loaded antenna positions and weights\n",
       "\n",
       "starting loop\n",
       "\n"
      ],
      "text/plain": [
       "<IPython.core.display.Markdown object>"
      ]
     },
     "metadata": {},
     "output_type": "display_data"
    }
   ],
   "source": [
    "# display the output of the logfile\n",
    "#if parsec.state_dict[\"current_state\"] == parsec.state_map['load']:\n",
    "mr.Markdown(\"##### Log:\")\n",
    "if showlog.value:# or refreshlogbutton.clicked:\n",
    "    flog = open(polbeamform.logfile,\"r\")\n",
    "    logtext = flog.read()\n",
    "    flog.close()\n",
    "    mr.Markdown(text=(logtext.replace('\\n','\\n\\n')))\n"
   ]
  },
  {
   "cell_type": "markdown",
   "id": "0b01da2a",
   "metadata": {
    "slideshow": {
     "slide_type": "skip"
    }
   },
   "source": [
    "# (1) Dedispersion Tuning"
   ]
  },
  {
   "cell_type": "code",
   "execution_count": 12,
   "id": "a3dde1af",
   "metadata": {
    "slideshow": {
     "slide_type": "skip"
    }
   },
   "outputs": [
    {
     "data": {
      "application/mercury+json": "{\n    \"widget\": \"Slider\",\n    \"value\": 1,\n    \"min\": 1,\n    \"max\": 128,\n    \"step\": 1,\n    \"label\": \"$n_t$\",\n    \"model_id\": \"0892391282944b6eb0361ea1ccdd910f\",\n    \"code_uid\": \"Slider.0.40.110.5-rande2671ef6\",\n    \"url_key\": \"\",\n    \"disabled\": false,\n    \"hidden\": true\n}",
      "text/plain": [
       "mercury.Slider"
      ]
     },
     "metadata": {},
     "output_type": "display_data"
    },
    {
     "data": {
      "application/mercury+json": "{\n    \"widget\": \"Slider\",\n    \"value\": 0,\n    \"min\": 0,\n    \"max\": 10,\n    \"step\": 1,\n    \"label\": \"${\\\\rm log_{2}}(n_f)$\",\n    \"model_id\": \"185af3f259734a53b67e6a39af854c3b\",\n    \"code_uid\": \"Slider.0.40.110.12-randdff10ce0\",\n    \"url_key\": \"\",\n    \"disabled\": false,\n    \"hidden\": true\n}",
      "text/plain": [
       "mercury.Slider"
      ]
     },
     "metadata": {},
     "output_type": "display_data"
    },
    {
     "data": {
      "application/mercury+json": "{\n    \"widget\": \"Slider\",\n    \"value\": 5,\n    \"min\": 5,\n    \"max\": 9,\n    \"step\": 1,\n    \"label\": \"base ${\\\\rm log_{2}}({\\\\rm window})$\",\n    \"model_id\": \"4c88562be74846548ffbefec6c8a2246\",\n    \"code_uid\": \"Slider.0.40.110.19-rand8edcf7c9\",\n    \"url_key\": \"\",\n    \"disabled\": false,\n    \"hidden\": true\n}",
      "text/plain": [
       "mercury.Slider"
      ]
     },
     "metadata": {},
     "output_type": "display_data"
    },
    {
     "data": {
      "application/mercury+json": "{\n    \"widget\": \"Numeric\",\n    \"value\": 0.0,\n    \"min\": -100.0,\n    \"max\": 100.0,\n    \"step\": 0.06,\n    \"label\": \"$\\\\Delta {\\\\rm DM}$\",\n    \"model_id\": \"1ab4e4a44ef94801a896722e337d0ab3\",\n    \"code_uid\": \"Numeric.0.40.101.27-rand81124def\",\n    \"url_key\": \"\",\n    \"disabled\": false,\n    \"hidden\": true\n}",
      "text/plain": [
       "mercury.Numeric"
      ]
     },
     "metadata": {},
     "output_type": "display_data"
    },
    {
     "data": {
      "application/mercury+json": "{\n    \"widget\": \"Button\",\n    \"label\": \"Confirm DM\",\n    \"style\": \"primary\",\n    \"value\": false,\n    \"model_id\": \"8ebbcb9c867541f69f3c26fa9f359bb7\",\n    \"code_uid\": \"Button.0.40.58.33-rand0078e3b6\",\n    \"disabled\": false,\n    \"hidden\": true\n}",
      "text/plain": [
       "mercury.Button"
      ]
     },
     "metadata": {},
     "output_type": "display_data"
    }
   ],
   "source": [
    "#if parsec.state_dict[\"current_state\"] == parsec.state_map['dedisp']:\n",
    "\n",
    "hidden=toggle_menu.value != '(1) Dedispersion Tuning'\n",
    "#widgets for DM tuning dashboard\n",
    "n_t_slider = mr.Slider( #time downsampling factor\n",
    "    value=parsec.wdict['n_t_slider'],\n",
    "    min=1, \n",
    "    max=128, \n",
    "    step=1, \n",
    "    label='$n_t$'\n",
    ",hidden=hidden)\n",
    "logn_f_slider = mr.Slider( #freq downsampling factor\n",
    "    value=parsec.wdict['logn_f_slider'],\n",
    "    min=0, \n",
    "    max=10, \n",
    "    step=1, \n",
    "    label='${\\\\rm log_{2}}(n_f)$'\n",
    ",hidden=hidden)\n",
    "logwindow_slider_init = mr.Slider(\n",
    "    value=parsec.wdict['logwindow_slider_init'],\n",
    "    min=5, \n",
    "    max=9, \n",
    "    step=1, \n",
    "    label=r'base ${\\rm log_{2}}({\\rm window})$'\n",
    ",hidden=hidden)\n",
    "dmstep = parsec.get_min_DM_step(n_t_slider.value)#np.around((32.7e-3)*n_t_slider.value/(4.15)/((1/1.307**2) - (1/1.493**2)),2) #pc/cc\n",
    "ddm_num = mr.Numeric(value=parsec.wdict['ddm_num'], #DM offset\n",
    "                     step=dmstep,\n",
    "                     min=-100,max=100,\n",
    "                     label='$\\Delta {\\\\rm DM}$'\n",
    "                    ,hidden=hidden)\n",
    "\n",
    "DMdonebutton = mr.Button(label='Confirm DM',\n",
    "                         style='primary',\n",
    "                        hidden=hidden)\n",
    "\n",
    "\n"
   ]
  },
  {
   "cell_type": "code",
   "execution_count": 13,
   "id": "aaa33ab7",
   "metadata": {
    "slideshow": {
     "slide_type": "slide"
    }
   },
   "outputs": [
    {
     "data": {
      "text/markdown": [
       "### (1) Dedispersion Tuning"
      ],
      "text/plain": [
       "<IPython.core.display.Markdown object>"
      ]
     },
     "metadata": {},
     "output_type": "display_data"
    }
   ],
   "source": [
    "# slide title\n",
    "mr.Markdown(\"### (1) Dedispersion Tuning\")"
   ]
  },
  {
   "cell_type": "code",
   "execution_count": 14,
   "id": "e642b9f6",
   "metadata": {
    "slideshow": {
     "slide_type": "-"
    }
   },
   "outputs": [
    {
     "data": {
      "text/markdown": [
       "##### DM Parameters"
      ],
      "text/plain": [
       "<IPython.core.display.Markdown object>"
      ]
     },
     "metadata": {},
     "output_type": "display_data"
    },
    {
     "data": {
      "text/html": [
       "<style scoped>\n",
       "        .numberbox-container {\n",
       "        width: 100%;\n",
       "        display: flex;\n",
       "        flex-direction: row;\n",
       "        }\n",
       "        @media (max-width: 800px) {\n",
       "        .numberbox-container {\n",
       "            flex-direction: column;\n",
       "        }\n",
       "        }\n",
       "        </style><div class=\"numberbox-container\" style=\"display: flex; background: #fff;\">\n",
       "<div style=\"text-align: center; width: 100%; border: 1px solid lightgray; margin-right: 15px; margin-top: 15px; padding-top: 40px; padding-bottom: 30px; background: white; border-radius:5px\">\n",
       "  <span style=\"font-size: 4em; color: black; font-family: monospace; \">110.95</span>\n",
       "  \n",
       "  <span style=\"font-size: 2em; color: gray; display: block; padding-top: 20px; font-family: monospace; line-height: 1.3em;\">Input DM (pc/cm$^{{-3}}$)</span>\n",
       "</div>\n",
       "  \n",
       "<div style=\"text-align: center; width: 100%; border: 1px solid lightgray; margin-right: 0px; margin-top: 15px; padding-top: 40px; padding-bottom: 30px; background: white; border-radius:5px\">\n",
       "  <span style=\"font-size: 4em; color: black; font-family: monospace; \">110.95</span>\n",
       "  \n",
       "  <span style=\"font-size: 2em; color: gray; display: block; padding-top: 20px; font-family: monospace; line-height: 1.3em;\">New DM (pc/cm$^{{-3}}$)</span>\n",
       "</div>\n",
       "  </div>"
      ],
      "text/plain": [
       "<widgets.numberbox.NumberBox at 0x7f5acf9585e0>"
      ]
     },
     "execution_count": 14,
     "metadata": {},
     "output_type": "execute_result"
    }
   ],
   "source": [
    "mr.Markdown(\"##### DM Parameters\")\n",
    "\n",
    "\n",
    "#if not (parsec.state_dict[\"current_state\"] >= parsec.state_map['dedisp']): raise parsec.StopExecution\n",
    "DM_input_display = mr.NumberBox(data=parsec.wdict['DM_input_display'],#parsec.FRB_DM[parsec.FRB_IDS.index(ids)], \n",
    "                                title=r'Input DM (pc/cm$^{{-3}}$)'\n",
    "                               )\n",
    "DM_new_display = mr.NumberBox(data=DM_input_display.data + ddm_num.value, \n",
    "                              title=r'New DM (pc/cm$^{{-3}}$)'\n",
    "                             )\n",
    "\n",
    "mr.NumberBox([DM_input_display,DM_new_display])\n",
    "    "
   ]
  },
  {
   "cell_type": "code",
   "execution_count": 15,
   "id": "1fe8a508",
   "metadata": {
    "slideshow": {
     "slide_type": "subslide"
    }
   },
   "outputs": [],
   "source": [
    "#if parsec.state_dict[\"current_state\"] >= parsec.state_map['dedisp']:\n",
    "#create DM screen\n",
    "if parsec.state_dict[\"current_state\"] >= parsec.state_map['dedisp']:\n",
    "    parsec.dedisp_screen(n_t_slider,logn_f_slider,logwindow_slider_init,ddm_num,DM_input_display,DM_new_display,DMdonebutton)\n",
    "\n"
   ]
  },
  {
   "cell_type": "markdown",
   "id": "4807b632",
   "metadata": {
    "slideshow": {
     "slide_type": "skip"
    }
   },
   "source": [
    "# (2) Calibration"
   ]
  },
  {
   "cell_type": "code",
   "execution_count": 16,
   "id": "8fa4a522",
   "metadata": {
    "slideshow": {
     "slide_type": "skip"
    }
   },
   "outputs": [
    {
     "data": {
      "application/mercury+json": "{\n    \"widget\": \"Select\",\n    \"value\": \"\",\n    \"choices\": [\n        \"\",\n        \"2022-12-18\"\n    ],\n    \"label\": \"Observation Date for New Polarization Calibration Solution ('YYYY-MM-DD'):\",\n    \"model_id\": \"873bca7d88dd463197eb496090cc3e4e\",\n    \"code_uid\": \"Select.0.40.104.10-rand5d36944d\",\n    \"url_key\": \"\",\n    \"disabled\": false,\n    \"hidden\": true\n}",
      "text/plain": [
       "mercury.Select"
      ]
     },
     "metadata": {},
     "output_type": "display_data"
    },
    {
     "data": {
      "application/mercury+json": "{\n    \"widget\": \"Button\",\n    \"label\": \"Copy T3 Voltages and Beamformer Weights\",\n    \"style\": \"primary\",\n    \"value\": false,\n    \"model_id\": \"3734c9abe9c64039a38dc08e04569aed\",\n    \"code_uid\": \"Button.0.40.58.14-randaea0839e\",\n    \"disabled\": false,\n    \"hidden\": true\n}",
      "text/plain": [
       "mercury.Button"
      ]
     },
     "metadata": {},
     "output_type": "display_data"
    },
    {
     "data": {
      "application/mercury+json": "{\n    \"widget\": \"Select\",\n    \"value\": \"\",\n    \"choices\": [\n        \"\",\n        \"2022-12-18\"\n    ],\n    \"label\": \"Available Polarization Calibration Dates ('YYYY-MM-DD'):\",\n    \"model_id\": \"77a36150521c45df8c87964cd569532f\",\n    \"code_uid\": \"Select.0.40.104.20-rand400c243a\",\n    \"url_key\": \"\",\n    \"disabled\": false,\n    \"hidden\": true\n}",
      "text/plain": [
       "mercury.Select"
      ]
     },
     "metadata": {},
     "output_type": "display_data"
    },
    {
     "data": {
      "application/mercury+json": "{\n    \"widget\": \"Button\",\n    \"label\": \"Run Cal Beamformer\",\n    \"style\": \"primary\",\n    \"value\": false,\n    \"model_id\": \"a6ef6ad72ef74315888598c9ade3995d\",\n    \"code_uid\": \"Button.0.40.58.26-rand031193f5\",\n    \"disabled\": false,\n    \"hidden\": true\n}",
      "text/plain": [
       "mercury.Button"
      ]
     },
     "metadata": {},
     "output_type": "display_data"
    }
   ],
   "source": [
    "#if parsec.state_dict[\"current_state\"] == parsec.state_map['polcal']:\n",
    "#widgets for pol cal dashboard\n",
    "#if we want to create new cal solutions from voltage files on T3, choose from here\n",
    "\n",
    "hidden = toggle_menu.value != '(2) Calibration -- Beamform Cal Voltages'\n",
    "\"\"\"polcaldates = []\n",
    "for k in parsec.polcal_dict.keys():\n",
    "    if 'polcal' not in str(k):\n",
    "        polcaldates.append(str(k))\"\"\"\n",
    "polcaldate_create_menu = mr.Select(label=\"Observation Date for New Polarization Calibration Solution ('YYYY-MM-DD'):\", \n",
    "                            value=parsec.wdict['polcaldate_create_menu'], \n",
    "                            choices=[\"\"] + list(parsec.polcaldates)\n",
    "                           ,hidden=hidden)\n",
    "polcopybutton = mr.Button(label='Copy T3 Voltages and Beamformer Weights',\n",
    "                         style='primary',hidden=hidden)\n",
    "\n",
    "\n",
    "#if we want to create new cal solutions from voltage files that are ALREADY COPIED TO H23 choose from here\n",
    "#polcalfiles_bf = polcal.get_avail_caldates()\n",
    "polcaldate_bf_menu = mr.Select(label=\"Available Polarization Calibration Dates ('YYYY-MM-DD'):\", \n",
    "                            value=parsec.wdict['polcaldate_bf_menu'], \n",
    "                            choices=[\"\"] + list(parsec.polcalfiles_bf)\n",
    "                           ,hidden=hidden)\n",
    "\n",
    "\n",
    "bfcal_button = mr.Button(label='Run Cal Beamformer',style='primary',hidden=hidden)\n",
    "\n"
   ]
  },
  {
   "cell_type": "code",
   "execution_count": 17,
   "id": "faeb26f4",
   "metadata": {
    "slideshow": {
     "slide_type": "skip"
    }
   },
   "outputs": [
    {
     "data": {
      "application/mercury+json": "{\n    \"widget\": \"Select\",\n    \"value\": \"2023-10-26\",\n    \"choices\": [\n        \"2023-10-26\",\n        \"2024-01-30\"\n    ],\n    \"label\": \"Available Dates With Voltages or Filterbanks on h23 ('YYYY-MM-DD'):\",\n    \"model_id\": \"4c6c41d2139a41a79db4f4d2c4636ab7\",\n    \"code_uid\": \"Select.0.40.104.2-rand1bf1a985\",\n    \"url_key\": \"\",\n    \"disabled\": false,\n    \"hidden\": true\n}",
      "text/plain": [
       "mercury.Select"
      ]
     },
     "metadata": {},
     "output_type": "display_data"
    }
   ],
   "source": [
    "hidden = (toggle_menu.value != '(2) Calibration -- Make Cal Filterbanks') and (toggle_menu.value != '(2) Calibration -- Choose Cal Observations')\n",
    "polcaldate_findbeams_menu = mr.Select(label=\"Available Dates With Voltages or Filterbanks on h23 ('YYYY-MM-DD'):\", \n",
    "                            value=parsec.wdict['polcaldate_findbeams_menu'],#polcalfiles_findbeams[0], \n",
    "                            choices=list(parsec.polcalfiles_findbeams)\n",
    "                           ,hidden=hidden)"
   ]
  },
  {
   "cell_type": "code",
   "execution_count": 18,
   "id": "d9f95bd2",
   "metadata": {
    "slideshow": {
     "slide_type": "skip"
    }
   },
   "outputs": [
    {
     "data": {
      "application/mercury+json": "{\n    \"widget\": \"Button\",\n    \"label\": \"Find Beam Numbers\",\n    \"style\": \"primary\",\n    \"value\": false,\n    \"model_id\": \"8e58b7aabd9e47e295119f57494e66d8\",\n    \"code_uid\": \"Button.0.40.58.6-rand6eec517e\",\n    \"disabled\": false,\n    \"hidden\": true\n}",
      "text/plain": [
       "mercury.Button"
      ]
     },
     "metadata": {},
     "output_type": "display_data"
    },
    {
     "data": {
      "application/mercury+json": "{\n    \"widget\": \"Button\",\n    \"label\": \"Make Calibrator Filterbanks\",\n    \"style\": \"primary\",\n    \"value\": false,\n    \"model_id\": \"aabab376ca724ee080d24b0740bed1a7\",\n    \"code_uid\": \"Button.0.40.58.7-randd9ea907f\",\n    \"disabled\": false,\n    \"hidden\": true\n}",
      "text/plain": [
       "mercury.Button"
      ]
     },
     "metadata": {},
     "output_type": "display_data"
    },
    {
     "data": {
      "application/mercury+json": "{\n    \"widget\": \"Button\",\n    \"label\": \"Refresh Log\",\n    \"style\": \"primary\",\n    \"value\": false,\n    \"model_id\": \"881dcffd7b7f49989debd1786ca786c4\",\n    \"code_uid\": \"Button.0.40.58.10-randb49f1e40\",\n    \"disabled\": false,\n    \"hidden\": true\n}",
      "text/plain": [
       "mercury.Button"
      ]
     },
     "metadata": {},
     "output_type": "display_data"
    }
   ],
   "source": [
    "hidden = toggle_menu.value != '(2) Calibration -- Make Cal Filterbanks'\n",
    "#if we want to start from formed beams in scratch directory\n",
    "#polcalfiles_findbeams = polcal.get_beamfinding_files()\n",
    "\n",
    "\n",
    "findbeams_button = mr.Button(label='Find Beam Numbers',style='primary',hidden=hidden)\n",
    "filcalbutton = mr.Button(label='Make Calibrator Filterbanks',style='primary',hidden=hidden)\n",
    "\n",
    "\n",
    "refreshlogcalbutton = mr.Button(label='Refresh Log',style='primary',hidden=hidden)\n",
    "\n"
   ]
  },
  {
   "cell_type": "code",
   "execution_count": 19,
   "id": "81805d36",
   "metadata": {
    "slideshow": {
     "slide_type": "skip"
    }
   },
   "outputs": [
    {
     "data": {
      "application/mercury+json": "{\n    \"widget\": \"Select\",\n    \"value\": \"\",\n    \"choices\": [\n        \"\"\n    ],\n    \"label\": \"3C48 Cal Observation ID:\",\n    \"model_id\": \"fb4fe6b44b624844b226fd0cdbc92edd\",\n    \"code_uid\": \"Select.0.40.104.8-randf9b1fea8\",\n    \"url_key\": \"\",\n    \"disabled\": false,\n    \"hidden\": true\n}",
      "text/plain": [
       "mercury.Select"
      ]
     },
     "metadata": {},
     "output_type": "display_data"
    },
    {
     "data": {
      "application/mercury+json": "{\n    \"widget\": \"Select\",\n    \"value\": \"\",\n    \"choices\": [\n        \"\"\n    ],\n    \"label\": \"3C286 Cal Observation ID:\",\n    \"model_id\": \"0c10834875a74f778d8391851fb334a7\",\n    \"code_uid\": \"Select.0.40.104.17-randade0864f\",\n    \"url_key\": \"\",\n    \"disabled\": false,\n    \"hidden\": true\n}",
      "text/plain": [
       "mercury.Select"
      ]
     },
     "metadata": {},
     "output_type": "display_data"
    }
   ],
   "source": [
    "hidden = toggle_menu.value != '(2) Calibration -- Choose Cal Observations'\n",
    "#if we want to make solution from filterbanks\n",
    "obs_files,obs_ids = polcal.get_calfil_files('3C48',polcaldate_findbeams_menu.value,'3C48*0')\n",
    "#initval = ''\n",
    "\"\"\"if 'cal_name_3C48_center' in parsec.polcal_dict.keys():\n",
    "    initval = parsec.polcal_dict['cal_name_3C48_center']\n",
    "\"\"\"\n",
    "obsid3C48_menu = mr.Select(label=\"3C48 Cal Observation ID:\", \n",
    "                            value=parsec.wdict['obsid3C48_menu'], \n",
    "                            choices=[\"\"] + list(obs_ids)\n",
    "                           ,hidden=hidden)\n",
    "obs_files,obs_ids = polcal.get_calfil_files('3C286',polcaldate_findbeams_menu.value,'3C286*0')\n",
    "#initval = ''\n",
    "\"\"\"if 'cal_name_3C286_center' in parsec.polcal_dict.keys():\n",
    "    initval = parsec.polcal_dict['cal_name_3C286_center']\n",
    "\"\"\"\n",
    "obsid3C286_menu = mr.Select(label=\"3C286 Cal Observation ID:\", \n",
    "                            value=parsec.wdict['obsid3C286_menu'], \n",
    "                            choices=[\"\"] + list(obs_ids)\n",
    "                           ,hidden=hidden)\n",
    "ParA_display = mr.NumberBox(data=parsec.wdict['ParA_display'], title=r'Parallactic Angle ($^{\\circ}$)') \n",
    "\n"
   ]
  },
  {
   "cell_type": "code",
   "execution_count": 20,
   "id": "44b8366b",
   "metadata": {
    "slideshow": {
     "slide_type": "skip"
    }
   },
   "outputs": [
    {
     "data": {
      "application/mercury+json": "{\n    \"widget\": \"Slider\",\n    \"value\": 2,\n    \"min\": 1,\n    \"max\": 10,\n    \"step\": 1,\n    \"label\": \"Peak Height\",\n    \"model_id\": \"88d30a648fea44ebbb5d44ea584989f6\",\n    \"code_uid\": \"Slider.0.40.110.2-rand665ab43f\",\n    \"url_key\": \"\",\n    \"disabled\": false,\n    \"hidden\": true\n}",
      "text/plain": [
       "mercury.Slider"
      ]
     },
     "metadata": {},
     "output_type": "display_data"
    },
    {
     "data": {
      "application/mercury+json": "{\n    \"widget\": \"Slider\",\n    \"value\": 10,\n    \"min\": 1,\n    \"max\": 20,\n    \"step\": 1,\n    \"label\": \"Peak Width\",\n    \"model_id\": \"c50b2b35c74e440e8e8587b5f2b32fa3\",\n    \"code_uid\": \"Slider.0.40.110.9-randdde1b842\",\n    \"url_key\": \"\",\n    \"disabled\": false,\n    \"hidden\": true\n}",
      "text/plain": [
       "mercury.Slider"
      ]
     },
     "metadata": {},
     "output_type": "display_data"
    },
    {
     "data": {
      "application/mercury+json": "{\n    \"widget\": \"Checkbox\",\n    \"value\": false,\n    \"label\": \"Savgol Filter\",\n    \"model_id\": \"2fa2c21f66c54e0e8ff9d87b2ac0bc4e\",\n    \"code_uid\": \"Checkbox.0.40.70.16-rand94a350b1\",\n    \"url_key\": \"\",\n    \"disabled\": false,\n    \"hidden\": true\n}",
      "text/plain": [
       "mercury.Checkbox"
      ]
     },
     "metadata": {},
     "output_type": "display_data"
    },
    {
     "data": {
      "application/mercury+json": "{\n    \"widget\": \"Slider\",\n    \"value\": 255,\n    \"min\": 3,\n    \"max\": 510,\n    \"step\": 2,\n    \"label\": \"$sf_{ww}$\",\n    \"model_id\": \"17d126ffb64d4ef1915d0d56fff1b90c\",\n    \"code_uid\": \"Slider.0.40.110.17-rand5dff8a96\",\n    \"url_key\": \"\",\n    \"disabled\": false,\n    \"hidden\": true\n}",
      "text/plain": [
       "mercury.Slider"
      ]
     },
     "metadata": {},
     "output_type": "display_data"
    },
    {
     "data": {
      "application/mercury+json": "{\n    \"widget\": \"Slider\",\n    \"value\": 5,\n    \"min\": 1,\n    \"max\": 10,\n    \"step\": 1,\n    \"label\": \"$sf_{o}$\",\n    \"model_id\": \"6270b5c2564b4187ae0ed746bb35051d\",\n    \"code_uid\": \"Slider.0.40.110.24-randbabf1fcf\",\n    \"url_key\": \"\",\n    \"disabled\": false,\n    \"hidden\": true\n}",
      "text/plain": [
       "mercury.Slider"
      ]
     },
     "metadata": {},
     "output_type": "display_data"
    },
    {
     "data": {
      "application/mercury+json": "{\n    \"widget\": \"Checkbox\",\n    \"value\": false,\n    \"label\": \"Fit with Polynomial\",\n    \"model_id\": \"c936f2130f3643d9bcaef4a597087412\",\n    \"code_uid\": \"Checkbox.0.40.70.31-rand3746b5b0\",\n    \"url_key\": \"\",\n    \"disabled\": false,\n    \"hidden\": true\n}",
      "text/plain": [
       "mercury.Checkbox"
      ]
     },
     "metadata": {},
     "output_type": "display_data"
    },
    {
     "data": {
      "application/mercury+json": "{\n    \"widget\": \"Slider\",\n    \"value\": 5,\n    \"min\": 1,\n    \"max\": 9,\n    \"step\": 1,\n    \"label\": \"Polynomial Fit Degree\",\n    \"model_id\": \"bfc8c74c0ca04a389947cdd17c814a39\",\n    \"code_uid\": \"Slider.0.40.110.32-rand98d6e28e\",\n    \"url_key\": \"\",\n    \"disabled\": false,\n    \"hidden\": true\n}",
      "text/plain": [
       "mercury.Slider"
      ]
     },
     "metadata": {},
     "output_type": "display_data"
    },
    {
     "data": {
      "application/mercury+json": "{\n    \"widget\": \"Slider\",\n    \"value\": 1370.0,\n    \"min\": 1311.25000003072,\n    \"max\": 1498.75,\n    \"step\": 0.0304,\n    \"label\": \"Edge Frequency (MHz) Cutoff (for Fitting Piecewise Solution)\",\n    \"model_id\": \"e3de668fd2174950a7be00c180f87487\",\n    \"code_uid\": \"Slider.0.40.110.39-rande4f05308\",\n    \"url_key\": \"\",\n    \"disabled\": false,\n    \"hidden\": true\n}",
      "text/plain": [
       "mercury.Slider"
      ]
     },
     "metadata": {},
     "output_type": "display_data"
    },
    {
     "data": {
      "application/mercury+json": "{\n    \"widget\": \"Slider\",\n    \"value\": 1370.0,\n    \"min\": 1311.25000003072,\n    \"max\": 1498.75,\n    \"step\": 0.0304,\n    \"label\": \"Break Frequency (MHz) Cutoff (for Stitching Piecewise Solution)\",\n    \"model_id\": \"2e9c2f0ebf2d4d70a0febaf5de5cfd0a\",\n    \"code_uid\": \"Slider.0.40.110.46-rand1dd76199\",\n    \"url_key\": \"\",\n    \"disabled\": false,\n    \"hidden\": true\n}",
      "text/plain": [
       "mercury.Slider"
      ]
     },
     "metadata": {},
     "output_type": "display_data"
    }
   ],
   "source": [
    "\n",
    "hidden = toggle_menu.value != r'(2) Calibration -- Make Cal Solutions ($|g_{yy}|$)'\n",
    "peakheight_slider = mr.Slider( \n",
    "    value=parsec.wdict['peakheight_slider'],\n",
    "    min=1, \n",
    "    max=10, \n",
    "    step=1, \n",
    "    label=r'Peak Height'\n",
    ",hidden=hidden)\n",
    "peakwidth_slider = mr.Slider( \n",
    "    value=parsec.wdict['peakwidth_slider'],\n",
    "    min=1, \n",
    "    max=20, \n",
    "    step=1, \n",
    "    label=r'Peak Width'\n",
    ",hidden=hidden)\n",
    "sfflag =  mr.Checkbox(value=parsec.wdict['sfflag'], label=\"Savgol Filter\",hidden=hidden)\n",
    "sf_window_weight_cals = mr.Slider( \n",
    "    value=parsec.wdict['sf_window_weight_cals'],\n",
    "    min=3, \n",
    "    max=510, \n",
    "    step=2, \n",
    "    label=r'$sf_{ww}$'\n",
    ",hidden=hidden)\n",
    "sf_order_cals = mr.Slider( \n",
    "    value=parsec.wdict['sf_order_cals'],\n",
    "    min=1, \n",
    "    max=10, \n",
    "    step=1, \n",
    "    label=r'$sf_{o}$'\n",
    ",hidden=hidden)\n",
    "polyfitflag =  mr.Checkbox(value=parsec.wdict['polyfitflag'], label=\"Fit with Polynomial\",hidden=hidden)\n",
    "polyfitorder_slider = mr.Slider( \n",
    "    value=parsec.wdict['polyfitorder_slider'],\n",
    "    min=1, \n",
    "    max=9, \n",
    "    step=1, \n",
    "    label=r'Polynomial Fit Degree'\n",
    ",hidden=hidden)\n",
    "edgefreq_slider = mr.Slider( \n",
    "    value=parsec.wdict['edgefreq_slider'],\n",
    "    min=1311.25000003072, \n",
    "    max=1498.75, \n",
    "    step=30.4e-3, \n",
    "    label=r'Edge Frequency (MHz) Cutoff (for Fitting Piecewise Solution)'\n",
    ",hidden=hidden)\n",
    "breakfreq_slider = mr.Slider( \n",
    "    value=parsec.wdict['breakfreq_slider'],\n",
    "    min=1311.25000003072, \n",
    "    max=1498.75, \n",
    "    step=30.4e-3, \n",
    "    label=r'Break Frequency (MHz) Cutoff (for Stitching Piecewise Solution)'\n",
    ",hidden=hidden)\n"
   ]
  },
  {
   "cell_type": "code",
   "execution_count": 21,
   "id": "982e0f26",
   "metadata": {
    "slideshow": {
     "slide_type": "skip"
    }
   },
   "outputs": [
    {
     "data": {
      "application/mercury+json": "{\n    \"widget\": \"Slider\",\n    \"value\": 3,\n    \"min\": 1,\n    \"max\": 10,\n    \"step\": 1,\n    \"label\": \"Peak Height\",\n    \"model_id\": \"72fddc8dca634a99bccf7af739480945\",\n    \"code_uid\": \"Slider.0.40.110.2-rand28a829a7\",\n    \"url_key\": \"\",\n    \"disabled\": false,\n    \"hidden\": true\n}",
      "text/plain": [
       "mercury.Slider"
      ]
     },
     "metadata": {},
     "output_type": "display_data"
    },
    {
     "data": {
      "application/mercury+json": "{\n    \"widget\": \"Slider\",\n    \"value\": 10,\n    \"min\": 1,\n    \"max\": 20,\n    \"step\": 1,\n    \"label\": \"Peak Width\",\n    \"model_id\": \"79bd468627f4432ba4ccfa07a3979d26\",\n    \"code_uid\": \"Slider.0.40.110.9-randab56835f\",\n    \"url_key\": \"\",\n    \"disabled\": false,\n    \"hidden\": true\n}",
      "text/plain": [
       "mercury.Slider"
      ]
     },
     "metadata": {},
     "output_type": "display_data"
    },
    {
     "data": {
      "application/mercury+json": "{\n    \"widget\": \"Checkbox\",\n    \"value\": false,\n    \"label\": \"Savgol Filter\",\n    \"model_id\": \"7e99008def8a4f109ca894df38c5a88f\",\n    \"code_uid\": \"Checkbox.0.40.70.16-rand03b70549\",\n    \"url_key\": \"\",\n    \"disabled\": false,\n    \"hidden\": true\n}",
      "text/plain": [
       "mercury.Checkbox"
      ]
     },
     "metadata": {},
     "output_type": "display_data"
    },
    {
     "data": {
      "application/mercury+json": "{\n    \"widget\": \"Slider\",\n    \"value\": 257,\n    \"min\": 3,\n    \"max\": 510,\n    \"step\": 2,\n    \"label\": \"$sf_{ww}$\",\n    \"model_id\": \"49706313533b49d99c4f9bf228e13b9b\",\n    \"code_uid\": \"Slider.0.40.110.17-rande3995a05\",\n    \"url_key\": \"\",\n    \"disabled\": false,\n    \"hidden\": true\n}",
      "text/plain": [
       "mercury.Slider"
      ]
     },
     "metadata": {},
     "output_type": "display_data"
    },
    {
     "data": {
      "application/mercury+json": "{\n    \"widget\": \"Slider\",\n    \"value\": 5,\n    \"min\": 1,\n    \"max\": 10,\n    \"step\": 1,\n    \"label\": \"$sf_{o}$\",\n    \"model_id\": \"3fd930a608144a9cae2fe5839f70fcaf\",\n    \"code_uid\": \"Slider.0.40.110.24-rand857ca2ad\",\n    \"url_key\": \"\",\n    \"disabled\": false,\n    \"hidden\": true\n}",
      "text/plain": [
       "mercury.Slider"
      ]
     },
     "metadata": {},
     "output_type": "display_data"
    },
    {
     "data": {
      "application/mercury+json": "{\n    \"widget\": \"Checkbox\",\n    \"value\": false,\n    \"label\": \"Fit with Polynomial\",\n    \"model_id\": \"0ed6e42e7484453cab70e93e8d15630d\",\n    \"code_uid\": \"Checkbox.0.40.70.31-rand41a5da3b\",\n    \"url_key\": \"\",\n    \"disabled\": false,\n    \"hidden\": true\n}",
      "text/plain": [
       "mercury.Checkbox"
      ]
     },
     "metadata": {},
     "output_type": "display_data"
    },
    {
     "data": {
      "application/mercury+json": "{\n    \"widget\": \"Slider\",\n    \"value\": 5,\n    \"min\": 1,\n    \"max\": 9,\n    \"step\": 1,\n    \"label\": \"Polynomial Fit Degree\",\n    \"model_id\": \"956e644038a844bca8101cdeaa5a5845\",\n    \"code_uid\": \"Slider.0.40.110.32-randcce12e46\",\n    \"url_key\": \"\",\n    \"disabled\": false,\n    \"hidden\": true\n}",
      "text/plain": [
       "mercury.Slider"
      ]
     },
     "metadata": {},
     "output_type": "display_data"
    },
    {
     "data": {
      "application/mercury+json": "{\n    \"widget\": \"Slider\",\n    \"value\": 1360.0,\n    \"min\": 1311.25000003072,\n    \"max\": 1498.75,\n    \"step\": 0.0304,\n    \"label\": \"Edge Frequency (MHz) Cutoff (for Fitting Piecewise Solution)\",\n    \"model_id\": \"d028bdf137ca456b8dd5dc35ddc15e89\",\n    \"code_uid\": \"Slider.0.40.110.39-randb3e50d61\",\n    \"url_key\": \"\",\n    \"disabled\": false,\n    \"hidden\": true\n}",
      "text/plain": [
       "mercury.Slider"
      ]
     },
     "metadata": {},
     "output_type": "display_data"
    },
    {
     "data": {
      "application/mercury+json": "{\n    \"widget\": \"Slider\",\n    \"value\": 1360.0,\n    \"min\": 1311.25000003072,\n    \"max\": 1498.75,\n    \"step\": 0.0304,\n    \"label\": \"Break Frequency (MHz) Cutoff (for Stitching Piecewise Solution)\",\n    \"model_id\": \"b2aa0b11b93b45f78837e2813f979bad\",\n    \"code_uid\": \"Slider.0.40.110.46-rand09a3dc30\",\n    \"url_key\": \"\",\n    \"disabled\": false,\n    \"hidden\": true\n}",
      "text/plain": [
       "mercury.Slider"
      ]
     },
     "metadata": {},
     "output_type": "display_data"
    }
   ],
   "source": [
    "\n",
    "\n",
    "hidden = toggle_menu.value != r'(2) Calibration -- Make Cal Solutions ($|g_{xx}|/|g_{yy}|$)'\n",
    "ratio_peakheight_slider = mr.Slider( \n",
    "    value=parsec.wdict['ratio_peakheight_slider'],\n",
    "    min=1, \n",
    "    max=10, \n",
    "    step=1, \n",
    "    label=r'Peak Height'\n",
    ",hidden=hidden)\n",
    "ratio_peakwidth_slider = mr.Slider( \n",
    "    value=parsec.wdict['ratio_peakwidth_slider'],\n",
    "    min=1, \n",
    "    max=20, \n",
    "    step=1, \n",
    "    label=r'Peak Width'\n",
    ",hidden=hidden)\n",
    "ratio_sfflag =  mr.Checkbox(value=parsec.wdict['ratio_sfflag'], label=\"Savgol Filter\",hidden=hidden)\n",
    "ratio_sf_window_weight_cals = mr.Slider( \n",
    "    value=parsec.wdict['ratio_sf_window_weight_cals'],\n",
    "    min=3, \n",
    "    max=510, \n",
    "    step=2, \n",
    "    label=r'$sf_{ww}$'\n",
    ",hidden=hidden)\n",
    "ratio_sf_order_cals = mr.Slider( \n",
    "    value=parsec.wdict['ratio_sf_order_cals'],\n",
    "    min=1, \n",
    "    max=10, \n",
    "    step=1, \n",
    "    label=r'$sf_{o}$'\n",
    ",hidden=hidden)\n",
    "ratio_polyfitflag =  mr.Checkbox(value=parsec.wdict['ratio_polyfitflag'], label=\"Fit with Polynomial\",hidden=hidden)\n",
    "ratio_polyfitorder_slider = mr.Slider( \n",
    "    value=parsec.wdict['ratio_polyfitorder_slider'],\n",
    "    min=1, \n",
    "    max=9, \n",
    "    step=1, \n",
    "    label=r'Polynomial Fit Degree'\n",
    ",hidden=hidden)\n",
    "ratio_edgefreq_slider = mr.Slider( \n",
    "    value=parsec.wdict['ratio_edgefreq_slider'],\n",
    "    min=1311.25000003072, \n",
    "    max=1498.75, \n",
    "    step=30.4e-3, \n",
    "    label=r'Edge Frequency (MHz) Cutoff (for Fitting Piecewise Solution)'\n",
    ",hidden=hidden)\n",
    "ratio_breakfreq_slider = mr.Slider( \n",
    "    value=parsec.wdict['ratio_breakfreq_slider'],\n",
    "    min=1311.25000003072, \n",
    "    max=1498.75, \n",
    "    step=30.4e-3, \n",
    "    label=r'Break Frequency (MHz) Cutoff (for Stitching Piecewise Solution)'\n",
    ",hidden=hidden)"
   ]
  },
  {
   "cell_type": "code",
   "execution_count": 22,
   "id": "fa96031a",
   "metadata": {
    "slideshow": {
     "slide_type": "skip"
    }
   },
   "outputs": [
    {
     "data": {
      "application/mercury+json": "{\n    \"widget\": \"Slider\",\n    \"value\": 3,\n    \"min\": 1,\n    \"max\": 10,\n    \"step\": 1,\n    \"label\": \"Peak Height\",\n    \"model_id\": \"8c872b1850184bf68eea24380704a645\",\n    \"code_uid\": \"Slider.0.40.110.2-randbb6bc2ab\",\n    \"url_key\": \"\",\n    \"disabled\": false,\n    \"hidden\": true\n}",
      "text/plain": [
       "mercury.Slider"
      ]
     },
     "metadata": {},
     "output_type": "display_data"
    },
    {
     "data": {
      "application/mercury+json": "{\n    \"widget\": \"Slider\",\n    \"value\": 10,\n    \"min\": 1,\n    \"max\": 20,\n    \"step\": 1,\n    \"label\": \"Peak Width\",\n    \"model_id\": \"b6e1261b79054f75bb5c43664eb0d709\",\n    \"code_uid\": \"Slider.0.40.110.9-rand07f39a30\",\n    \"url_key\": \"\",\n    \"disabled\": false,\n    \"hidden\": true\n}",
      "text/plain": [
       "mercury.Slider"
      ]
     },
     "metadata": {},
     "output_type": "display_data"
    },
    {
     "data": {
      "application/mercury+json": "{\n    \"widget\": \"Checkbox\",\n    \"value\": false,\n    \"label\": \"Savgol Filter\",\n    \"model_id\": \"d242f622ed784198a10a4e634eadfa81\",\n    \"code_uid\": \"Checkbox.0.40.70.16-randda9bf7d8\",\n    \"url_key\": \"\",\n    \"disabled\": false,\n    \"hidden\": true\n}",
      "text/plain": [
       "mercury.Checkbox"
      ]
     },
     "metadata": {},
     "output_type": "display_data"
    },
    {
     "data": {
      "application/mercury+json": "{\n    \"widget\": \"Slider\",\n    \"value\": 255,\n    \"min\": 3,\n    \"max\": 510,\n    \"step\": 2,\n    \"label\": \"$sf_{ww}$\",\n    \"model_id\": \"8487846d5f0546e0956c221ab2bdfca6\",\n    \"code_uid\": \"Slider.0.40.110.17-randb4dc6d6c\",\n    \"url_key\": \"\",\n    \"disabled\": false,\n    \"hidden\": true\n}",
      "text/plain": [
       "mercury.Slider"
      ]
     },
     "metadata": {},
     "output_type": "display_data"
    },
    {
     "data": {
      "application/mercury+json": "{\n    \"widget\": \"Slider\",\n    \"value\": 5,\n    \"min\": 1,\n    \"max\": 10,\n    \"step\": 1,\n    \"label\": \"$sf_{o}$\",\n    \"model_id\": \"8baf93f43ad444e3a2cf96c1478b9e07\",\n    \"code_uid\": \"Slider.0.40.110.24-rand7f539eab\",\n    \"url_key\": \"\",\n    \"disabled\": false,\n    \"hidden\": true\n}",
      "text/plain": [
       "mercury.Slider"
      ]
     },
     "metadata": {},
     "output_type": "display_data"
    },
    {
     "data": {
      "application/mercury+json": "{\n    \"widget\": \"Checkbox\",\n    \"value\": false,\n    \"label\": \"Fit with Polynomial\",\n    \"model_id\": \"28ef10ce5c874f14baa4947b075e5f96\",\n    \"code_uid\": \"Checkbox.0.40.70.31-randcecfcd05\",\n    \"url_key\": \"\",\n    \"disabled\": false,\n    \"hidden\": true\n}",
      "text/plain": [
       "mercury.Checkbox"
      ]
     },
     "metadata": {},
     "output_type": "display_data"
    },
    {
     "data": {
      "application/mercury+json": "{\n    \"widget\": \"Slider\",\n    \"value\": 5,\n    \"min\": 1,\n    \"max\": 9,\n    \"step\": 1,\n    \"label\": \"Polynomial Fit Degree\",\n    \"model_id\": \"600593c7d3cb4140bc9279c15f825e5f\",\n    \"code_uid\": \"Slider.0.40.110.32-rand9542ebb9\",\n    \"url_key\": \"\",\n    \"disabled\": false,\n    \"hidden\": true\n}",
      "text/plain": [
       "mercury.Slider"
      ]
     },
     "metadata": {},
     "output_type": "display_data"
    },
    {
     "data": {
      "application/mercury+json": "{\n    \"widget\": \"Button\",\n    \"label\": \"Save Cal Solution\",\n    \"style\": \"primary\",\n    \"value\": false,\n    \"model_id\": \"712e623a596c4c6f8176c94abcdb9b89\",\n    \"code_uid\": \"Button.0.40.58.40-rand1ff19e7b\",\n    \"disabled\": false,\n    \"hidden\": true\n}",
      "text/plain": [
       "mercury.Button"
      ]
     },
     "metadata": {},
     "output_type": "display_data"
    }
   ],
   "source": [
    "\n",
    "hidden = toggle_menu.value != r'(2) Calibration -- Make Cal Solutions ($\\angle g_{xx} - \\angle g_{yy}$)'\n",
    "phase_peakheight_slider = mr.Slider( \n",
    "    value=parsec.wdict['phase_peakheight_slider'],\n",
    "    min=1, \n",
    "    max=10, \n",
    "    step=1, \n",
    "    label=r'Peak Height'\n",
    ",hidden=hidden)\n",
    "phase_peakwidth_slider = mr.Slider( \n",
    "    value=parsec.wdict['phase_peakwidth_slider'],\n",
    "    min=1, \n",
    "    max=20, \n",
    "    step=1, \n",
    "    label=r'Peak Width'\n",
    ",hidden=hidden)\n",
    "phase_sfflag =  mr.Checkbox(value=parsec.wdict['phase_sfflag'], label=\"Savgol Filter\",hidden=hidden)\n",
    "phase_sf_window_weight_cals = mr.Slider( \n",
    "    value=parsec.wdict['phase_sf_window_weight_cals'],\n",
    "    min=3, \n",
    "    max=510, \n",
    "    step=2, \n",
    "    label=r'$sf_{ww}$'\n",
    ",hidden=hidden)\n",
    "phase_sf_order_cals = mr.Slider( \n",
    "    value=parsec.wdict['phase_sf_order_cals'],\n",
    "    min=1, \n",
    "    max=10, \n",
    "    step=1, \n",
    "    label=r'$sf_{o}$'\n",
    ",hidden=hidden)\n",
    "phase_polyfitflag =  mr.Checkbox(value=parsec.wdict['phase_polyfitflag'], label=\"Fit with Polynomial\",hidden=hidden)\n",
    "phase_polyfitorder_slider = mr.Slider( \n",
    "    value=parsec.wdict['phase_polyfitorder_slider'],\n",
    "    min=1, \n",
    "    max=9, \n",
    "    step=1, \n",
    "    label=r'Polynomial Fit Degree'\n",
    ",hidden=hidden)\n",
    "\n",
    "savecalsolnbutton = mr.Button(label='Save Cal Solution',\n",
    "                         style='primary',hidden=hidden)\n"
   ]
  },
  {
   "cell_type": "code",
   "execution_count": 23,
   "id": "b14c606d",
   "metadata": {
    "slideshow": {
     "slide_type": "skip"
    }
   },
   "outputs": [
    {
     "data": {
      "application/mercury+json": "{\n    \"widget\": \"Select\",\n    \"value\": \"\",\n    \"choices\": [\n        \"\",\n        \"POLCAL_PARAMETERS_24-01-30.csv\",\n        \"POLCAL_PARAMETERS_22-12-18.csv\",\n        \"POLCAL_PARAMETERS_22-12-11.csv\",\n        \"POLCAL_PARAMETERS_22-12-12.csv\",\n        \"POLCAL_PARAMETERS_23-08-21.csv\",\n        \"POLCAL_PARAMETERS_23-10-26.csv\"\n    ],\n    \"label\": \"Polarization Calibration File ('YY-MM-DD'):\",\n    \"model_id\": \"95359504f86c41b3be07c46785ea83f6\",\n    \"code_uid\": \"Select.0.40.104.5-randad8449ef\",\n    \"url_key\": \"\",\n    \"disabled\": false,\n    \"hidden\": true\n}",
      "text/plain": [
       "mercury.Select"
      ]
     },
     "metadata": {},
     "output_type": "display_data"
    },
    {
     "data": {
      "application/mercury+json": "{\n    \"widget\": \"Button\",\n    \"label\": \"Calibrate\",\n    \"style\": \"primary\",\n    \"value\": false,\n    \"model_id\": \"0e67c36bf7c9426083cc4c1730ee7ea9\",\n    \"code_uid\": \"Button.0.40.58.10-randa8492677\",\n    \"disabled\": false,\n    \"hidden\": true\n}",
      "text/plain": [
       "mercury.Button"
      ]
     },
     "metadata": {},
     "output_type": "display_data"
    },
    {
     "data": {
      "application/mercury+json": "{\n    \"widget\": \"Checkbox\",\n    \"value\": false,\n    \"label\": \"Show Pol Cal Log\",\n    \"model_id\": \"f0d3390f62ea418dbc5c1d5864e18d6c\",\n    \"code_uid\": \"Checkbox.0.40.70.14-rand47f15b71\",\n    \"url_key\": \"\",\n    \"disabled\": false,\n    \"hidden\": true\n}",
      "text/plain": [
       "mercury.Checkbox"
      ]
     },
     "metadata": {},
     "output_type": "display_data"
    }
   ],
   "source": [
    "hidden = toggle_menu.value != r'(2) Calibration -- Calibrate'\n",
    "#if pol cal solution already exists\n",
    "#polcalfiles = glob.glob(parsec.default_path + 'POLCAL_PARAMETERS_*csv')\n",
    "#polcalfiles = [polcalfiles[i][polcalfiles[i].index('POLCAL'):] for i in range(len(polcalfiles))]\n",
    "polcaldate_menu = mr.Select(label=\"Polarization Calibration File ('YY-MM-DD'):\", \n",
    "                            value=parsec.wdict['polcaldate_menu'], \n",
    "                            choices=[\"\"] + parsec.polcalfiles\n",
    "                           ,hidden=hidden)\n",
    "\n",
    "polcalbutton = mr.Button(label='Calibrate',\n",
    "                         style='primary',hidden=hidden)\n",
    "\n",
    "\n",
    "showlogcal = mr.Checkbox(value=parsec.wdict['showlogcal'], label=\"Show Pol Cal Log\",hidden=hidden)\n"
   ]
  },
  {
   "cell_type": "code",
   "execution_count": 24,
   "id": "8f475b18",
   "metadata": {
    "slideshow": {
     "slide_type": "slide"
    }
   },
   "outputs": [
    {
     "data": {
      "text/markdown": [
       " (2) Calibration"
      ],
      "text/plain": [
       "<IPython.core.display.Markdown object>"
      ]
     },
     "metadata": {},
     "output_type": "display_data"
    }
   ],
   "source": [
    "mr.Markdown(\" (2) Calibration\")\n",
    "\n"
   ]
  },
  {
   "cell_type": "code",
   "execution_count": 25,
   "id": "6bc25d16",
   "metadata": {},
   "outputs": [],
   "source": [
    "parsec.state_dict[\"current_state\"] = parsec.state_map['polcal']"
   ]
  },
  {
   "cell_type": "code",
   "execution_count": 53,
   "id": "f5b79d59",
   "metadata": {},
   "outputs": [
    {
     "name": "stdout",
     "output_type": "stream",
     "text": [
      "Help on function simplefilter in module warnings:\n",
      "\n",
      "simplefilter(action, category=<class 'Warning'>, lineno=0, append=False)\n",
      "    Insert a simple entry into the list of warnings filters (at the front).\n",
      "    \n",
      "    A simple filter matches all modules and messages.\n",
      "    'action' -- one of \"error\", \"ignore\", \"always\", \"default\", \"module\",\n",
      "                or \"once\"\n",
      "    'category' -- a class that the warning must be a subclass of\n",
      "    'lineno' -- an integer line number, 0 matches all warnings\n",
      "    'append' -- if true, append to the list of filters\n",
      "\n"
     ]
    }
   ],
   "source": [
    "import warnings\n",
    "help(warnings.simplefilter\n",
    "    )"
   ]
  },
  {
   "cell_type": "code",
   "execution_count": 60,
   "id": "40da066f",
   "metadata": {
    "slideshow": {
     "slide_type": "-"
    }
   },
   "outputs": [
    {
     "name": "stderr",
     "output_type": "stream",
     "text": [
      "WARNING:matplotlib.legend:No artists with labels found to put in legend.  Note that artists whose label start with an underscore are ignored when legend() is called with no argument.\n",
      "WARNING:matplotlib.legend:No artists with labels found to put in legend.  Note that artists whose label start with an underscore are ignored when legend() is called with no argument.\n"
     ]
    },
    {
     "data": {
      "image/png": "[encoded data removed]",
      "text/plain": [
       "<Figure size 1440x648 with 2 Axes>"
      ]
     },
     "metadata": {
      "needs_background": "light"
     },
     "output_type": "display_data"
    }
   ],
   "source": [
    "#%%capture --no-stderr\n",
    "#%%capture --no-stdout\n",
    "#create pol cal screen\n",
    "warnings.resetwarnings()\n",
    "if parsec.state_dict[\"current_state\"] >= parsec.state_map['polcal']:\n",
    "    with warnings.catch_warnings(record=True):\n",
    "        warnings.simplefilter('always')\n",
    "        beam_dict_3C48,beam_dict_3C286 = parsec.polcal_screen(polcaldate_menu,polcaldate_create_menu,polcaldate_bf_menu,polcaldate_findbeams_menu,obsid3C48_menu,obsid3C286_menu,\n",
    "                                                     polcalbutton,polcopybutton,bfcal_button,findbeams_button,filcalbutton,ParA_display,\n",
    "                                                     edgefreq_slider,breakfreq_slider,sf_window_weight_cals,sf_order_cals,peakheight_slider,peakwidth_slider,polyfitorder_slider,\n",
    "                                                     ratio_edgefreq_slider,ratio_breakfreq_slider,ratio_sf_window_weight_cals,ratio_sf_order_cals,ratio_peakheight_slider,ratio_peakwidth_slider,ratio_polyfitorder_slider,\n",
    "                                                     phase_sf_window_weight_cals,phase_sf_order_cals,phase_peakheight_slider,phase_peakwidth_slider,phase_polyfitorder_slider,savecalsolnbutton,\n",
    "                                                     sfflag,polyfitflag,ratio_sfflag,ratio_polyfitflag,phase_sfflag,phase_polyfitflag)\n",
    "    \n",
    "    "
   ]
  },
  {
   "cell_type": "code",
   "execution_count": 48,
   "id": "3048b834",
   "metadata": {
    "slideshow": {
     "slide_type": "subslide"
    }
   },
   "outputs": [],
   "source": [
    "#%%capture --no-stderr\n",
    "#%%capture --no-stdout\n",
    "#create pol cal screen\n",
    "if parsec.state_dict[\"current_state\"] >= parsec.state_map['polcal']:\n",
    "    parsec.polcal_screen2(polcaldate_menu,polcaldate_create_menu,polcaldate_bf_menu,polcaldate_findbeams_menu,obsid3C48_menu,obsid3C286_menu,\n",
    "                                                     polcalbutton,polcopybutton,bfcal_button,findbeams_button,filcalbutton,ParA_display,\n",
    "                                                     edgefreq_slider,breakfreq_slider,sf_window_weight_cals,sf_order_cals,peakheight_slider,peakwidth_slider,polyfitorder_slider,\n",
    "                                                     ratio_edgefreq_slider,ratio_breakfreq_slider,ratio_sf_window_weight_cals,ratio_sf_order_cals,ratio_peakheight_slider,ratio_peakwidth_slider,ratio_polyfitorder_slider,\n",
    "                                                     phase_sf_window_weight_cals,phase_sf_order_cals,phase_peakheight_slider,phase_peakwidth_slider,phase_polyfitorder_slider,savecalsolnbutton,\n",
    "                                                     sfflag,polyfitflag,ratio_sfflag,ratio_polyfitflag,phase_sfflag,phase_polyfitflag,beam_dict_3C48,beam_dict_3C286)\n",
    "    "
   ]
  },
  {
   "cell_type": "code",
   "execution_count": 28,
   "id": "c412f331",
   "metadata": {
    "slideshow": {
     "slide_type": "subslide"
    }
   },
   "outputs": [],
   "source": [
    "#table of new pol cal data\n",
    "if polcaldate_create_menu.value != \"\":\n",
    "    mr.Table(data=parsec.df_polcal, width=\"200px\")\n"
   ]
  },
  {
   "cell_type": "code",
   "execution_count": 29,
   "id": "f214a9f1",
   "metadata": {
    "slideshow": {
     "slide_type": "subslide"
    }
   },
   "outputs": [],
   "source": [
    "\n",
    "#display voltages and beamformer weight files for current selection\n",
    "if polcaldate_bf_menu.value != \"\":\n",
    "    #display filterbank files if they exist\n",
    "    if 'polcal_avail_3C48' in parsec.polcal_dict.keys():\n",
    "        if len(parsec.polcal_dict['polcal_avail_3C48']) == 0:\n",
    "            mr.Markdown(text=r'###### **3C48 Voltages:** None Found')\n",
    "        else:\n",
    "            mr.Markdown(text=r'###### **3C48 Voltages:** ')\n",
    "            for f in parsec.state_dict['polcal_avail_3C48']:\n",
    "                mr.Markdown(r'- ######' + f)\n",
    "    if 'polcal_avail_3C286' in parsec.polcal_dict.keys():\n",
    "        if len(parsec.polcal_dict['polcal_avail_3C286']) == 0:\n",
    "            mr.Markdown(text=r'###### **3C286 Voltages:** None Found')\n",
    "        else:\n",
    "            mr.Markdown(text=r'###### **3C286 Voltages:** ')\n",
    "            for f in parsec.polcal_dict['polcal_avail_3C286']:\n",
    "                mr.Markdown(r'- ######' + f)\n"
   ]
  },
  {
   "cell_type": "code",
   "execution_count": 30,
   "id": "31ce2e94",
   "metadata": {
    "slideshow": {
     "slide_type": "subslide"
    }
   },
   "outputs": [
    {
     "data": {
      "text/markdown": [
       "##### **3C48 Beamformer Weights:** None Found"
      ],
      "text/plain": [
       "<IPython.core.display.Markdown object>"
      ]
     },
     "metadata": {},
     "output_type": "display_data"
    },
    {
     "data": {
      "text/markdown": [
       "##### **3C286 Beamformer Weights:** None Found"
      ],
      "text/plain": [
       "<IPython.core.display.Markdown object>"
      ]
     },
     "metadata": {},
     "output_type": "display_data"
    }
   ],
   "source": [
    "\n",
    "#display beamformer weights date if exists\n",
    "if 'polcal_avail_bf_3C48' in parsec.polcal_dict.keys():\n",
    "    if len(parsec.polcal_dict['polcal_avail_bf_3C48']) == 0:\n",
    "        mr.Markdown(text=r'##### **3C48 Beamformer Weights:** None Found')\n",
    "    else:\n",
    "        mr.Markdown(text=r'##### **3C48 Beamformer Weights:** ')\n",
    "        for f in parsec.state_dict['polcal_avail_bf_3C48']:\n",
    "            mr.Markdown(r'- #####' + f)\n",
    "if 'polcal_avail_bf_3C286' in parsec.polcal_dict.keys():\n",
    "    if len(parsec.polcal_dict['polcal_avail_bf_3C286']) == 0:\n",
    "        mr.Markdown(text=r'##### **3C286 Beamformer Weights:** None Found')\n",
    "    else:\n",
    "        mr.Markdown(text=r'##### **3C286 Beamformer Weights:** ')\n",
    "        for f in parsec.polcal_dict['polcal_avail_bf_3C286']:\n",
    "            mr.Markdown(r'- #####' + f)\n"
   ]
  },
  {
   "cell_type": "code",
   "execution_count": 31,
   "id": "a64a7014",
   "metadata": {
    "slideshow": {
     "slide_type": "subslide"
    }
   },
   "outputs": [
    {
     "data": {
      "text/html": [
       "<table id=\"itables_31fc2373_e7e5_41a3_882d_77ebf33e0f29\" class=\"display cell-border\" data-quarto-disable-processing=\"true\" style=\"table-layout:auto;width:auto;margin:auto;caption-side:bottom\">\n",
       "<thead>\n",
       "    <tr style=\"text-align: right;\">\n",
       "      <th></th>\n",
       "      <th>beam</th>\n",
       "      <th>mjd</th>\n",
       "      <th>beamformer weights</th>\n",
       "    </tr>\n",
       "  </thead><tbody><tr><td>Loading... (need <a href=https://mwouts.github.io/itables/troubleshooting.html>help</a>?)</td></tr></tbody>\n",
       "\n",
       "</table>\n",
       "<link href=\"https://www.unpkg.com/dt_for_itables@2.0.1/dt_bundle.css\" rel=\"stylesheet\">\n",
       "<script type=\"module\">\n",
       "    import {DataTable, jQuery as $} from 'https://www.unpkg.com/dt_for_itables@2.0.1/dt_bundle.js';\n",
       "\n",
       "    document.querySelectorAll(\"#itables_31fc2373_e7e5_41a3_882d_77ebf33e0f29:not(.dataTable)\").forEach(table => {\n",
       "        // Define the table data\n",
       "        const data = [];\n",
       "\n",
       "        // Define the dt_args\n",
       "        let dt_args = {\"columnDefs\": [{\"className\": \"dt-center\", \"width\": \"200px\", \"targets\": \"_all\"}], \"layout\": {\"topStart\": null, \"topEnd\": null, \"bottomStart\": null, \"bottomEnd\": null}, \"order\": [], \"warn_on_dom\": true};\n",
       "        dt_args[\"data\"] = data;\n",
       "\n",
       "        \n",
       "        new DataTable(table, dt_args);\n",
       "    });\n",
       "</script>\n"
      ],
      "text/plain": [
       "<IPython.core.display.HTML object>"
      ]
     },
     "metadata": {},
     "output_type": "display_data"
    }
   ],
   "source": [
    "\n",
    "#display beam numbers for each cal pass\n",
    "mr.Table(data=parsec.df_beams,width=\"200px\") \n"
   ]
  },
  {
   "cell_type": "code",
   "execution_count": 32,
   "id": "78983d47",
   "metadata": {
    "slideshow": {
     "slide_type": "subslide"
    }
   },
   "outputs": [
    {
     "data": {
      "text/markdown": [
       "##### ** Filterbanks:** None Found"
      ],
      "text/plain": [
       "<IPython.core.display.Markdown object>"
      ]
     },
     "metadata": {},
     "output_type": "display_data"
    }
   ],
   "source": [
    "\n",
    "#display the filterbank and beamformer weight files for selected observation ID\n",
    "\n",
    "#3C48 \n",
    "if obsid3C48_menu.value != '':\n",
    "    obs_files,obs_ids = polcal.get_calfil_files('3C48',polcaldate_findbeams_menu.value,obsid3C48_menu.value)\n",
    "    mr.Markdown(text=r'##### **' + obsid3C48_menu.value + ' Filterbanks:**')\n",
    "    for f in obs_files:\n",
    "        mr.Markdown(r'- #####' + f)\n",
    "else:\n",
    "    mr.Markdown(text = r'##### **' + obsid3C48_menu.value + ' Filterbanks:** None Found')\n"
   ]
  },
  {
   "cell_type": "code",
   "execution_count": 33,
   "id": "4d0b8b1c",
   "metadata": {
    "slideshow": {
     "slide_type": "subslide"
    }
   },
   "outputs": [
    {
     "data": {
      "text/markdown": [
       "##### ** Beamformer Weights:** None Found"
      ],
      "text/plain": [
       "<IPython.core.display.Markdown object>"
      ]
     },
     "metadata": {},
     "output_type": "display_data"
    }
   ],
   "source": [
    "\n",
    "if obsid3C48_menu.value in parsec.df_beams.index.tolist():#beam_dict_3C48.keys():\n",
    "    #print(beam_dict_3C48.keys())\n",
    "    mr.Markdown(text=r'##### **' + obsid3C48_menu.value + ' Beamformer Weights:**')\n",
    "    #print(polcal.bfweights_output_path + \"*\" + polcal.VLANAME_DICT['3C48'] + \"*\" + parsec.df_beams['beamformer weights'].loc[obsid3C48_menu.value][:19] + \"*\")\n",
    "    bf_files = glob.glob(polcal.bfweights_output_path + \"*\" + polcal.VLANAME_DICT['3C48'] + \"*\" + parsec.df_beams['beamformer weights'].loc[obsid3C48_menu.value][:19] + \"*\")\n",
    "    for f in bf_files:\n",
    "        mr.Markdown(text = r'- #####' + f)\n",
    "else:\n",
    "    mr.Markdown(text = r'##### **' + obsid3C48_menu.value + ' Beamformer Weights:** None Found')\n"
   ]
  },
  {
   "cell_type": "code",
   "execution_count": 34,
   "id": "508ddbfe",
   "metadata": {
    "slideshow": {
     "slide_type": "subslide"
    }
   },
   "outputs": [
    {
     "data": {
      "text/markdown": [
       "##### ** Filterbanks:** None Found"
      ],
      "text/plain": [
       "<IPython.core.display.Markdown object>"
      ]
     },
     "metadata": {},
     "output_type": "display_data"
    }
   ],
   "source": [
    "\n",
    "#3C286\n",
    "if obsid3C286_menu.value != '':\n",
    "    obs_files,obs_ids = polcal.get_calfil_files('3C286',polcaldate_findbeams_menu.value,obsid3C286_menu.value)\n",
    "    mr.Markdown(text=r'##### **' + obsid3C286_menu.value + ' Filterbanks:**')\n",
    "    for f in obs_files:\n",
    "        mr.Markdown(text = r'- #####' + f)\n",
    "else:\n",
    "    mr.Markdown(text = r'##### **' + obsid3C286_menu.value + ' Filterbanks:** None Found')\n"
   ]
  },
  {
   "cell_type": "code",
   "execution_count": 35,
   "id": "1769dbfc",
   "metadata": {
    "slideshow": {
     "slide_type": "subslide"
    }
   },
   "outputs": [
    {
     "data": {
      "text/markdown": [
       "##### ** Beamformer Weights:** None Found"
      ],
      "text/plain": [
       "<IPython.core.display.Markdown object>"
      ]
     },
     "metadata": {},
     "output_type": "display_data"
    }
   ],
   "source": [
    "\n",
    "if obsid3C286_menu.value in parsec.df_beams.index.tolist():\n",
    "    mr.Markdown(text=r'##### **' + obsid3C286_menu.value + ' Beamformer Weights:**')\n",
    "    bf_files = glob.glob(polcal.bfweights_output_path + \"*\" + polcal.VLANAME_DICT['3C286'] + \"*\" + parsec.df_beams['beamformer weights'].loc[obsid3C286_menu.value][:19] + \"*\")\n",
    "    #print(polcal.bfweights_output_path + \"*\" + polcal.VLANAME_DICT['3C286'] + \"*\" + parsec.df_beams['beamformer weights'].loc[obsid3C286_menu.value][:19] +  \"*\")\n",
    "    for f in bf_files:\n",
    "        mr.Markdown(text = r'- #####' + f)\n",
    "else:\n",
    "    mr.Markdown(text=r'##### **' + obsid3C286_menu.value + ' Beamformer Weights:** None Found')\n",
    "\n"
   ]
  },
  {
   "cell_type": "code",
   "execution_count": 36,
   "id": "34115cf9",
   "metadata": {
    "slideshow": {
     "slide_type": "subslide"
    }
   },
   "outputs": [
    {
     "data": {
      "text/html": [
       "\n",
       "<div style=\"text-align: center; width: 100%; border: 1px solid lightgray; margin-right: 0px; margin-top: 15px; padding-top: 40px; padding-bottom: 30px; background: white; border-radius:5px\">\n",
       "  <span style=\"font-size: 4em; color: black; font-family: monospace; \">nan</span>\n",
       "  \n",
       "  <span style=\"font-size: 2em; color: gray; display: block; padding-top: 20px; font-family: monospace; line-height: 1.3em;\">Parallactic Angle ($^{\\circ}$)</span>\n",
       "</div>\n",
       "  "
      ],
      "text/plain": [
       "<widgets.numberbox.NumberBox at 0x7f5acf8ec700>"
      ]
     },
     "execution_count": 36,
     "metadata": {},
     "output_type": "execute_result"
    }
   ],
   "source": [
    "\n",
    "#if not (parsec.state_dict[\"current_state\"] >= parsec.state_map['polcal']): raise parsec.StopExecution\n",
    "ParA_display"
   ]
  },
  {
   "cell_type": "code",
   "execution_count": 37,
   "id": "f9afd853",
   "metadata": {
    "slideshow": {
     "slide_type": "subslide"
    }
   },
   "outputs": [],
   "source": [
    "# display the output of the logfile\n",
    "if showlogcal.value:# or refreshlogbutton.clicked:\n",
    "    flog = open(polcal.logfile,\"r\")\n",
    "    logtext = flog.read()\n",
    "    flog.close()\n",
    "    mr.Markdown(text=(logtext.replace('\\n','\\n\\n')))\n"
   ]
  },
  {
   "cell_type": "markdown",
   "id": "8743dc03",
   "metadata": {
    "slideshow": {
     "slide_type": "skip"
    }
   },
   "source": [
    "# (3) Filter Weights"
   ]
  },
  {
   "cell_type": "code",
   "execution_count": 38,
   "id": "abffa989",
   "metadata": {
    "slideshow": {
     "slide_type": "slide"
    }
   },
   "outputs": [
    {
     "data": {
      "application/mercury+json": "{\n    \"widget\": \"Numeric\",\n    \"value\": 1.0,\n    \"min\": 1.0,\n    \"max\": 5.0,\n    \"step\": 1.0,\n    \"label\": \"Number of Components\",\n    \"model_id\": \"cc9eb7f914c44976a036cd0239b1bff5\",\n    \"code_uid\": \"Numeric.0.40.101.4-rand9233de07\",\n    \"url_key\": \"\",\n    \"disabled\": false,\n    \"hidden\": true\n}",
      "text/plain": [
       "mercury.Numeric"
      ]
     },
     "metadata": {},
     "output_type": "display_data"
    },
    {
     "data": {
      "application/mercury+json": "{\n    \"widget\": \"Range\",\n    \"value\": [\n        0.0,\n        1.0\n    ],\n    \"min\": 0.0,\n    \"max\": 50.0,\n    \"step\": 0.0327,\n    \"label\": \"Lower and Upper Limit of Component (ms from window start)\",\n    \"model_id\": \"1108015d84ac4b1dab92f1c29f1f4815\",\n    \"code_uid\": \"Range.0.40.90.9-rand33c728e4\",\n    \"url_key\": \"\",\n    \"disabled\": false,\n    \"hidden\": true\n}",
      "text/plain": [
       "mercury.Range"
      ]
     },
     "metadata": {},
     "output_type": "display_data"
    },
    {
     "data": {
      "application/mercury+json": "{\n    \"widget\": \"Slider\",\n    \"value\": 1,\n    \"min\": 1,\n    \"max\": 128,\n    \"step\": 1,\n    \"label\": \"$n_t$\",\n    \"model_id\": \"6e5095a04a074b42a9031090d70b329c\",\n    \"code_uid\": \"Slider.0.40.110.15-rande020d940\",\n    \"url_key\": \"\",\n    \"disabled\": false,\n    \"hidden\": true\n}",
      "text/plain": [
       "mercury.Slider"
      ]
     },
     "metadata": {},
     "output_type": "display_data"
    },
    {
     "data": {
      "application/mercury+json": "{\n    \"widget\": \"Slider\",\n    \"value\": 5,\n    \"min\": 0,\n    \"max\": 10,\n    \"step\": 1,\n    \"label\": \"${\\\\rm log_{2}}(n_f)$\",\n    \"model_id\": \"6e9ca04da58d4ce58df74783b7da821e\",\n    \"code_uid\": \"Slider.0.40.110.22-rand77a8e6d0\",\n    \"url_key\": \"\",\n    \"disabled\": false,\n    \"hidden\": true\n}",
      "text/plain": [
       "mercury.Slider"
      ]
     },
     "metadata": {},
     "output_type": "display_data"
    },
    {
     "data": {
      "application/mercury+json": "{\n    \"widget\": \"Slider\",\n    \"value\": 1,\n    \"min\": 1,\n    \"max\": 32,\n    \"step\": 1,\n    \"label\": \"$n_{tw}$\",\n    \"model_id\": \"5cc1ab9467d947e9ab8e1db9120a98a6\",\n    \"code_uid\": \"Slider.0.40.110.29-rand9d33f16a\",\n    \"url_key\": \"\",\n    \"disabled\": false,\n    \"hidden\": true\n}",
      "text/plain": [
       "mercury.Slider"
      ]
     },
     "metadata": {},
     "output_type": "display_data"
    },
    {
     "data": {
      "application/mercury+json": "{\n    \"widget\": \"Slider\",\n    \"value\": 3,\n    \"min\": 3,\n    \"max\": 33,\n    \"step\": 2,\n    \"label\": \"$sf_{ww}$\",\n    \"model_id\": \"9f7a08f808684f63ac1fd33ba3dd7349\",\n    \"code_uid\": \"Slider.0.40.110.36-rand23a5b5ca\",\n    \"url_key\": \"\",\n    \"disabled\": false,\n    \"hidden\": true\n}",
      "text/plain": [
       "mercury.Slider"
      ]
     },
     "metadata": {},
     "output_type": "display_data"
    },
    {
     "data": {
      "application/mercury+json": "{\n    \"widget\": \"Slider\",\n    \"value\": 0,\n    \"min\": 0,\n    \"max\": 6,\n    \"step\": 1,\n    \"label\": \"${\\\\rm log_{2}}({\\\\rm ibox})$\",\n    \"model_id\": \"9dbea3f4a2064883bd38ec4df446ff7b\",\n    \"code_uid\": \"Slider.0.40.110.43-randcb041422\",\n    \"url_key\": \"\",\n    \"disabled\": false,\n    \"hidden\": true\n}",
      "text/plain": [
       "mercury.Slider"
      ]
     },
     "metadata": {},
     "output_type": "display_data"
    },
    {
     "data": {
      "application/mercury+json": "{\n    \"widget\": \"Slider\",\n    \"value\": 5,\n    \"min\": 5,\n    \"max\": 9,\n    \"step\": 1,\n    \"label\": \"base ${\\\\rm log_{2}}({\\\\rm window})$\",\n    \"model_id\": \"ba43127bea1143ed9441e93319195566\",\n    \"code_uid\": \"Slider.0.40.110.50-rand949de82e\",\n    \"url_key\": \"\",\n    \"disabled\": false,\n    \"hidden\": true\n}",
      "text/plain": [
       "mercury.Slider"
      ]
     },
     "metadata": {},
     "output_type": "display_data"
    },
    {
     "data": {
      "application/mercury+json": "{\n    \"widget\": \"Slider\",\n    \"value\": 1,\n    \"min\": 1,\n    \"max\": 128,\n    \"step\": 1,\n    \"label\": \"${\\\\rm buff}_{L}$\",\n    \"model_id\": \"6e14911866244d66a7bd6a5868bbbc18\",\n    \"code_uid\": \"Slider.0.40.110.58-randd51cb27c\",\n    \"url_key\": \"\",\n    \"disabled\": false,\n    \"hidden\": true\n}",
      "text/plain": [
       "mercury.Slider"
      ]
     },
     "metadata": {},
     "output_type": "display_data"
    },
    {
     "data": {
      "application/mercury+json": "{\n    \"widget\": \"Slider\",\n    \"value\": 1,\n    \"min\": 1,\n    \"max\": 128,\n    \"step\": 1,\n    \"label\": \"${\\\\rm buff}_{R}$\",\n    \"model_id\": \"99219d08d07f46abad430aa4ad80cd39\",\n    \"code_uid\": \"Slider.0.40.110.65-rand31b7f25e\",\n    \"url_key\": \"\",\n    \"disabled\": false,\n    \"hidden\": true\n}",
      "text/plain": [
       "mercury.Slider"
      ]
     },
     "metadata": {},
     "output_type": "display_data"
    },
    {
     "data": {
      "application/mercury+json": "{\n    \"widget\": \"Button\",\n    \"label\": \"Next Component\",\n    \"style\": \"primary\",\n    \"value\": false,\n    \"model_id\": \"11c2f1b469cf499cacdd8e683bc0d496\",\n    \"code_uid\": \"Button.0.40.58.73-rand092cade9\",\n    \"disabled\": false,\n    \"hidden\": true\n}",
      "text/plain": [
       "mercury.Button"
      ]
     },
     "metadata": {},
     "output_type": "display_data"
    },
    {
     "data": {
      "application/mercury+json": "{\n    \"widget\": \"Button\",\n    \"label\": \"Done\",\n    \"style\": \"primary\",\n    \"value\": false,\n    \"model_id\": \"e406eaac8b1c4d5ba5ca07418738c9bb\",\n    \"code_uid\": \"Button.0.40.58.76-rand9cbac467\",\n    \"disabled\": false,\n    \"hidden\": true\n}",
      "text/plain": [
       "mercury.Button"
      ]
     },
     "metadata": {},
     "output_type": "display_data"
    }
   ],
   "source": [
    "\n",
    "#widgets for filter weights dashboard\n",
    "hidden = toggle_menu.value != '(3) Filter Weights'\n",
    "\n",
    "ncomps_num = mr.Numeric(value=parsec.wdict['ncomps_num'], \n",
    "                     step=1,\n",
    "                     min=1,max=5,\n",
    "                     label='Number of Components'\n",
    "                    ,hidden=hidden)\n",
    "comprange_slider = mr.Range(value=parsec.wdict['comprange_slider'],  #ms\n",
    "                        min=0, \n",
    "                        max=50, \n",
    "                        label=\"Lower and Upper Limit of Component (ms from window start)\", \n",
    "                        step=32.7e-3\n",
    "                ,hidden=hidden)\n",
    "n_t_slider_filt = mr.Slider( #time downsampling factor\n",
    "    value=parsec.wdict['n_t_slider_filt'],\n",
    "    min=1, \n",
    "    max=128, \n",
    "    step=1, \n",
    "    label='$n_t$'\n",
    ",hidden=hidden)\n",
    "logn_f_slider_filt = mr.Slider( #freq downsampling factor\n",
    "    value=parsec.wdict['logn_f_slider_filt'],\n",
    "    min=0, \n",
    "    max=10, \n",
    "    step=1, \n",
    "    label='${\\\\rm log_{2}}(n_f)$'\n",
    ",hidden=hidden)\n",
    "avger_w_slider = mr.Slider(\n",
    "    value=parsec.wdict['avger_w_slider'],\n",
    "    min=1, \n",
    "    max=32, \n",
    "    step=1, \n",
    "    label=r'$n_{tw}$'\n",
    ",hidden=hidden)\n",
    "sf_window_weights_slider = mr.Slider(\n",
    "    value=parsec.wdict['sf_window_weights_slider'],\n",
    "    min=3, \n",
    "    max=33, \n",
    "    step=2, \n",
    "    label=r'$sf_{ww}$'\n",
    ",hidden=hidden)\n",
    "logibox_slider = mr.Slider(\n",
    "    value=parsec.wdict['logibox_slider'],\n",
    "    min=0, \n",
    "    max=6, \n",
    "    step=1, \n",
    "    label=r'${\\rm log_{2}}({\\rm ibox})$'\n",
    ",hidden=hidden)\n",
    "logwindow_slider = mr.Slider(\n",
    "    value=parsec.wdict['logwindow_slider'],\n",
    "    min=5, \n",
    "    max=9, \n",
    "    step=1, \n",
    "    label=r'base ${\\rm log_{2}}({\\rm window})$'\n",
    ",hidden=hidden)\n",
    "\n",
    "buff_L_slider = mr.Slider(\n",
    "    value=parsec.wdict['buff_L_slider'],\n",
    "    min=1, \n",
    "    max=128, \n",
    "    step=1, \n",
    "    label=r'${\\rm buff}_{L}$'\n",
    ",hidden=hidden)\n",
    "buff_R_slider = mr.Slider(\n",
    "    value=parsec.wdict['buff_R_slider'],\n",
    "    min=1, \n",
    "    max=128, \n",
    "    step=1, \n",
    "    label=r'${\\rm buff}_{R}$'\n",
    ",hidden=hidden)\n",
    "\n",
    "nextcompbutton = mr.Button(label='Next Component',\n",
    "                         style='primary',hidden=hidden)\n",
    "\n",
    "donecompbutton = mr.Button(label='Done',\n",
    "                         style='primary',hidden=hidden)"
   ]
  },
  {
   "cell_type": "code",
   "execution_count": 39,
   "id": "22b095a6",
   "metadata": {
    "slideshow": {
     "slide_type": "-"
    }
   },
   "outputs": [
    {
     "data": {
      "text/plain": [
       "'#widget title\\nhidden = toggle_menu.value != \\'(3) Filter Weights\\'\\n\\nif not hidden:\\n    mr.Note(text=\"# Filter Weight Options\")'"
      ]
     },
     "execution_count": 39,
     "metadata": {},
     "output_type": "execute_result"
    }
   ],
   "source": [
    "\"\"\"#widget title\n",
    "hidden = toggle_menu.value != '(3) Filter Weights'\n",
    "\n",
    "if not hidden:\n",
    "    mr.Note(text=\"# Filter Weight Options\")\"\"\""
   ]
  },
  {
   "cell_type": "code",
   "execution_count": 40,
   "id": "5679a624",
   "metadata": {
    "slideshow": {
     "slide_type": "slide"
    }
   },
   "outputs": [
    {
     "data": {
      "text/markdown": [
       " (3) Filter Weights"
      ],
      "text/plain": [
       "<IPython.core.display.Markdown object>"
      ]
     },
     "metadata": {},
     "output_type": "display_data"
    }
   ],
   "source": [
    "\n",
    "mr.Markdown(\" (3) Filter Weights\")"
   ]
  },
  {
   "cell_type": "code",
   "execution_count": 41,
   "id": "ca3e26d8",
   "metadata": {
    "slideshow": {
     "slide_type": "-"
    }
   },
   "outputs": [],
   "source": [
    "\n",
    "\n",
    "\n",
    "#create pol cal screen\n",
    "if (parsec.state_dict[\"current_state\"] >= parsec.state_map['filter']):\n",
    "\n",
    "\n",
    "    parsec.filter_screen(n_t_slider_filt,logn_f_slider_filt,logwindow_slider,logibox_slider,\n",
    "                     buff_L_slider,buff_R_slider,ncomps_num,comprange_slider,nextcompbutton,donecompbutton,\n",
    "                    avger_w_slider,sf_window_weights_slider)"
   ]
  },
  {
   "cell_type": "code",
   "execution_count": 42,
   "id": "920b372f",
   "metadata": {
    "slideshow": {
     "slide_type": "subslide"
    }
   },
   "outputs": [
    {
     "data": {
      "text/html": [
       "<table id=\"itables_52b0f683_d349_4937_a0d6_d3e15f895c08\" class=\"display cell-border\" data-quarto-disable-processing=\"true\" style=\"table-layout:auto;width:auto;margin:auto;caption-side:bottom\">\n",
       "<thead>\n",
       "    <tr style=\"text-align: right;\">\n",
       "      <th></th>\n",
       "      <th>${\\rm buff}_{L}$</th>\n",
       "      <th>${\\rm buff}_{R}$</th>\n",
       "      <th>$n_{tw}$</th>\n",
       "      <th>$sf_{ww}$</th>\n",
       "      <th>lower mask limit</th>\n",
       "      <th>upper mask limit</th>\n",
       "      <th>S/N</th>\n",
       "    </tr>\n",
       "  </thead><tbody><tr><td>Loading... (need <a href=https://mwouts.github.io/itables/troubleshooting.html>help</a>?)</td></tr></tbody>\n",
       "\n",
       "</table>\n",
       "<link href=\"https://www.unpkg.com/dt_for_itables@2.0.1/dt_bundle.css\" rel=\"stylesheet\">\n",
       "<script type=\"module\">\n",
       "    import {DataTable, jQuery as $} from 'https://www.unpkg.com/dt_for_itables@2.0.1/dt_bundle.js';\n",
       "\n",
       "    document.querySelectorAll(\"#itables_52b0f683_d349_4937_a0d6_d3e15f895c08:not(.dataTable)\").forEach(table => {\n",
       "        // Define the table data\n",
       "        const data = [[\"All\", NaN, NaN, NaN, NaN, NaN, NaN, NaN]];\n",
       "\n",
       "        // Define the dt_args\n",
       "        let dt_args = {\"columnDefs\": [{\"className\": \"dt-center\", \"width\": \"200px\", \"targets\": \"_all\"}], \"layout\": {\"topStart\": null, \"topEnd\": null, \"bottomStart\": null, \"bottomEnd\": null}, \"order\": [], \"warn_on_dom\": true};\n",
       "        dt_args[\"data\"] = data;\n",
       "\n",
       "        \n",
       "        new DataTable(table, dt_args);\n",
       "    });\n",
       "</script>\n"
      ],
      "text/plain": [
       "<IPython.core.display.HTML object>"
      ]
     },
     "metadata": {},
     "output_type": "display_data"
    }
   ],
   "source": [
    "\n",
    "mr.Table(data=parsec.df, width=\"200px\")#, text_align=\"center\")\n"
   ]
  },
  {
   "cell_type": "code",
   "execution_count": 43,
   "id": "fe3182df",
   "metadata": {
    "slideshow": {
     "slide_type": "subslide"
    }
   },
   "outputs": [
    {
     "data": {
      "text/html": [
       "\n",
       "<div style=\"text-align: center; width: 100%; border: 1px solid lightgray; margin-right: 0px; margin-top: 15px; padding-top: 40px; padding-bottom: 30px; background: white; border-radius:5px\">\n",
       "  <span style=\"font-size: 4em; color: black; font-family: monospace; \">2</span>\n",
       "  \n",
       "  <span style=\"font-size: 2em; color: gray; display: block; padding-top: 20px; font-family: monospace; line-height: 1.3em;\">Current Screen Index</span>\n",
       "</div>\n",
       "  "
      ],
      "text/plain": [
       "<widgets.numberbox.NumberBox at 0x7f5acf796fa0>"
      ]
     },
     "execution_count": 43,
     "metadata": {},
     "output_type": "execute_result"
    }
   ],
   "source": [
    "\n",
    "#if not (parsec.state_dict[\"current_state\"] >= parsec.state_map['filter']): raise parsec.StopExecution\n",
    "mr.NumberBox(data=parsec.state_dict[\"current_state\"], \n",
    "                              title=r'Current Screen Index'\n",
    "                             )"
   ]
  }
 ],
 "metadata": {
  "celltoolbar": "Slideshow",
  "kernelspec": {
   "display_name": "casa38",
   "language": "python",
   "name": "casa38"
  },
  "language_info": {
   "codemirror_mode": {
    "name": "ipython",
    "version": 3
   },
   "file_extension": ".py",
   "mimetype": "text/x-python",
   "name": "python",
   "nbconvert_exporter": "python",
   "pygments_lexer": "ipython3",
   "version": "3.8.13"
  }
 },
 "nbformat": 4,
 "nbformat_minor": 5
}
